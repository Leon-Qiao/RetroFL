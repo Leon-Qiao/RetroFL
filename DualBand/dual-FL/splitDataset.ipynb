{
 "cells": [
  {
   "cell_type": "code",
   "execution_count": 20,
   "id": "cd52c8ec-b42f-454f-bff3-a5d665e497ea",
   "metadata": {},
   "outputs": [],
   "source": [
    "import pandas as pd\n",
    "import numpy as np"
   ]
  },
  {
   "cell_type": "code",
   "execution_count": 35,
   "id": "285e5fc4-23e8-45cf-991c-adda46ec838a",
   "metadata": {},
   "outputs": [],
   "source": [
    "df = pd.read_csv('Dualbad_Coupler_40000_10_60.csv')"
   ]
  },
  {
   "cell_type": "code",
   "execution_count": 36,
   "id": "adf21837-bbc6-4caa-958b-8648736d8c84",
   "metadata": {},
   "outputs": [
    {
     "name": "stdout",
     "output_type": "stream",
     "text": [
      "2.1\n",
      "2.2\n",
      "2.3\n",
      "2.4\n"
     ]
    }
   ],
   "source": [
    "t = df[df['freq'] == 2.0].sample(frac=1).reset_index(drop=True)\n",
    "df1 = t[:2000]\n",
    "df2 = t[2000:]\n",
    "for i in range(21, 25):\n",
    "    print(i / 10)\n",
    "    t = df[df['freq'] == round(i / 10, 1)].sample(frac=1).reset_index(drop=True)\n",
    "    df1 = pd.concat([df1, t[:2000]], ignore_index=True)\n",
    "    df2 = pd.concat([df2, t[2000:]], ignore_index=True)"
   ]
  },
  {
   "cell_type": "code",
   "execution_count": 37,
   "id": "031cb34a-397d-418c-b4e1-f514a96bca90",
   "metadata": {},
   "outputs": [
    {
     "name": "stdout",
     "output_type": "stream",
     "text": [
      "5.1\n",
      "5.2\n",
      "5.3\n",
      "5.4\n"
     ]
    }
   ],
   "source": [
    "t = df[df['freq'] == 5.0].sample(frac=1).reset_index(drop=True)\n",
    "df1 = pd.concat([df1, t[:2000]], ignore_index=True)\n",
    "df3 = t[2000:]\n",
    "for i in range(51, 55):\n",
    "    print(i / 10)\n",
    "    t = df[df['freq'] == round(i / 10, 1)].sample(frac=1).reset_index(drop=True)\n",
    "    df1 = pd.concat([df1, t[:2000]], ignore_index=True)\n",
    "    df3 = pd.concat([df3, t[2000:]], ignore_index=True)"
   ]
  },
  {
   "cell_type": "code",
   "execution_count": 41,
   "id": "6dd6a6ba-dd9f-4288-8e70-0c1682b1187f",
   "metadata": {},
   "outputs": [],
   "source": [
    "df1.to_csv('testset.csv', index=False)"
   ]
  },
  {
   "cell_type": "code",
   "execution_count": 42,
   "id": "3bb19ca0-aa04-4cbe-8455-e5b02176d0bb",
   "metadata": {},
   "outputs": [],
   "source": [
    "df2.to_csv('20-24Trainset.csv', index=False)"
   ]
  },
  {
   "cell_type": "code",
   "execution_count": 43,
   "id": "59089575-5987-4951-8214-dfac93ae16f9",
   "metadata": {},
   "outputs": [],
   "source": [
    "df3.to_csv('50-54Trainset.csv', index=False)"
   ]
  },
  {
   "cell_type": "code",
   "execution_count": null,
   "id": "1a3ebd98-72c0-48eb-8f3d-d19610324946",
   "metadata": {},
   "outputs": [],
   "source": []
  }
 ],
 "metadata": {
  "kernelspec": {
   "display_name": "Python 3 (ipykernel)",
   "language": "python",
   "name": "python3"
  },
  "language_info": {
   "codemirror_mode": {
    "name": "ipython",
    "version": 3
   },
   "file_extension": ".py",
   "mimetype": "text/x-python",
   "name": "python",
   "nbconvert_exporter": "python",
   "pygments_lexer": "ipython3",
   "version": "3.9.17"
  }
 },
 "nbformat": 4,
 "nbformat_minor": 5
}
