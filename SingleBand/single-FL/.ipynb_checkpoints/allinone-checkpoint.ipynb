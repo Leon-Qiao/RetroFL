{
 "cells": [
  {
   "cell_type": "code",
   "execution_count": 1,
   "id": "8c608589-38d1-4291-9d7a-aab7bc14d637",
   "metadata": {},
   "outputs": [
    {
     "name": "stderr",
     "output_type": "stream",
     "text": [
      "2023-09-14 13:38:26.769259: I tensorflow/core/platform/cpu_feature_guard.cc:182] This TensorFlow binary is optimized to use available CPU instructions in performance-critical operations.\n",
      "To enable the following instructions: AVX2 AVX512F FMA, in other operations, rebuild TensorFlow with the appropriate compiler flags.\n",
      "2023-09-14 13:38:27.238654: W tensorflow/compiler/tf2tensorrt/utils/py_utils.cc:38] TF-TRT Warning: Could not find TensorRT\n"
     ]
    }
   ],
   "source": [
    "import pandas as pd\n",
    "import tensorflow as tf\n",
    "import numpy as np\n",
    "from sklearn.model_selection import train_test_split\n",
    "from matplotlib import pyplot as plt\n",
    "# from sklearn.preprocessing import MinMaxScaler"
   ]
  },
  {
   "cell_type": "code",
   "execution_count": 2,
   "id": "5c7a8e7f-dda0-4da3-ac9f-1a202412bf8c",
   "metadata": {},
   "outputs": [],
   "source": [
    "num_epochs = 150\n",
    "batch_size = 256\n",
    "learning_rate = 0.001"
   ]
  },
  {
   "cell_type": "code",
   "execution_count": 3,
   "id": "9bbdf31e-0c54-4813-a858-dd7a386706d4",
   "metadata": {},
   "outputs": [
    {
     "name": "stderr",
     "output_type": "stream",
     "text": [
      "2023-09-14 13:38:29.245814: I tensorflow/core/common_runtime/gpu/gpu_device.cc:1639] Created device /job:localhost/replica:0/task:0/device:GPU:0 with 9604 MB memory:  -> device: 0, name: NVIDIA GeForce RTX 2080 Ti, pci bus id: 0000:17:00.0, compute capability: 7.5\n",
      "2023-09-14 13:38:29.246300: I tensorflow/core/common_runtime/gpu/gpu_device.cc:1639] Created device /job:localhost/replica:0/task:0/device:GPU:1 with 9621 MB memory:  -> device: 1, name: NVIDIA GeForce RTX 2080 Ti, pci bus id: 0000:65:00.0, compute capability: 7.5\n"
     ]
    }
   ],
   "source": [
    "AS_dataset1 = pd.read_csv('./24Train.csv', encoding='utf-8')\n",
    "AS_dataset2 = pd.read_csv('./25Train.csv', encoding='utf-8')\n",
    "AS_dataset3 = pd.read_csv('./26Train.csv', encoding='utf-8')\n",
    "AS_dataset = pd.concat([AS_dataset1, AS_dataset2, AS_dataset3], ignore_index=True).sample(frac=1).reset_index(drop=True)\n",
    "full_X = AS_dataset.loc[:,'freq':'L4'].to_numpy(dtype = np.float32)\n",
    "full_y = AS_dataset.loc[:,'S11r':'S41i'].to_numpy(dtype = np.float32)\n",
    "# X_train, X_vali, y_train, y_vali = train_test_split(full_X, full_y, test_size=0.05, random_state=0)\n",
    "dataset_train = tf.data.Dataset.from_tensor_slices((full_X, full_y))\n",
    "dataset_train = dataset_train.shuffle(buffer_size=full_X.shape[0])\n",
    "dataset_train = dataset_train.batch(batch_size)\n",
    "dataset_train = dataset_train.prefetch(tf.data.experimental.AUTOTUNE)"
   ]
  },
  {
   "cell_type": "code",
   "execution_count": 4,
   "id": "93a772a7-0d13-45e5-98a7-ed63b35a5d55",
   "metadata": {},
   "outputs": [],
   "source": [
    "test_dataset = pd.read_csv('./Test.csv', encoding='utf-8')\n",
    "X_vali = test_dataset.loc[:,'freq':'L4'].to_numpy(dtype = np.float32)\n",
    "y_vali = test_dataset.loc[:,'S11r':'S41i'].to_numpy(dtype = np.float32)"
   ]
  },
  {
   "cell_type": "code",
   "execution_count": 5,
   "id": "b3164e72-8011-4a74-a092-64d3277122fa",
   "metadata": {},
   "outputs": [],
   "source": [
    "class MLP(tf.keras.Model):\n",
    "    def __init__(self):\n",
    "        super().__init__()\n",
    "        self.dense1 = tf.keras.layers.Dense(units=512, activation=tf.nn.leaky_relu)\n",
    "        self.dense2 = tf.keras.layers.Dense(units=1024, activation=tf.nn.leaky_relu)\n",
    "        self.dense3 = tf.keras.layers.Dense(units=512, activation=tf.nn.leaky_relu)\n",
    "        self.dense4 = tf.keras.layers.Dense(units=256, activation=tf.nn.leaky_relu)\n",
    "        self.dense5 = tf.keras.layers.Dense(units=8)\n",
    "    \n",
    "#     @tf.function\n",
    "    def call(self, inputs):\n",
    "        x = self.dense1(inputs)\n",
    "        x = self.dense2(x)\n",
    "        x = self.dense3(x)\n",
    "        x = self.dense4(x)\n",
    "        output = self.dense5(x)\n",
    "        return output"
   ]
  },
  {
   "cell_type": "code",
   "execution_count": 6,
   "id": "976e83e0-9533-43ab-8f76-5835136e48c8",
   "metadata": {},
   "outputs": [],
   "source": [
    "model = MLP()\n",
    "optimizer = tf.keras.optimizers.Adam(learning_rate=learning_rate)"
   ]
  },
  {
   "cell_type": "code",
   "execution_count": 7,
   "id": "79cb66cb-824a-4000-8ae6-8a6aaa3876ef",
   "metadata": {},
   "outputs": [
    {
     "name": "stderr",
     "output_type": "stream",
     "text": [
      "2023-09-14 13:38:29.990771: I tensorflow/compiler/xla/service/service.cc:168] XLA service 0x55c790ea8cd0 initialized for platform CUDA (this does not guarantee that XLA will be used). Devices:\n",
      "2023-09-14 13:38:29.990792: I tensorflow/compiler/xla/service/service.cc:176]   StreamExecutor device (0): NVIDIA GeForce RTX 2080 Ti, Compute Capability 7.5\n",
      "2023-09-14 13:38:29.990796: I tensorflow/compiler/xla/service/service.cc:176]   StreamExecutor device (1): NVIDIA GeForce RTX 2080 Ti, Compute Capability 7.5\n",
      "2023-09-14 13:38:29.993841: I tensorflow/compiler/mlir/tensorflow/utils/dump_mlir_util.cc:255] disabling MLIR crash reproducer, set env var `MLIR_CRASH_REPRODUCER_DIRECTORY` to enable.\n",
      "2023-09-14 13:38:30.095241: I tensorflow/compiler/xla/stream_executor/cuda/cuda_dnn.cc:432] Loaded cuDNN version 8600\n",
      "2023-09-14 13:38:30.202976: I ./tensorflow/compiler/jit/device_compiler.h:186] Compiled cluster using XLA!  This line is logged at most once for the lifetime of the process.\n"
     ]
    },
    {
     "name": "stdout",
     "output_type": "stream",
     "text": [
      "WARNING:tensorflow:5 out of the last 5 calls to <function _BaseOptimizer._update_step_xla at 0x7fcdd00cc790> triggered tf.function retracing. Tracing is expensive and the excessive number of tracings could be due to (1) creating @tf.function repeatedly in a loop, (2) passing tensors with different shapes, (3) passing Python objects instead of tensors. For (1), please define your @tf.function outside of the loop. For (2), @tf.function has reduce_retracing=True option that can avoid unnecessary retracing. For (3), please refer to https://www.tensorflow.org/guide/function#controlling_retracing and https://www.tensorflow.org/api_docs/python/tf/function for  more details.\n",
      "WARNING:tensorflow:6 out of the last 6 calls to <function _BaseOptimizer._update_step_xla at 0x7fcdd00cc790> triggered tf.function retracing. Tracing is expensive and the excessive number of tracings could be due to (1) creating @tf.function repeatedly in a loop, (2) passing tensors with different shapes, (3) passing Python objects instead of tensors. For (1), please define your @tf.function outside of the loop. For (2), @tf.function has reduce_retracing=True option that can avoid unnecessary retracing. For (3), please refer to https://www.tensorflow.org/guide/function#controlling_retracing and https://www.tensorflow.org/api_docs/python/tf/function for  more details.\n",
      "epoch:0\n",
      "train mse:0.09579752385616302 rmse:0.3095117509365082 mae:0.2529468834400177 r2:0.20419204235076904 EC:0.348508358001709\n",
      "vali mse:0.08498461544513702 rmse:0.29152119159698486 mae:0.23452599346637726 r2:0.29650741815567017\n",
      "epoch:10\n",
      "train mse:0.04618287459015846 rmse:0.21490201354026794 mae:0.1664806604385376 r2:0.6185859441757202 EC:0.6817071437835693\n",
      "vali mse:0.04373873397707939 rmse:0.20913806557655334 mae:0.16446690261363983 r2:0.6379358768463135\n",
      "epoch:20\n",
      "train mse:0.03434622660279274 rmse:0.18532735109329224 mae:0.14209063351154327 r2:0.7135708928108215 EC:0.6895444989204407\n",
      "vali mse:0.03686736524105072 rmse:0.19200876355171204 mae:0.14879068732261658 r2:0.6948163509368896\n",
      "epoch:30\n",
      "train mse:0.022179553285241127 rmse:0.14892801642417908 mae:0.11440329998731613 r2:0.8157339692115784 EC:0.7766431570053101\n",
      "vali mse:0.024861495941877365 rmse:0.15767528116703033 mae:0.1207016184926033 r2:0.7941994667053223\n",
      "epoch:40\n",
      "train mse:0.014188626781105995 rmse:0.11911602318286896 mae:0.0888710469007492 r2:0.8821116089820862 EC:0.8569456934928894\n",
      "vali mse:0.014632124453783035 rmse:0.12096332013607025 mae:0.09025374054908752 r2:0.8788769841194153\n",
      "epoch:50\n",
      "train mse:0.00917441863566637 rmse:0.09578318148851395 mae:0.07277932018041611 r2:0.9238941669464111 EC:0.9054868817329407\n",
      "vali mse:0.014367587864398956 rmse:0.11986487358808517 mae:0.08954065293073654 r2:0.8810667991638184\n",
      "epoch:60\n",
      "train mse:0.008182302117347717 rmse:0.09045607596635818 mae:0.06804437190294266 r2:0.9322508573532104 EC:0.89048832654953\n",
      "vali mse:0.01006684172898531 rmse:0.10033365339040756 mae:0.07443878054618835 r2:0.9166678786277771\n",
      "epoch:70\n",
      "train mse:0.009314355440437794 rmse:0.09651090949773788 mae:0.07012693583965302 r2:0.9228271842002869 EC:0.8926665186882019\n",
      "vali mse:0.014069657772779465 rmse:0.11861558258533478 mae:0.08910418301820755 r2:0.8835330009460449\n",
      "epoch:80\n",
      "train mse:0.00965808890759945 rmse:0.0982755720615387 mae:0.07318256795406342 r2:0.9200350642204285 EC:0.9139268398284912\n",
      "vali mse:0.008715502917766571 rmse:0.09335685521364212 mae:0.06958147883415222 r2:0.927854061126709\n",
      "epoch:90\n",
      "train mse:0.007556329946964979 rmse:0.0869271531701088 mae:0.06608740240335464 r2:0.9369946122169495 EC:0.9328409433364868\n",
      "vali mse:0.007321477402001619 rmse:0.08556563407182693 mae:0.06331056356430054 r2:0.9393936991691589\n",
      "epoch:100\n",
      "train mse:0.006932851858437061 rmse:0.08326374739408493 mae:0.061737705022096634 r2:0.9426962733268738 EC:0.9293405413627625\n",
      "vali mse:0.008883762173354626 rmse:0.09425371140241623 mae:0.06986543536186218 r2:0.9264612793922424\n",
      "epoch:110\n",
      "train mse:0.006695406977087259 rmse:0.08182546496391296 mae:0.059951718896627426 r2:0.9446924328804016 EC:0.910658061504364\n",
      "vali mse:0.01327621191740036 rmse:0.11522244662046432 mae:0.08547540754079819 r2:0.8901010751724243\n",
      "epoch:120\n",
      "train mse:0.004993542563170195 rmse:0.07066500186920166 mae:0.05310972407460213 r2:0.9582211375236511 EC:0.9551783800125122\n",
      "vali mse:0.006374796386808157 rmse:0.07984232157468796 mae:0.05898985639214516 r2:0.9472301602363586\n",
      "epoch:130\n",
      "train mse:0.006482252851128578 rmse:0.08051243424415588 mae:0.05927509069442749 r2:0.946445643901825 EC:0.9020115733146667\n",
      "vali mse:0.009080364368855953 rmse:0.09529094398021698 mae:0.07070454955101013 r2:0.9248338341712952\n",
      "epoch:140\n",
      "train mse:0.010716860182583332 rmse:0.10352227091789246 mae:0.07449554651975632 r2:0.9109333753585815 EC:0.9138312935829163\n",
      "vali mse:0.00915954727679491 rmse:0.09570552408695221 mae:0.06998053938150406 r2:0.9241783618927002\n",
      "epoch:149\n",
      "train mse:0.004911692347377539 rmse:0.07008346915245056 mae:0.050871867686510086 r2:0.9590871334075928 EC:0.9200155138969421\n",
      "vali mse:0.006810625083744526 rmse:0.08252651244401932 mae:0.060406215488910675 r2:0.9436224699020386\n"
     ]
    },
    {
     "data": {
      "image/png": "[encoded data removed]",
      "text/plain": [
       "<Figure size 640x480 with 1 Axes>"
      ]
     },
     "metadata": {},
     "output_type": "display_data"
    }
   ],
   "source": [
    "showX = [0, 10, 20, 30, 40, 50, 60, 70, 80, 90, 100, 110, 120, 130, 140, 149]\n",
    "showY1 = []\n",
    "showY2 = []\n",
    "\n",
    "for epoch_index in range(num_epochs):\n",
    "    for X, y in dataset_train:\n",
    "        with tf.GradientTape() as tape:\n",
    "            y_pred = model(X)\n",
    "            tr_mse = tf.reduce_mean(tf.square(y_pred - y))\n",
    "        grads = tape.gradient(tr_mse, model.variables)\n",
    "        optimizer.apply_gradients(grads_and_vars=zip(grads, model.variables))\n",
    "    if epoch_index % 10 == 0 or epoch_index == num_epochs - 1:\n",
    "        tr_EC = tf.reduce_mean(tf.reduce_sum(tf.square(y_pred), axis=1))\n",
    "        tr_rmse = tf.sqrt(tr_mse)\n",
    "        tr_mae = tf.reduce_mean(tf.abs(y_pred - y))\n",
    "        tr_r2 = 1 - tf.reduce_sum(tf.square(y_pred - y)) / tf.reduce_sum(tf.square(y - tf.reduce_mean(y)))\n",
    "        print(\"epoch:{}\".format(epoch_index))\n",
    "        print(\"train mse:{} rmse:{} mae:{} r2:{} EC:{}\".format(tr_mse, tr_rmse, tr_mae, tr_r2, tr_EC))\n",
    "        y_v_p = model(X_vali)\n",
    "        va_mse = tf.reduce_mean(tf.square(y_v_p - y_vali))\n",
    "        va_rmse = tf.sqrt(va_mse)\n",
    "        va_mae = tf.reduce_mean(tf.abs(y_v_p - y_vali))\n",
    "        va_r2 = 1 - tf.reduce_sum(tf.square(y_v_p - y_vali)) / tf.reduce_sum(tf.square(y_vali - tf.reduce_mean(y_vali)))\n",
    "        print(\"vali mse:{} rmse:{} mae:{} r2:{}\".format(va_mse, va_rmse, va_mae, va_r2))\n",
    "        showY1.append(tr_r2)\n",
    "        showY2.append(va_r2)\n",
    "plt.plot(showX, showY1)\n",
    "plt.plot(showX, showY2)\n",
    "plt.ylim(0, 1)\n",
    "plt.show()"
   ]
  },
  {
   "cell_type": "code",
   "execution_count": null,
   "id": "66b25f44-70f2-4fc2-9656-bd9ac8af0c71",
   "metadata": {},
   "outputs": [],
   "source": []
  }
 ],
 "metadata": {
  "kernelspec": {
   "display_name": "Python 3 (ipykernel)",
   "language": "python",
   "name": "python3"
  },
  "language_info": {
   "codemirror_mode": {
    "name": "ipython",
    "version": 3
   },
   "file_extension": ".py",
   "mimetype": "text/x-python",
   "name": "python",
   "nbconvert_exporter": "python",
   "pygments_lexer": "ipython3",
   "version": "3.9.17"
  }
 },
 "nbformat": 4,
 "nbformat_minor": 5
}
