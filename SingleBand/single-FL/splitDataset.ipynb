{
 "cells": [
  {
   "cell_type": "code",
   "execution_count": 1,
   "id": "6874455c-2f48-4076-ace7-2b8e671c6dea",
   "metadata": {},
   "outputs": [],
   "source": [
    "import pandas as pd\n",
    "import numpy as np"
   ]
  },
  {
   "cell_type": "code",
   "execution_count": 17,
   "id": "2af6898f-a27c-49df-a1da-bd9ce7b4ef93",
   "metadata": {},
   "outputs": [],
   "source": [
    "df = pd.read_csv('../Arbitrary_Single_band_Coupler_Phase_Shift.csv')"
   ]
  },
  {
   "cell_type": "code",
   "execution_count": 30,
   "id": "c45b9bd7-5c53-4b67-a724-0993ab73332a",
   "metadata": {},
   "outputs": [],
   "source": [
    "t1 = df[df['freq'] == 2.4].sample(frac=1).reset_index(drop=True)\n",
    "t2 = df[df['freq'] == 2.5].sample(frac=1).reset_index(drop=True)\n",
    "t3 = df[df['freq'] == 2.6].sample(frac=1).reset_index(drop=True)"
   ]
  },
  {
   "cell_type": "code",
   "execution_count": 31,
   "id": "ea15480b-ba7f-4a6b-bf5e-4e74d947d0e3",
   "metadata": {},
   "outputs": [],
   "source": [
    "testset = pd.concat([t1[:1500], t2[:1500], t3[:1500]], ignore_index=True)"
   ]
  },
  {
   "cell_type": "code",
   "execution_count": 33,
   "id": "bd36df40-d8cf-4d3e-b655-af9ae1f6203e",
   "metadata": {},
   "outputs": [],
   "source": [
    "testset.to_csv('Test.csv', index=False)"
   ]
  },
  {
   "cell_type": "code",
   "execution_count": 35,
   "id": "e443da6a-7760-47de-a5b3-b8caacfcb8b6",
   "metadata": {},
   "outputs": [],
   "source": [
    "t1[1500:].to_csv('24Train.csv', index=False)"
   ]
  },
  {
   "cell_type": "code",
   "execution_count": 36,
   "id": "f846f5fd-eb15-4cd9-a0d1-3f056fd6cab1",
   "metadata": {},
   "outputs": [],
   "source": [
    "t2[1500:].to_csv('25Train.csv', index=False)"
   ]
  },
  {
   "cell_type": "code",
   "execution_count": 37,
   "id": "1e21e091-1ab6-4464-b513-330a5c1002dc",
   "metadata": {},
   "outputs": [],
   "source": [
    "t3[1500:].to_csv('26Train.csv', index=False)"
   ]
  },
  {
   "cell_type": "code",
   "execution_count": null,
   "id": "56bc5831-c9ed-48c6-bf8a-e664d2c1ba05",
   "metadata": {},
   "outputs": [],
   "source": []
  }
 ],
 "metadata": {
  "kernelspec": {
   "display_name": "Python 3 (ipykernel)",
   "language": "python",
   "name": "python3"
  },
  "language_info": {
   "codemirror_mode": {
    "name": "ipython",
    "version": 3
   },
   "file_extension": ".py",
   "mimetype": "text/x-python",
   "name": "python",
   "nbconvert_exporter": "python",
   "pygments_lexer": "ipython3",
   "version": "3.9.17"
  }
 },
 "nbformat": 4,
 "nbformat_minor": 5
}
