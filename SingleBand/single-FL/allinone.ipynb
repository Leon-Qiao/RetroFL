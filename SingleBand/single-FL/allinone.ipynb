{
 "cells": [
  {
   "cell_type": "code",
   "execution_count": 1,
   "id": "8c608589-38d1-4291-9d7a-aab7bc14d637",
   "metadata": {},
   "outputs": [
    {
     "name": "stderr",
     "output_type": "stream",
     "text": [
      "2023-09-26 22:42:29.002339: I tensorflow/core/platform/cpu_feature_guard.cc:182] This TensorFlow binary is optimized to use available CPU instructions in performance-critical operations.\n",
      "To enable the following instructions: AVX2 AVX512F FMA, in other operations, rebuild TensorFlow with the appropriate compiler flags.\n",
      "2023-09-26 22:42:29.470310: W tensorflow/compiler/tf2tensorrt/utils/py_utils.cc:38] TF-TRT Warning: Could not find TensorRT\n"
     ]
    }
   ],
   "source": [
    "import pandas as pd\n",
    "import tensorflow as tf\n",
    "import numpy as np\n",
    "from sklearn.model_selection import train_test_split\n",
    "from matplotlib import pyplot as plt\n",
    "# from sklearn.preprocessing import MinMaxScaler"
   ]
  },
  {
   "cell_type": "code",
   "execution_count": 2,
   "id": "5c7a8e7f-dda0-4da3-ac9f-1a202412bf8c",
   "metadata": {},
   "outputs": [],
   "source": [
    "num_epochs = 150\n",
    "batch_size = 256\n",
    "learning_rate = 0.001"
   ]
  },
  {
   "cell_type": "code",
   "execution_count": 3,
   "id": "9bbdf31e-0c54-4813-a858-dd7a386706d4",
   "metadata": {},
   "outputs": [
    {
     "name": "stderr",
     "output_type": "stream",
     "text": [
      "2023-09-26 22:42:31.488254: I tensorflow/core/common_runtime/gpu/gpu_device.cc:1639] Created device /job:localhost/replica:0/task:0/device:GPU:0 with 9604 MB memory:  -> device: 0, name: NVIDIA GeForce RTX 2080 Ti, pci bus id: 0000:17:00.0, compute capability: 7.5\n",
      "2023-09-26 22:42:31.488722: I tensorflow/core/common_runtime/gpu/gpu_device.cc:1639] Created device /job:localhost/replica:0/task:0/device:GPU:1 with 9621 MB memory:  -> device: 1, name: NVIDIA GeForce RTX 2080 Ti, pci bus id: 0000:65:00.0, compute capability: 7.5\n"
     ]
    }
   ],
   "source": [
    "AS_dataset1 = pd.read_csv('./24Train.csv', encoding='utf-8')\n",
    "AS_dataset2 = pd.read_csv('./25Train.csv', encoding='utf-8')\n",
    "AS_dataset3 = pd.read_csv('./26Train.csv', encoding='utf-8')\n",
    "AS_dataset = pd.concat([AS_dataset1, AS_dataset2, AS_dataset3], ignore_index=True).sample(frac=1).reset_index(drop=True)\n",
    "full_X = AS_dataset.loc[:,'freq':'L4'].to_numpy(dtype = np.float32)\n",
    "full_y = AS_dataset.loc[:,'S11r':'S41i'].to_numpy(dtype = np.float32)\n",
    "# X_train, X_vali, y_train, y_vali = train_test_split(full_X, full_y, test_size=0.05, random_state=0)\n",
    "dataset_train = tf.data.Dataset.from_tensor_slices((full_X, full_y))\n",
    "dataset_train = dataset_train.shuffle(buffer_size=full_X.shape[0])\n",
    "dataset_train = dataset_train.batch(batch_size)\n",
    "dataset_train = dataset_train.prefetch(tf.data.experimental.AUTOTUNE)"
   ]
  },
  {
   "cell_type": "code",
   "execution_count": 4,
   "id": "93a772a7-0d13-45e5-98a7-ed63b35a5d55",
   "metadata": {},
   "outputs": [],
   "source": [
    "test_dataset = pd.read_csv('./Test.csv', encoding='utf-8')\n",
    "X_vali = test_dataset.loc[:,'freq':'L4'].to_numpy(dtype = np.float32)\n",
    "y_vali = test_dataset.loc[:,'S11r':'S41i'].to_numpy(dtype = np.float32)"
   ]
  },
  {
   "cell_type": "code",
   "execution_count": 5,
   "id": "b3164e72-8011-4a74-a092-64d3277122fa",
   "metadata": {},
   "outputs": [],
   "source": [
    "class MLP(tf.keras.Model):\n",
    "    def __init__(self):\n",
    "        super().__init__()\n",
    "        self.dense1 = tf.keras.layers.Dense(units=512, activation=tf.nn.leaky_relu)\n",
    "        self.dense2 = tf.keras.layers.Dense(units=1024, activation=tf.nn.leaky_relu)\n",
    "        self.dense3 = tf.keras.layers.Dense(units=512, activation=tf.nn.leaky_relu)\n",
    "        self.dense4 = tf.keras.layers.Dense(units=256, activation=tf.nn.leaky_relu)\n",
    "        self.dense5 = tf.keras.layers.Dense(units=8)\n",
    "    \n",
    "#     @tf.function\n",
    "    def call(self, inputs):\n",
    "        x = self.dense1(inputs)\n",
    "        x = self.dense2(x)\n",
    "        x = self.dense3(x)\n",
    "        x = self.dense4(x)\n",
    "        output = self.dense5(x)\n",
    "        return output"
   ]
  },
  {
   "cell_type": "code",
   "execution_count": 6,
   "id": "976e83e0-9533-43ab-8f76-5835136e48c8",
   "metadata": {},
   "outputs": [],
   "source": [
    "model = MLP()\n",
    "optimizer = tf.keras.optimizers.Adam(learning_rate=learning_rate)"
   ]
  },
  {
   "cell_type": "code",
   "execution_count": 7,
   "id": "79cb66cb-824a-4000-8ae6-8a6aaa3876ef",
   "metadata": {},
   "outputs": [
    {
     "name": "stderr",
     "output_type": "stream",
     "text": [
      "2023-09-26 22:42:32.269632: I tensorflow/compiler/xla/service/service.cc:168] XLA service 0x5591fc1913f0 initialized for platform CUDA (this does not guarantee that XLA will be used). Devices:\n",
      "2023-09-26 22:42:32.269654: I tensorflow/compiler/xla/service/service.cc:176]   StreamExecutor device (0): NVIDIA GeForce RTX 2080 Ti, Compute Capability 7.5\n",
      "2023-09-26 22:42:32.269658: I tensorflow/compiler/xla/service/service.cc:176]   StreamExecutor device (1): NVIDIA GeForce RTX 2080 Ti, Compute Capability 7.5\n",
      "2023-09-26 22:42:32.273074: I tensorflow/compiler/mlir/tensorflow/utils/dump_mlir_util.cc:255] disabling MLIR crash reproducer, set env var `MLIR_CRASH_REPRODUCER_DIRECTORY` to enable.\n",
      "2023-09-26 22:42:32.377126: I tensorflow/compiler/xla/stream_executor/cuda/cuda_dnn.cc:432] Loaded cuDNN version 8600\n",
      "2023-09-26 22:42:32.483700: I ./tensorflow/compiler/jit/device_compiler.h:186] Compiled cluster using XLA!  This line is logged at most once for the lifetime of the process.\n"
     ]
    },
    {
     "name": "stdout",
     "output_type": "stream",
     "text": [
      "WARNING:tensorflow:5 out of the last 5 calls to <function _BaseOptimizer._update_step_xla at 0x7ff20c30ca60> triggered tf.function retracing. Tracing is expensive and the excessive number of tracings could be due to (1) creating @tf.function repeatedly in a loop, (2) passing tensors with different shapes, (3) passing Python objects instead of tensors. For (1), please define your @tf.function outside of the loop. For (2), @tf.function has reduce_retracing=True option that can avoid unnecessary retracing. For (3), please refer to https://www.tensorflow.org/guide/function#controlling_retracing and https://www.tensorflow.org/api_docs/python/tf/function for  more details.\n",
      "WARNING:tensorflow:6 out of the last 6 calls to <function _BaseOptimizer._update_step_xla at 0x7ff20c30ca60> triggered tf.function retracing. Tracing is expensive and the excessive number of tracings could be due to (1) creating @tf.function repeatedly in a loop, (2) passing tensors with different shapes, (3) passing Python objects instead of tensors. For (1), please define your @tf.function outside of the loop. For (2), @tf.function has reduce_retracing=True option that can avoid unnecessary retracing. For (3), please refer to https://www.tensorflow.org/guide/function#controlling_retracing and https://www.tensorflow.org/api_docs/python/tf/function for  more details.\n",
      "epoch:0\n",
      "train mse:0.09214102476835251 rmse:0.30354738235473633 mae:0.2436651587486267 r2:0.24116194248199463 EC:0.5645516514778137\n",
      "vali mse:0.10001727193593979 rmse:0.3162550628185272 mae:0.25619643926620483 r2:0.17206883430480957\n",
      "epoch:10\n",
      "train mse:0.045433785766363144 rmse:0.21315202116966248 mae:0.16939567029476166 r2:0.6240748763084412 EC:0.5648196339607239\n",
      "vali mse:0.044898368418216705 rmse:0.21189235150814056 mae:0.1660083383321762 r2:0.6283365488052368\n",
      "epoch:20\n",
      "train mse:0.031755317002534866 rmse:0.17820021510124207 mae:0.13740630447864532 r2:0.7381063103675842 EC:0.718439519405365\n",
      "vali mse:0.036401547491550446 rmse:0.19079189002513885 mae:0.14766710996627808 r2:0.6986722946166992\n",
      "epoch:30\n",
      "train mse:0.02370505779981613 rmse:0.15396445989608765 mae:0.11847938597202301 r2:0.8045383095741272 EC:0.7718908190727234\n",
      "vali mse:0.02736818790435791 rmse:0.16543333232402802 mae:0.1260169893503189 r2:0.7734493613243103\n",
      "epoch:40\n",
      "train mse:0.01889166608452797 rmse:0.13744695484638214 mae:0.10596218705177307 r2:0.8428399562835693 EC:0.871005117893219\n",
      "vali mse:0.017360400408506393 rmse:0.13175886869430542 mae:0.09970410168170929 r2:0.8562926650047302\n",
      "epoch:50\n",
      "train mse:0.011652479879558086 rmse:0.10794664919376373 mae:0.08048322796821594 r2:0.9028125405311584 EC:0.8872323632240295\n",
      "vali mse:0.012577218934893608 rmse:0.11214819550514221 mae:0.08428342640399933 r2:0.8958872556686401\n",
      "epoch:60\n",
      "train mse:0.008992140181362629 rmse:0.09482689946889877 mae:0.06910794228315353 r2:0.9246394634246826 EC:0.9151316285133362\n",
      "vali mse:0.009872532449662685 rmse:0.0993606224656105 mae:0.07471653074026108 r2:0.918276309967041\n",
      "epoch:70\n",
      "train mse:0.009254060685634613 rmse:0.09619802981615067 mae:0.07154465466737747 r2:0.923027515411377 EC:0.8935407996177673\n",
      "vali mse:0.008619296364486217 rmse:0.09284016489982605 mae:0.06894370168447495 r2:0.9286504983901978\n",
      "epoch:80\n",
      "train mse:0.009033706039190292 rmse:0.09504580497741699 mae:0.07142466306686401 r2:0.9250153303146362 EC:0.9415374398231506\n",
      "vali mse:0.010145819745957851 rmse:0.10072645545005798 mae:0.07521925866603851 r2:0.9160140752792358\n",
      "epoch:90\n",
      "train mse:0.005712393671274185 rmse:0.07558038085699081 mae:0.0572873055934906 r2:0.9528360962867737 EC:0.9338909983634949\n",
      "vali mse:0.006831125821918249 rmse:0.08265062421560287 mae:0.06117843836545944 r2:0.9434527158737183\n",
      "epoch:100\n",
      "train mse:0.0044103218242526054 rmse:0.06641025096178055 mae:0.04926493763923645 r2:0.9630934596061707 EC:0.9468421936035156\n",
      "vali mse:0.008509505540132523 rmse:0.09224697947502136 mae:0.06816792488098145 r2:0.9295593500137329\n",
      "epoch:110\n",
      "train mse:0.0045959544368088245 rmse:0.06779346615076065 mae:0.05003127455711365 r2:0.9618842005729675 EC:0.9347676634788513\n",
      "vali mse:0.00768931582570076 rmse:0.08768874406814575 mae:0.06326454132795334 r2:0.9363487362861633\n",
      "epoch:120\n",
      "train mse:0.0036936260294169188 rmse:0.060775209218263626 mae:0.045727793127298355 r2:0.9692783355712891 EC:0.9399767518043518\n",
      "vali mse:0.00556928850710392 rmse:0.07462766021490097 mae:0.05435212329030037 r2:0.9538980722427368\n",
      "epoch:130\n",
      "train mse:0.005536367651075125 rmse:0.07440677285194397 mae:0.053539928048849106 r2:0.9540805220603943 EC:0.9474635720252991\n",
      "vali mse:0.005882020108401775 rmse:0.07669432461261749 mae:0.0563054159283638 r2:0.951309323310852\n",
      "epoch:140\n",
      "train mse:0.002819507149979472 rmse:0.05309903249144554 mae:0.03949831426143646 r2:0.9766557216644287 EC:0.9625730514526367\n",
      "vali mse:0.004472206812351942 rmse:0.06687455624341965 mae:0.04869137331843376 r2:0.9629796147346497\n",
      "epoch:149\n",
      "train mse:0.0025673743803054094 rmse:0.050669264048337936 mae:0.03751778602600098 r2:0.9786192774772644 EC:0.9538431167602539\n",
      "vali mse:0.004288466647267342 rmse:0.06548638641834259 mae:0.04736628010869026 r2:0.9645006060600281\n"
     ]
    },
    {
     "data": {
      "image/png": "[encoded data removed]",
      "text/plain": [
       "<Figure size 640x480 with 1 Axes>"
      ]
     },
     "metadata": {},
     "output_type": "display_data"
    }
   ],
   "source": [
    "showX = [0, 10, 20, 30, 40, 50, 60, 70, 80, 90, 100, 110, 120, 130, 140, 149]\n",
    "showY1 = []\n",
    "showY2 = []\n",
    "\n",
    "for epoch_index in range(num_epochs):\n",
    "    for X, y in dataset_train:\n",
    "        with tf.GradientTape() as tape:\n",
    "            y_pred = model(X)\n",
    "            tr_mse = tf.reduce_mean(tf.square(y_pred - y))\n",
    "        grads = tape.gradient(tr_mse, model.variables)\n",
    "        optimizer.apply_gradients(grads_and_vars=zip(grads, model.variables))\n",
    "    if epoch_index % 10 == 0 or epoch_index == num_epochs - 1:\n",
    "        tr_EC = tf.reduce_mean(tf.reduce_sum(tf.square(y_pred), axis=1))\n",
    "        tr_rmse = tf.sqrt(tr_mse)\n",
    "        tr_mae = tf.reduce_mean(tf.abs(y_pred - y))\n",
    "        tr_r2 = 1 - tf.reduce_sum(tf.square(y_pred - y)) / tf.reduce_sum(tf.square(y - tf.reduce_mean(y)))\n",
    "        print(\"epoch:{}\".format(epoch_index))\n",
    "        print(\"train mse:{} rmse:{} mae:{} r2:{} EC:{}\".format(tr_mse, tr_rmse, tr_mae, tr_r2, tr_EC))\n",
    "        y_v_p = model(X_vali)\n",
    "        va_mse = tf.reduce_mean(tf.square(y_v_p - y_vali))\n",
    "        va_rmse = tf.sqrt(va_mse)\n",
    "        va_mae = tf.reduce_mean(tf.abs(y_v_p - y_vali))\n",
    "        va_r2 = 1 - tf.reduce_sum(tf.square(y_v_p - y_vali)) / tf.reduce_sum(tf.square(y_vali - tf.reduce_mean(y_vali)))\n",
    "        print(\"vali mse:{} rmse:{} mae:{} r2:{}\".format(va_mse, va_rmse, va_mae, va_r2))\n",
    "        showY1.append(tr_r2)\n",
    "        showY2.append(va_r2)\n",
    "        optimizer.learning_rate = optimizer.learning_rate * 0.9\n",
    "plt.plot(showX, showY1)\n",
    "plt.plot(showX, showY2)\n",
    "plt.ylim(0, 1)\n",
    "plt.show()"
   ]
  },
  {
   "cell_type": "code",
   "execution_count": null,
   "id": "66b25f44-70f2-4fc2-9656-bd9ac8af0c71",
   "metadata": {},
   "outputs": [],
   "source": []
  }
 ],
 "metadata": {
  "kernelspec": {
   "display_name": "Python 3 (ipykernel)",
   "language": "python",
   "name": "python3"
  },
  "language_info": {
   "codemirror_mode": {
    "name": "ipython",
    "version": 3
   },
   "file_extension": ".py",
   "mimetype": "text/x-python",
   "name": "python",
   "nbconvert_exporter": "python",
   "pygments_lexer": "ipython3",
   "version": "3.9.17"
  }
 },
 "nbformat": 4,
 "nbformat_minor": 5
}
