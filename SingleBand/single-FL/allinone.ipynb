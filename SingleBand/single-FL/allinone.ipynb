{
 "cells": [
  {
   "cell_type": "code",
   "execution_count": 1,
   "id": "8c608589-38d1-4291-9d7a-aab7bc14d637",
   "metadata": {},
   "outputs": [
    {
     "name": "stderr",
     "output_type": "stream",
     "text": [
      "2023-09-25 15:27:54.669791: I tensorflow/core/platform/cpu_feature_guard.cc:182] This TensorFlow binary is optimized to use available CPU instructions in performance-critical operations.\n",
      "To enable the following instructions: AVX2 AVX512F FMA, in other operations, rebuild TensorFlow with the appropriate compiler flags.\n",
      "2023-09-25 15:27:55.138756: W tensorflow/compiler/tf2tensorrt/utils/py_utils.cc:38] TF-TRT Warning: Could not find TensorRT\n"
     ]
    }
   ],
   "source": [
    "import pandas as pd\n",
    "import tensorflow as tf\n",
    "import numpy as np\n",
    "from sklearn.model_selection import train_test_split\n",
    "from matplotlib import pyplot as plt\n",
    "# from sklearn.preprocessing import MinMaxScaler"
   ]
  },
  {
   "cell_type": "code",
   "execution_count": 2,
   "id": "5c7a8e7f-dda0-4da3-ac9f-1a202412bf8c",
   "metadata": {},
   "outputs": [],
   "source": [
    "num_epochs = 150\n",
    "batch_size = 256\n",
    "learning_rate = 0.001"
   ]
  },
  {
   "cell_type": "code",
   "execution_count": 3,
   "id": "9bbdf31e-0c54-4813-a858-dd7a386706d4",
   "metadata": {},
   "outputs": [
    {
     "name": "stderr",
     "output_type": "stream",
     "text": [
      "2023-09-25 15:27:57.078660: I tensorflow/core/common_runtime/gpu/gpu_device.cc:1639] Created device /job:localhost/replica:0/task:0/device:GPU:0 with 9604 MB memory:  -> device: 0, name: NVIDIA GeForce RTX 2080 Ti, pci bus id: 0000:17:00.0, compute capability: 7.5\n",
      "2023-09-25 15:27:57.079248: I tensorflow/core/common_runtime/gpu/gpu_device.cc:1639] Created device /job:localhost/replica:0/task:0/device:GPU:1 with 9621 MB memory:  -> device: 1, name: NVIDIA GeForce RTX 2080 Ti, pci bus id: 0000:65:00.0, compute capability: 7.5\n"
     ]
    }
   ],
   "source": [
    "AS_dataset1 = pd.read_csv('./24Train.csv', encoding='utf-8')\n",
    "AS_dataset2 = pd.read_csv('./25Train.csv', encoding='utf-8')\n",
    "AS_dataset3 = pd.read_csv('./26Train.csv', encoding='utf-8')\n",
    "AS_dataset = pd.concat([AS_dataset1, AS_dataset2, AS_dataset3], ignore_index=True).sample(frac=1).reset_index(drop=True)\n",
    "full_X = AS_dataset.loc[:,'freq':'L4'].to_numpy(dtype = np.float32)\n",
    "full_y = AS_dataset.loc[:,'S11r':'S41i'].to_numpy(dtype = np.float32)\n",
    "# X_train, X_vali, y_train, y_vali = train_test_split(full_X, full_y, test_size=0.05, random_state=0)\n",
    "dataset_train = tf.data.Dataset.from_tensor_slices((full_X, full_y))\n",
    "dataset_train = dataset_train.shuffle(buffer_size=full_X.shape[0])\n",
    "dataset_train = dataset_train.batch(batch_size)\n",
    "dataset_train = dataset_train.prefetch(tf.data.experimental.AUTOTUNE)"
   ]
  },
  {
   "cell_type": "code",
   "execution_count": 4,
   "id": "93a772a7-0d13-45e5-98a7-ed63b35a5d55",
   "metadata": {},
   "outputs": [],
   "source": [
    "test_dataset = pd.read_csv('./Test.csv', encoding='utf-8')\n",
    "X_vali = test_dataset.loc[:,'freq':'L4'].to_numpy(dtype = np.float32)\n",
    "y_vali = test_dataset.loc[:,'S11r':'S41i'].to_numpy(dtype = np.float32)"
   ]
  },
  {
   "cell_type": "code",
   "execution_count": 5,
   "id": "b3164e72-8011-4a74-a092-64d3277122fa",
   "metadata": {},
   "outputs": [],
   "source": [
    "class MLP(tf.keras.Model):\n",
    "    def __init__(self):\n",
    "        super().__init__()\n",
    "        self.dense1 = tf.keras.layers.Dense(units=512, activation=tf.nn.leaky_relu)\n",
    "        self.dense2 = tf.keras.layers.Dense(units=1024, activation=tf.nn.leaky_relu)\n",
    "        self.dense3 = tf.keras.layers.Dense(units=512, activation=tf.nn.leaky_relu)\n",
    "        self.dense4 = tf.keras.layers.Dense(units=256, activation=tf.nn.leaky_relu)\n",
    "        self.dense5 = tf.keras.layers.Dense(units=8)\n",
    "    \n",
    "#     @tf.function\n",
    "    def call(self, inputs):\n",
    "        x = self.dense1(inputs)\n",
    "        x = self.dense2(x)\n",
    "        x = self.dense3(x)\n",
    "        x = self.dense4(x)\n",
    "        output = self.dense5(x)\n",
    "        return output"
   ]
  },
  {
   "cell_type": "code",
   "execution_count": 6,
   "id": "976e83e0-9533-43ab-8f76-5835136e48c8",
   "metadata": {},
   "outputs": [],
   "source": [
    "model = MLP()\n",
    "optimizer = tf.keras.optimizers.Adam(learning_rate=learning_rate)"
   ]
  },
  {
   "cell_type": "code",
   "execution_count": 7,
   "id": "79cb66cb-824a-4000-8ae6-8a6aaa3876ef",
   "metadata": {},
   "outputs": [
    {
     "name": "stderr",
     "output_type": "stream",
     "text": [
      "2023-09-25 15:27:57.806333: I tensorflow/compiler/xla/service/service.cc:168] XLA service 0x5594d6ba86d0 initialized for platform CUDA (this does not guarantee that XLA will be used). Devices:\n",
      "2023-09-25 15:27:57.806355: I tensorflow/compiler/xla/service/service.cc:176]   StreamExecutor device (0): NVIDIA GeForce RTX 2080 Ti, Compute Capability 7.5\n",
      "2023-09-25 15:27:57.806359: I tensorflow/compiler/xla/service/service.cc:176]   StreamExecutor device (1): NVIDIA GeForce RTX 2080 Ti, Compute Capability 7.5\n",
      "2023-09-25 15:27:57.809719: I tensorflow/compiler/mlir/tensorflow/utils/dump_mlir_util.cc:255] disabling MLIR crash reproducer, set env var `MLIR_CRASH_REPRODUCER_DIRECTORY` to enable.\n",
      "2023-09-25 15:27:57.917895: I tensorflow/compiler/xla/stream_executor/cuda/cuda_dnn.cc:432] Loaded cuDNN version 8600\n",
      "2023-09-25 15:27:58.023358: I ./tensorflow/compiler/jit/device_compiler.h:186] Compiled cluster using XLA!  This line is logged at most once for the lifetime of the process.\n"
     ]
    },
    {
     "name": "stdout",
     "output_type": "stream",
     "text": [
      "WARNING:tensorflow:5 out of the last 5 calls to <function _BaseOptimizer._update_step_xla at 0x7fcdfc0469d0> triggered tf.function retracing. Tracing is expensive and the excessive number of tracings could be due to (1) creating @tf.function repeatedly in a loop, (2) passing tensors with different shapes, (3) passing Python objects instead of tensors. For (1), please define your @tf.function outside of the loop. For (2), @tf.function has reduce_retracing=True option that can avoid unnecessary retracing. For (3), please refer to https://www.tensorflow.org/guide/function#controlling_retracing and https://www.tensorflow.org/api_docs/python/tf/function for  more details.\n",
      "WARNING:tensorflow:6 out of the last 6 calls to <function _BaseOptimizer._update_step_xla at 0x7fcdfc0469d0> triggered tf.function retracing. Tracing is expensive and the excessive number of tracings could be due to (1) creating @tf.function repeatedly in a loop, (2) passing tensors with different shapes, (3) passing Python objects instead of tensors. For (1), please define your @tf.function outside of the loop. For (2), @tf.function has reduce_retracing=True option that can avoid unnecessary retracing. For (3), please refer to https://www.tensorflow.org/guide/function#controlling_retracing and https://www.tensorflow.org/api_docs/python/tf/function for  more details.\n",
      "epoch:0\n",
      "train mse:0.08059506118297577 rmse:0.2838926911354065 mae:0.22999940812587738 r2:0.3283846378326416 EC:0.3128580152988434\n",
      "vali mse:0.08493293821811676 rmse:0.29143255949020386 mae:0.2352750599384308 r2:0.29693514108657837\n",
      "epoch:10\n",
      "train mse:0.0490909107029438 rmse:0.22156468033790588 mae:0.173232302069664 r2:0.5961862206459045 EC:0.5515113472938538\n",
      "vali mse:0.045592255890369415 rmse:0.21352343261241913 mae:0.16855521500110626 r2:0.6225926876068115\n",
      "epoch:20\n",
      "train mse:0.037139106541872025 rmse:0.1927150934934616 mae:0.14889714121818542 r2:0.690398097038269 EC:0.7002122402191162\n",
      "vali mse:0.03754657506942749 rmse:0.19376938045024872 mae:0.15095624327659607 r2:0.689193844795227\n",
      "epoch:30\n",
      "train mse:0.025809600949287415 rmse:0.16065366566181183 mae:0.12319210916757584 r2:0.7845390439033508 EC:0.7526166439056396\n",
      "vali mse:0.028125185519456863 rmse:0.16770564019680023 mae:0.12943479418754578 r2:0.7671830654144287\n",
      "epoch:40\n",
      "train mse:0.013236883096396923 rmse:0.11505164951086044 mae:0.08594322204589844 r2:0.890232264995575 EC:0.8294568657875061\n",
      "vali mse:0.016486696898937225 rmse:0.1284005343914032 mae:0.09654984623193741 r2:0.8635250926017761\n",
      "epoch:50\n",
      "train mse:0.010100200772285461 rmse:0.10049975663423538 mae:0.07502612471580505 r2:0.9163721203804016 EC:0.8637720346450806\n",
      "vali mse:0.011325405910611153 rmse:0.10642088949680328 mae:0.07904722541570663 r2:0.9062496423721313\n",
      "epoch:60\n",
      "train mse:0.009109636768698692 rmse:0.09544441848993301 mae:0.07141125202178955 r2:0.924822211265564 EC:0.8919080495834351\n",
      "vali mse:0.010345187038183212 rmse:0.10171128809452057 mae:0.07591326534748077 r2:0.9143637418746948\n",
      "epoch:70\n",
      "train mse:0.015741577371954918 rmse:0.12546543776988983 mae:0.09302753955125809 r2:0.869511604309082 EC:0.8782299160957336\n",
      "vali mse:0.01105489768087864 rmse:0.1051422730088234 mae:0.0778815746307373 r2:0.9084888696670532\n",
      "epoch:80\n",
      "train mse:0.0155173409730196 rmse:0.12456861883401871 mae:0.09464670717716217 r2:0.8714528679847717 EC:0.8635099530220032\n",
      "vali mse:0.010297024622559547 rmse:0.10147425532341003 mae:0.0744679644703865 r2:0.9147624373435974\n",
      "epoch:90\n",
      "train mse:0.009391001425683498 rmse:0.09690718352794647 mae:0.07207291573286057 r2:0.921977162361145 EC:0.9387089014053345\n",
      "vali mse:0.010116740129888058 rmse:0.10058200359344482 mae:0.07382988184690475 r2:0.9162548184394836\n",
      "epoch:100\n",
      "train mse:0.01092640869319439 rmse:0.10452946275472641 mae:0.07729748636484146 r2:0.9091066122055054 EC:0.9180681705474854\n",
      "vali mse:0.010912344790995121 rmse:0.104462169110775 mae:0.07633061707019806 r2:0.9096689224243164\n",
      "epoch:110\n",
      "train mse:0.012625045143067837 rmse:0.11236122250556946 mae:0.08478330820798874 r2:0.8954039216041565 EC:0.9229555130004883\n",
      "vali mse:0.01307008694857359 rmse:0.11432448029518127 mae:0.08530799299478531 r2:0.8918073773384094\n",
      "epoch:120\n",
      "train mse:0.007462085224688053 rmse:0.08638335764408112 mae:0.06410332769155502 r2:0.9380077719688416 EC:0.9313317537307739\n",
      "vali mse:0.007267368957400322 rmse:0.08524886518716812 mae:0.062426187098026276 r2:0.9398415684700012\n",
      "epoch:130\n",
      "train mse:0.009467065334320068 rmse:0.09729884564876556 mae:0.06991396099328995 r2:0.921694815158844 EC:0.9308375120162964\n",
      "vali mse:0.007541350554674864 rmse:0.08684094995260239 mae:0.06406421959400177 r2:0.9375736117362976\n",
      "epoch:140\n",
      "train mse:0.009707857854664326 rmse:0.09852845966815948 mae:0.07431211322546005 r2:0.9194976687431335 EC:0.9077982902526855\n",
      "vali mse:0.008580503985285759 rmse:0.09263100475072861 mae:0.06924505531787872 r2:0.9289715886116028\n",
      "epoch:149\n",
      "train mse:0.008779885247349739 rmse:0.09370104223489761 mae:0.069892019033432 r2:0.9273588061332703 EC:0.9325069785118103\n",
      "vali mse:0.010116761550307274 rmse:0.10058211535215378 mae:0.07543537020683289 r2:0.9162546396255493\n"
     ]
    },
    {
     "data": {
      "image/png": "[encoded data removed]",
      "text/plain": [
       "<Figure size 640x480 with 1 Axes>"
      ]
     },
     "metadata": {},
     "output_type": "display_data"
    }
   ],
   "source": [
    "showX = [0, 10, 20, 30, 40, 50, 60, 70, 80, 90, 100, 110, 120, 130, 140, 149]\n",
    "showY1 = []\n",
    "showY2 = []\n",
    "\n",
    "for epoch_index in range(num_epochs):\n",
    "    for X, y in dataset_train:\n",
    "        with tf.GradientTape() as tape:\n",
    "            y_pred = model(X)\n",
    "            tr_mse = tf.reduce_mean(tf.square(y_pred - y))\n",
    "        grads = tape.gradient(tr_mse, model.variables)\n",
    "        optimizer.apply_gradients(grads_and_vars=zip(grads, model.variables))\n",
    "    if epoch_index % 10 == 0 or epoch_index == num_epochs - 1:\n",
    "        tr_EC = tf.reduce_mean(tf.reduce_sum(tf.square(y_pred), axis=1))\n",
    "        tr_rmse = tf.sqrt(tr_mse)\n",
    "        tr_mae = tf.reduce_mean(tf.abs(y_pred - y))\n",
    "        tr_r2 = 1 - tf.reduce_sum(tf.square(y_pred - y)) / tf.reduce_sum(tf.square(y - tf.reduce_mean(y)))\n",
    "        print(\"epoch:{}\".format(epoch_index))\n",
    "        print(\"train mse:{} rmse:{} mae:{} r2:{} EC:{}\".format(tr_mse, tr_rmse, tr_mae, tr_r2, tr_EC))\n",
    "        y_v_p = model(X_vali)\n",
    "        va_mse = tf.reduce_mean(tf.square(y_v_p - y_vali))\n",
    "        va_rmse = tf.sqrt(va_mse)\n",
    "        va_mae = tf.reduce_mean(tf.abs(y_v_p - y_vali))\n",
    "        va_r2 = 1 - tf.reduce_sum(tf.square(y_v_p - y_vali)) / tf.reduce_sum(tf.square(y_vali - tf.reduce_mean(y_vali)))\n",
    "        print(\"vali mse:{} rmse:{} mae:{} r2:{}\".format(va_mse, va_rmse, va_mae, va_r2))\n",
    "        showY1.append(tr_r2)\n",
    "        showY2.append(va_r2)\n",
    "plt.plot(showX, showY1)\n",
    "plt.plot(showX, showY2)\n",
    "plt.ylim(0, 1)\n",
    "plt.show()"
   ]
  },
  {
   "cell_type": "code",
   "execution_count": null,
   "id": "66b25f44-70f2-4fc2-9656-bd9ac8af0c71",
   "metadata": {},
   "outputs": [],
   "source": []
  }
 ],
 "metadata": {
  "kernelspec": {
   "display_name": "Python 3 (ipykernel)",
   "language": "python",
   "name": "python3"
  },
  "language_info": {
   "codemirror_mode": {
    "name": "ipython",
    "version": 3
   },
   "file_extension": ".py",
   "mimetype": "text/x-python",
   "name": "python",
   "nbconvert_exporter": "python",
   "pygments_lexer": "ipython3",
   "version": "3.9.17"
  }
 },
 "nbformat": 4,
 "nbformat_minor": 5
}
