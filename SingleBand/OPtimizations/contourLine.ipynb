{
 "cells": [
  {
   "cell_type": "code",
   "execution_count": 1,
   "id": "9f5ba436-47e2-46d1-95db-19bd1212f797",
   "metadata": {},
   "outputs": [],
   "source": [
    "from sklearn.decomposition import PCA"
   ]
  },
  {
   "cell_type": "code",
   "execution_count": null,
   "id": "77891673-f1e9-4c25-996e-1544d70b6d6b",
   "metadata": {},
   "outputs": [],
   "source": []
  },
  {
   "cell_type": "code",
   "execution_count": 2,
   "id": "30d2bada-810a-4603-be99-d5968c5747bf",
   "metadata": {},
   "outputs": [
    {
     "name": "stderr",
     "output_type": "stream",
     "text": [
      "2024-03-28 13:37:23.021904: I tensorflow/core/platform/cpu_feature_guard.cc:182] This TensorFlow binary is optimized to use available CPU instructions in performance-critical operations.\n",
      "To enable the following instructions: AVX2 AVX512F FMA, in other operations, rebuild TensorFlow with the appropriate compiler flags.\n",
      "2024-03-28 13:37:23.493432: W tensorflow/compiler/tf2tensorrt/utils/py_utils.cc:38] TF-TRT Warning: Could not find TensorRT\n"
     ]
    }
   ],
   "source": [
    "import tensorflow as tf"
   ]
  },
  {
   "cell_type": "code",
   "execution_count": 3,
   "id": "7fef8701-ba23-4674-a8aa-0b90ca9a7c48",
   "metadata": {},
   "outputs": [],
   "source": [
    "from tensorflow.keras.models import load_model"
   ]
  },
  {
   "cell_type": "code",
   "execution_count": 1,
   "id": "fab0763c-8b5b-4b65-ade6-8c6cd202e75b",
   "metadata": {},
   "outputs": [],
   "source": [
    "import numpy as np"
   ]
  },
  {
   "cell_type": "code",
   "execution_count": null,
   "id": "f019500a-009f-487c-8cf1-992dcf2d065e",
   "metadata": {},
   "outputs": [],
   "source": []
  },
  {
   "cell_type": "code",
   "execution_count": 5,
   "id": "bcd50bea-6992-4b4a-ac37-58b31dfdb3ce",
   "metadata": {},
   "outputs": [
    {
     "name": "stdout",
     "output_type": "stream",
     "text": [
      "WARNING:tensorflow:No training configuration found in the save file, so the model was *not* compiled. Compile it manually.\n"
     ]
    },
    {
     "name": "stderr",
     "output_type": "stream",
     "text": [
      "2024-03-28 13:37:25.034060: I tensorflow/core/common_runtime/gpu/gpu_device.cc:1639] Created device /job:localhost/replica:0/task:0/device:GPU:0 with 9604 MB memory:  -> device: 0, name: NVIDIA GeForce RTX 2080 Ti, pci bus id: 0000:17:00.0, compute capability: 7.5\n",
      "2024-03-28 13:37:25.034582: I tensorflow/core/common_runtime/gpu/gpu_device.cc:1639] Created device /job:localhost/replica:0/task:0/device:GPU:1 with 9621 MB memory:  -> device: 1, name: NVIDIA GeForce RTX 2080 Ti, pci bus id: 0000:65:00.0, compute capability: 7.5\n"
     ]
    }
   ],
   "source": [
    "model = load_model('surogate.h5')"
   ]
  },
  {
   "cell_type": "code",
   "execution_count": null,
   "id": "c781bb4a-6b23-4552-8016-f6ba2d965647",
   "metadata": {},
   "outputs": [],
   "source": []
  },
  {
   "cell_type": "code",
   "execution_count": 6,
   "id": "5793d801-5fb0-4a39-b7b8-80599deb41ff",
   "metadata": {},
   "outputs": [],
   "source": [
    "num_nodes = 1000000"
   ]
  },
  {
   "cell_type": "code",
   "execution_count": null,
   "id": "8aa31d13-f472-4b84-8864-b43a9eefbb62",
   "metadata": {},
   "outputs": [],
   "source": []
  },
  {
   "cell_type": "code",
   "execution_count": 7,
   "id": "14c97003-a06e-41a8-a2f1-0185089a7536",
   "metadata": {},
   "outputs": [],
   "source": [
    "# 物理边界\n",
    "mmin = np.array([1, 1, 1, 1, 1, 1, 1, 1, 4, 4, 4, 4])\n",
    "mmax = np.array([5, 5, 5, 5, 5, 5, 5, 5, 100, 100, 100, 100])"
   ]
  },
  {
   "cell_type": "code",
   "execution_count": null,
   "id": "d988f36b-63f9-4e29-944a-4555ec685c35",
   "metadata": {},
   "outputs": [],
   "source": []
  },
  {
   "cell_type": "code",
   "execution_count": 8,
   "id": "17073410-ba21-4daa-a528-c97b70e40712",
   "metadata": {},
   "outputs": [],
   "source": [
    "geom = np.random.uniform(mmin, mmax, (num_nodes, 12))\n",
    "freq1 = np.ones((num_nodes, 1), dtype=np.float32) * 2.4\n",
    "freq2 = np.ones((num_nodes, 1), dtype=np.float32) * 2.5\n",
    "freq3 = np.ones((num_nodes, 1), dtype=np.float32) * 2.6"
   ]
  },
  {
   "cell_type": "code",
   "execution_count": 9,
   "id": "f45ceeb7-7474-484c-a1a7-9e5a64b518a7",
   "metadata": {},
   "outputs": [],
   "source": [
    "# 特定频率\n",
    "def loss_freq(s_para):\n",
    "    # 能量\n",
    "    E = np.square(s_para)\n",
    "    E11 = E[:,0] + E[:,1]\n",
    "    E21 = E[:,2] + E[:,3]\n",
    "    E31 = E[:,4] + E[:,5]\n",
    "    E41 = E[:,6] + E[:,7]\n",
    "\n",
    "    # 压制\n",
    "    loss1 = E11 - E21 - E31 + E41\n",
    "    # 比例\n",
    "    loss2 = np.abs(E21 / (E31 + E21) - 0.7)\n",
    "    # phase\n",
    "    loss3 = np.abs(np.arctan2(s_para[:,3], s_para[:,2]) - np.arctan2(s_para[:,5], s_para[:,4]) - np.pi / 4)\n",
    "    # 能量守恒\n",
    "    loss4 = np.abs(np.sum(E, axis=1) - 1)\n",
    "    \n",
    "    return loss1 + loss2 + loss3 + loss4"
   ]
  },
  {
   "cell_type": "code",
   "execution_count": 10,
   "id": "72fd0cc3-22a6-4b23-b133-1e10c7f68e62",
   "metadata": {},
   "outputs": [],
   "source": [
    "def dgn_obj(s1, s2, s3):\n",
    "    # return tf.reduce_max([loss_freq(s1), loss_freq(s2), loss_freq(s3)], axis=0)\n",
    "    return loss_freq(s1) + loss_freq(s2) + loss_freq(s3)"
   ]
  },
  {
   "cell_type": "code",
   "execution_count": null,
   "id": "92b246a2-dbcb-4895-87c0-e1f5c1d304fd",
   "metadata": {},
   "outputs": [],
   "source": []
  },
  {
   "cell_type": "code",
   "execution_count": 11,
   "id": "6965abe6-3e9b-46c2-8caa-25acfcb613cf",
   "metadata": {},
   "outputs": [],
   "source": [
    "y_pred1 = model.predict(np.concatenate((freq1, geom), axis=-1), batch_size=10000, verbose=0)\n",
    "y_pred2 = model.predict(np.concatenate((freq2, geom), axis=-1), batch_size=10000, verbose=0)\n",
    "y_pred3 = model.predict(np.concatenate((freq3, geom), axis=-1), batch_size=10000, verbose=0)\n",
    "loss = dgn_obj(y_pred1, y_pred2, y_pred3)"
   ]
  },
  {
   "cell_type": "code",
   "execution_count": null,
   "id": "a95ded98-b137-4ee6-8e90-64618d79b580",
   "metadata": {},
   "outputs": [],
   "source": []
  },
  {
   "cell_type": "code",
   "execution_count": 12,
   "id": "9dfc0162-ab1f-48b8-9822-e6f8ebaa5f3c",
   "metadata": {},
   "outputs": [],
   "source": [
    "pca = PCA(n_components=2)"
   ]
  },
  {
   "cell_type": "code",
   "execution_count": 13,
   "id": "d5203b74-750b-4c8c-aa71-413085c94e2e",
   "metadata": {},
   "outputs": [],
   "source": [
    "geom2d = pca.fit_transform(geom)"
   ]
  },
  {
   "cell_type": "code",
   "execution_count": 19,
   "id": "dda5d257-56e5-4e59-9fdb-07175a997347",
   "metadata": {},
   "outputs": [],
   "source": [
    "xyz = np.concatenate([geom2d, loss.reshape(-1,1)], axis=-1)"
   ]
  },
  {
   "cell_type": "code",
   "execution_count": 23,
   "id": "9549fc28-dffa-4edb-ac23-8441e2f6a14a",
   "metadata": {},
   "outputs": [],
   "source": [
    "import pandas as pd\n",
    "df = pd.DataFrame(xyz)"
   ]
  },
  {
   "cell_type": "code",
   "execution_count": null,
   "id": "9b0e8526-dfe5-48d2-b921-f6e1248e0956",
   "metadata": {},
   "outputs": [],
   "source": [
    "df.to_csv('contourLine.csv', index=False)"
   ]
  },
  {
   "cell_type": "code",
   "execution_count": null,
   "id": "594b6b19-5e19-45a2-b0d6-58759b890875",
   "metadata": {},
   "outputs": [],
   "source": []
  },
  {
   "cell_type": "code",
   "execution_count": 3,
   "id": "d4a7ae88-e43d-412b-8532-8bc0276a64c8",
   "metadata": {},
   "outputs": [],
   "source": [
    "AS_dataset = pd.read_csv('./../Arbitrary_Single_band_Coupler_Phase_Shift.csv', encoding='utf-8')\n",
    "full_X = AS_dataset.loc[:,'freq':'L4'].to_numpy(dtype = np.float32)\n",
    "full_y = AS_dataset.loc[:,'S11r':'S41i'].to_numpy(dtype = np.float32)"
   ]
  },
  {
   "cell_type": "code",
   "execution_count": null,
   "id": "efbf325b-dcff-4b05-b8b8-672276374f82",
   "metadata": {},
   "outputs": [],
   "source": []
  },
  {
   "cell_type": "code",
   "execution_count": null,
   "id": "192a985d-be7e-43bb-8a7f-fff30918695c",
   "metadata": {},
   "outputs": [],
   "source": []
  },
  {
   "cell_type": "code",
   "execution_count": 47,
   "id": "2761f071-6a1e-4cdc-b475-3395b774e713",
   "metadata": {},
   "outputs": [],
   "source": [
    "geomDS = full_X[:30000, 1:]"
   ]
  },
  {
   "cell_type": "code",
   "execution_count": 38,
   "id": "12a4ffd8-7852-46e6-8e13-3a17dc1d33e3",
   "metadata": {},
   "outputs": [],
   "source": [
    "spDS1 = full_y[:30000]\n",
    "spDS2 = full_y[30000:60000]\n",
    "spDS3 = full_y[60000:]"
   ]
  },
  {
   "cell_type": "code",
   "execution_count": 52,
   "id": "00875bd0-d059-430c-bed3-f2bc4a66187b",
   "metadata": {},
   "outputs": [],
   "source": [
    "lossDS = dgn_obj(spDS1, spDS2, spDS3)"
   ]
  },
  {
   "cell_type": "code",
   "execution_count": 53,
   "id": "84f10630-c3ff-476d-9732-ba24214b475e",
   "metadata": {},
   "outputs": [],
   "source": [
    "pca = PCA(n_components=2)"
   ]
  },
  {
   "cell_type": "code",
   "execution_count": 54,
   "id": "13b35868-c002-457d-a4fc-0f7567f21144",
   "metadata": {},
   "outputs": [],
   "source": [
    "geom2dDS = pca.fit_transform(geomDS)"
   ]
  },
  {
   "cell_type": "code",
   "execution_count": 57,
   "id": "46932a41-b3cc-44a4-b515-1abee10740fa",
   "metadata": {},
   "outputs": [],
   "source": [
    "xyzDS = np.concatenate([geom2dDS, lossDS.reshape(-1,1)], axis=-1)"
   ]
  },
  {
   "cell_type": "code",
   "execution_count": 59,
   "id": "758036ca-ef28-4d93-99d7-0f8daff7cfcd",
   "metadata": {},
   "outputs": [],
   "source": [
    "dfDS = pd.DataFrame(xyzDS)"
   ]
  },
  {
   "cell_type": "code",
   "execution_count": 60,
   "id": "fa1d3c59-50d0-48a3-85a8-55d82a870697",
   "metadata": {},
   "outputs": [],
   "source": [
    "dfDS.to_csv('contourLineDS.csv', index=False)"
   ]
  },
  {
   "cell_type": "code",
   "execution_count": null,
   "id": "c27d3397-6e32-4282-9813-31541127732e",
   "metadata": {},
   "outputs": [],
   "source": []
  },
  {
   "cell_type": "code",
   "execution_count": 72,
   "id": "f565fee5-6a80-442c-ae7f-4a0e93dba946",
   "metadata": {},
   "outputs": [],
   "source": [
    "xyzDS2 = np.concatenate([geomDS, lossDS.reshape(-1,1)], axis=-1)"
   ]
  },
  {
   "cell_type": "code",
   "execution_count": 74,
   "id": "7fdf28dc-f0f9-4f73-a156-6cee22772ef2",
   "metadata": {},
   "outputs": [],
   "source": [
    "dfDS2 = pd.DataFrame(xyzDS2)"
   ]
  },
  {
   "cell_type": "code",
   "execution_count": 75,
   "id": "15efe1af-9bad-4dc9-adf1-bd01762eced4",
   "metadata": {},
   "outputs": [],
   "source": [
    "dfDS2.to_csv('contourLineDS2.csv', index=False)"
   ]
  },
  {
   "cell_type": "code",
   "execution_count": null,
   "id": "58c6ac7c-0eff-4462-92ac-02898a0870ed",
   "metadata": {},
   "outputs": [],
   "source": []
  },
  {
   "cell_type": "code",
   "execution_count": null,
   "id": "784b1549-deb7-4a17-976f-2e84d5ae43fe",
   "metadata": {},
   "outputs": [],
   "source": []
  },
  {
   "cell_type": "code",
   "execution_count": null,
   "id": "a2f2ca66-29fa-49e3-9870-e7616823705d",
   "metadata": {},
   "outputs": [],
   "source": []
  },
  {
   "cell_type": "code",
   "execution_count": 102,
   "id": "3fcedb1a-7791-4248-9647-f3fd0286e2df",
   "metadata": {},
   "outputs": [],
   "source": [
    "geom_1 = np.random.uniform(mmin[10:], mmax[10:], (100000, 2))"
   ]
  },
  {
   "cell_type": "code",
   "execution_count": 103,
   "id": "5753c696-d13b-4c73-812a-78fc1cf8de58",
   "metadata": {},
   "outputs": [],
   "source": [
    "geom_2 = np.array([[3.44724455,  4.14013981,  1.47784882,  4.72966386,  4.0446644,   1.72812159,  3.18981245,  3.37078851, 55.18916198, 63.89162806]])"
   ]
  },
  {
   "cell_type": "code",
   "execution_count": 104,
   "id": "d1392c7c-4a37-478f-9aa0-8b0504bf4ef1",
   "metadata": {},
   "outputs": [],
   "source": [
    "geom_2 = geom_2.repeat(100000, axis=0)"
   ]
  },
  {
   "cell_type": "code",
   "execution_count": 105,
   "id": "66924f6f-465b-4660-99c4-1470dbc87223",
   "metadata": {},
   "outputs": [],
   "source": [
    "geom_3 = np.concatenate([geom_2, geom_1], axis=-1)"
   ]
  },
  {
   "cell_type": "code",
   "execution_count": 107,
   "id": "a6f1a9fb-d250-48ee-8237-1bad8f028445",
   "metadata": {},
   "outputs": [],
   "source": [
    "y_pred1 = model.predict(np.concatenate((freq1[:100000], geom_3), axis=-1), batch_size=10000, verbose=0)\n",
    "y_pred2 = model.predict(np.concatenate((freq2[:100000], geom_3), axis=-1), batch_size=10000, verbose=0)\n",
    "y_pred3 = model.predict(np.concatenate((freq3[:100000], geom_3), axis=-1), batch_size=10000, verbose=0)\n",
    "loss_3 = dgn_obj(y_pred1, y_pred2, y_pred3)"
   ]
  },
  {
   "cell_type": "code",
   "execution_count": 108,
   "id": "93572499-f800-4ca0-8393-1a64872022b7",
   "metadata": {},
   "outputs": [],
   "source": [
    "xyz3 = np.concatenate([geom_3, loss_3.reshape(-1,1)], axis=-1)"
   ]
  },
  {
   "cell_type": "code",
   "execution_count": 109,
   "id": "83fe97c4-f552-4ec6-84c8-4b5d4c19afa3",
   "metadata": {},
   "outputs": [],
   "source": [
    "df3 = pd.DataFrame(xyz3)"
   ]
  },
  {
   "cell_type": "code",
   "execution_count": 110,
   "id": "e2af1115-95cd-4c38-96da-c5cdd937238a",
   "metadata": {},
   "outputs": [],
   "source": [
    "df3.to_csv('contourLine3.csv', index=False)"
   ]
  },
  {
   "cell_type": "code",
   "execution_count": null,
   "id": "24d17368-21fa-4c53-8241-5139cf5dd284",
   "metadata": {},
   "outputs": [],
   "source": []
  },
  {
   "cell_type": "code",
   "execution_count": 111,
   "id": "fad5b4c1-046d-4eb0-993a-49601d6393b2",
   "metadata": {},
   "outputs": [],
   "source": [
    "import matplotlib.pyplot as plt"
   ]
  },
  {
   "cell_type": "code",
   "execution_count": null,
   "id": "1c74839a-d694-495e-a3bb-48c20136a9cb",
   "metadata": {},
   "outputs": [],
   "source": []
  },
  {
   "cell_type": "code",
   "execution_count": 115,
   "id": "88ebea3c-9407-4fd6-9f7f-80871fa28692",
   "metadata": {},
   "outputs": [
    {
     "ename": "TypeError",
     "evalue": "Input z must be 2D, not 1D",
     "output_type": "error",
     "traceback": [
      "\u001b[0;31m---------------------------------------------------------------------------\u001b[0m",
      "\u001b[0;31mTypeError\u001b[0m                                 Traceback (most recent call last)",
      "Cell \u001b[0;32mIn[115], line 1\u001b[0m\n\u001b[0;32m----> 1\u001b[0m \u001b[43mplt\u001b[49m\u001b[38;5;241;43m.\u001b[39;49m\u001b[43mcontourf\u001b[49m\u001b[43m(\u001b[49m\u001b[43mgeom_1\u001b[49m\u001b[43m[\u001b[49m\u001b[43m:\u001b[49m\u001b[43m,\u001b[49m\u001b[38;5;241;43m0\u001b[39;49m\u001b[43m]\u001b[49m\u001b[43m,\u001b[49m\u001b[43m \u001b[49m\u001b[43mgeom_2\u001b[49m\u001b[43m[\u001b[49m\u001b[43m:\u001b[49m\u001b[43m,\u001b[49m\u001b[38;5;241;43m1\u001b[39;49m\u001b[43m]\u001b[49m\u001b[43m,\u001b[49m\u001b[43m \u001b[49m\u001b[43mloss_3\u001b[49m\u001b[43m,\u001b[49m\u001b[43m  \u001b[49m\u001b[38;5;241;43m20\u001b[39;49m\u001b[43m,\u001b[49m\u001b[43m \u001b[49m\u001b[43mcmap\u001b[49m\u001b[38;5;241;43m=\u001b[39;49m\u001b[38;5;124;43m'\u001b[39;49m\u001b[38;5;124;43mRdGy\u001b[39;49m\u001b[38;5;124;43m'\u001b[39;49m\u001b[43m)\u001b[49m\n",
      "File \u001b[0;32m~/miniconda3/envs/jt_ma/lib/python3.9/site-packages/matplotlib/pyplot.py:2537\u001b[0m, in \u001b[0;36mcontourf\u001b[0;34m(data, *args, **kwargs)\u001b[0m\n\u001b[1;32m   2535\u001b[0m \u001b[38;5;129m@_copy_docstring_and_deprecators\u001b[39m(Axes\u001b[38;5;241m.\u001b[39mcontourf)\n\u001b[1;32m   2536\u001b[0m \u001b[38;5;28;01mdef\u001b[39;00m \u001b[38;5;21mcontourf\u001b[39m(\u001b[38;5;241m*\u001b[39margs, data\u001b[38;5;241m=\u001b[39m\u001b[38;5;28;01mNone\u001b[39;00m, \u001b[38;5;241m*\u001b[39m\u001b[38;5;241m*\u001b[39mkwargs):\n\u001b[0;32m-> 2537\u001b[0m     __ret \u001b[38;5;241m=\u001b[39m \u001b[43mgca\u001b[49m\u001b[43m(\u001b[49m\u001b[43m)\u001b[49m\u001b[38;5;241;43m.\u001b[39;49m\u001b[43mcontourf\u001b[49m\u001b[43m(\u001b[49m\n\u001b[1;32m   2538\u001b[0m \u001b[43m        \u001b[49m\u001b[38;5;241;43m*\u001b[39;49m\u001b[43margs\u001b[49m\u001b[43m,\u001b[49m\u001b[43m \u001b[49m\u001b[38;5;241;43m*\u001b[39;49m\u001b[38;5;241;43m*\u001b[39;49m\u001b[43m(\u001b[49m\u001b[43m{\u001b[49m\u001b[38;5;124;43m\"\u001b[39;49m\u001b[38;5;124;43mdata\u001b[39;49m\u001b[38;5;124;43m\"\u001b[39;49m\u001b[43m:\u001b[49m\u001b[43m \u001b[49m\u001b[43mdata\u001b[49m\u001b[43m}\u001b[49m\u001b[43m \u001b[49m\u001b[38;5;28;43;01mif\u001b[39;49;00m\u001b[43m \u001b[49m\u001b[43mdata\u001b[49m\u001b[43m \u001b[49m\u001b[38;5;129;43;01mis\u001b[39;49;00m\u001b[43m \u001b[49m\u001b[38;5;129;43;01mnot\u001b[39;49;00m\u001b[43m \u001b[49m\u001b[38;5;28;43;01mNone\u001b[39;49;00m\u001b[43m \u001b[49m\u001b[38;5;28;43;01melse\u001b[39;49;00m\u001b[43m \u001b[49m\u001b[43m{\u001b[49m\u001b[43m}\u001b[49m\u001b[43m)\u001b[49m\u001b[43m,\u001b[49m\n\u001b[1;32m   2539\u001b[0m \u001b[43m        \u001b[49m\u001b[38;5;241;43m*\u001b[39;49m\u001b[38;5;241;43m*\u001b[39;49m\u001b[43mkwargs\u001b[49m\u001b[43m)\u001b[49m\n\u001b[1;32m   2540\u001b[0m     \u001b[38;5;28;01mif\u001b[39;00m __ret\u001b[38;5;241m.\u001b[39m_A \u001b[38;5;129;01mis\u001b[39;00m \u001b[38;5;129;01mnot\u001b[39;00m \u001b[38;5;28;01mNone\u001b[39;00m: sci(__ret)  \u001b[38;5;66;03m# noqa\u001b[39;00m\n\u001b[1;32m   2541\u001b[0m     \u001b[38;5;28;01mreturn\u001b[39;00m __ret\n",
      "File \u001b[0;32m~/miniconda3/envs/jt_ma/lib/python3.9/site-packages/matplotlib/__init__.py:1446\u001b[0m, in \u001b[0;36m_preprocess_data.<locals>.inner\u001b[0;34m(ax, data, *args, **kwargs)\u001b[0m\n\u001b[1;32m   1443\u001b[0m \u001b[38;5;129m@functools\u001b[39m\u001b[38;5;241m.\u001b[39mwraps(func)\n\u001b[1;32m   1444\u001b[0m \u001b[38;5;28;01mdef\u001b[39;00m \u001b[38;5;21minner\u001b[39m(ax, \u001b[38;5;241m*\u001b[39margs, data\u001b[38;5;241m=\u001b[39m\u001b[38;5;28;01mNone\u001b[39;00m, \u001b[38;5;241m*\u001b[39m\u001b[38;5;241m*\u001b[39mkwargs):\n\u001b[1;32m   1445\u001b[0m     \u001b[38;5;28;01mif\u001b[39;00m data \u001b[38;5;129;01mis\u001b[39;00m \u001b[38;5;28;01mNone\u001b[39;00m:\n\u001b[0;32m-> 1446\u001b[0m         \u001b[38;5;28;01mreturn\u001b[39;00m \u001b[43mfunc\u001b[49m\u001b[43m(\u001b[49m\u001b[43max\u001b[49m\u001b[43m,\u001b[49m\u001b[43m \u001b[49m\u001b[38;5;241;43m*\u001b[39;49m\u001b[38;5;28;43mmap\u001b[39;49m\u001b[43m(\u001b[49m\u001b[43msanitize_sequence\u001b[49m\u001b[43m,\u001b[49m\u001b[43m \u001b[49m\u001b[43margs\u001b[49m\u001b[43m)\u001b[49m\u001b[43m,\u001b[49m\u001b[43m \u001b[49m\u001b[38;5;241;43m*\u001b[39;49m\u001b[38;5;241;43m*\u001b[39;49m\u001b[43mkwargs\u001b[49m\u001b[43m)\u001b[49m\n\u001b[1;32m   1448\u001b[0m     bound \u001b[38;5;241m=\u001b[39m new_sig\u001b[38;5;241m.\u001b[39mbind(ax, \u001b[38;5;241m*\u001b[39margs, \u001b[38;5;241m*\u001b[39m\u001b[38;5;241m*\u001b[39mkwargs)\n\u001b[1;32m   1449\u001b[0m     auto_label \u001b[38;5;241m=\u001b[39m (bound\u001b[38;5;241m.\u001b[39marguments\u001b[38;5;241m.\u001b[39mget(label_namer)\n\u001b[1;32m   1450\u001b[0m                   \u001b[38;5;129;01mor\u001b[39;00m bound\u001b[38;5;241m.\u001b[39mkwargs\u001b[38;5;241m.\u001b[39mget(label_namer))\n",
      "File \u001b[0;32m~/miniconda3/envs/jt_ma/lib/python3.9/site-packages/matplotlib/axes/_axes.py:6465\u001b[0m, in \u001b[0;36mAxes.contourf\u001b[0;34m(self, *args, **kwargs)\u001b[0m\n\u001b[1;32m   6456\u001b[0m \u001b[38;5;250m\u001b[39m\u001b[38;5;124;03m\"\"\"\u001b[39;00m\n\u001b[1;32m   6457\u001b[0m \u001b[38;5;124;03mPlot filled contours.\u001b[39;00m\n\u001b[1;32m   6458\u001b[0m \n\u001b[0;32m   (...)\u001b[0m\n\u001b[1;32m   6462\u001b[0m \u001b[38;5;124;03m%(contour_doc)s\u001b[39;00m\n\u001b[1;32m   6463\u001b[0m \u001b[38;5;124;03m\"\"\"\u001b[39;00m\n\u001b[1;32m   6464\u001b[0m kwargs[\u001b[38;5;124m'\u001b[39m\u001b[38;5;124mfilled\u001b[39m\u001b[38;5;124m'\u001b[39m] \u001b[38;5;241m=\u001b[39m \u001b[38;5;28;01mTrue\u001b[39;00m\n\u001b[0;32m-> 6465\u001b[0m contours \u001b[38;5;241m=\u001b[39m \u001b[43mmcontour\u001b[49m\u001b[38;5;241;43m.\u001b[39;49m\u001b[43mQuadContourSet\u001b[49m\u001b[43m(\u001b[49m\u001b[38;5;28;43mself\u001b[39;49m\u001b[43m,\u001b[49m\u001b[43m \u001b[49m\u001b[38;5;241;43m*\u001b[39;49m\u001b[43margs\u001b[49m\u001b[43m,\u001b[49m\u001b[43m \u001b[49m\u001b[38;5;241;43m*\u001b[39;49m\u001b[38;5;241;43m*\u001b[39;49m\u001b[43mkwargs\u001b[49m\u001b[43m)\u001b[49m\n\u001b[1;32m   6466\u001b[0m \u001b[38;5;28mself\u001b[39m\u001b[38;5;241m.\u001b[39m_request_autoscale_view()\n\u001b[1;32m   6467\u001b[0m \u001b[38;5;28;01mreturn\u001b[39;00m contours\n",
      "File \u001b[0;32m~/miniconda3/envs/jt_ma/lib/python3.9/site-packages/matplotlib/contour.py:769\u001b[0m, in \u001b[0;36mContourSet.__init__\u001b[0;34m(self, ax, levels, filled, linewidths, linestyles, hatches, alpha, origin, extent, cmap, colors, norm, vmin, vmax, extend, antialiased, nchunk, locator, transform, negative_linestyles, *args, **kwargs)\u001b[0m\n\u001b[1;32m    765\u001b[0m \u001b[38;5;28;01mif\u001b[39;00m \u001b[38;5;28mself\u001b[39m\u001b[38;5;241m.\u001b[39mnegative_linestyles \u001b[38;5;129;01mis\u001b[39;00m \u001b[38;5;28;01mNone\u001b[39;00m:\n\u001b[1;32m    766\u001b[0m     \u001b[38;5;28mself\u001b[39m\u001b[38;5;241m.\u001b[39mnegative_linestyles \u001b[38;5;241m=\u001b[39m \\\n\u001b[1;32m    767\u001b[0m         mpl\u001b[38;5;241m.\u001b[39mrcParams[\u001b[38;5;124m'\u001b[39m\u001b[38;5;124mcontour.negative_linestyle\u001b[39m\u001b[38;5;124m'\u001b[39m]\n\u001b[0;32m--> 769\u001b[0m kwargs \u001b[38;5;241m=\u001b[39m \u001b[38;5;28;43mself\u001b[39;49m\u001b[38;5;241;43m.\u001b[39;49m\u001b[43m_process_args\u001b[49m\u001b[43m(\u001b[49m\u001b[38;5;241;43m*\u001b[39;49m\u001b[43margs\u001b[49m\u001b[43m,\u001b[49m\u001b[43m \u001b[49m\u001b[38;5;241;43m*\u001b[39;49m\u001b[38;5;241;43m*\u001b[39;49m\u001b[43mkwargs\u001b[49m\u001b[43m)\u001b[49m\n\u001b[1;32m    770\u001b[0m \u001b[38;5;28mself\u001b[39m\u001b[38;5;241m.\u001b[39m_process_levels()\n\u001b[1;32m    772\u001b[0m \u001b[38;5;28mself\u001b[39m\u001b[38;5;241m.\u001b[39m_extend_min \u001b[38;5;241m=\u001b[39m \u001b[38;5;28mself\u001b[39m\u001b[38;5;241m.\u001b[39mextend \u001b[38;5;129;01min\u001b[39;00m [\u001b[38;5;124m'\u001b[39m\u001b[38;5;124mmin\u001b[39m\u001b[38;5;124m'\u001b[39m, \u001b[38;5;124m'\u001b[39m\u001b[38;5;124mboth\u001b[39m\u001b[38;5;124m'\u001b[39m]\n",
      "File \u001b[0;32m~/miniconda3/envs/jt_ma/lib/python3.9/site-packages/matplotlib/contour.py:1411\u001b[0m, in \u001b[0;36mQuadContourSet._process_args\u001b[0;34m(self, corner_mask, algorithm, *args, **kwargs)\u001b[0m\n\u001b[1;32m   1408\u001b[0m         corner_mask \u001b[38;5;241m=\u001b[39m mpl\u001b[38;5;241m.\u001b[39mrcParams[\u001b[38;5;124m'\u001b[39m\u001b[38;5;124mcontour.corner_mask\u001b[39m\u001b[38;5;124m'\u001b[39m]\n\u001b[1;32m   1409\u001b[0m \u001b[38;5;28mself\u001b[39m\u001b[38;5;241m.\u001b[39m_corner_mask \u001b[38;5;241m=\u001b[39m corner_mask\n\u001b[0;32m-> 1411\u001b[0m x, y, z \u001b[38;5;241m=\u001b[39m \u001b[38;5;28;43mself\u001b[39;49m\u001b[38;5;241;43m.\u001b[39;49m\u001b[43m_contour_args\u001b[49m\u001b[43m(\u001b[49m\u001b[43margs\u001b[49m\u001b[43m,\u001b[49m\u001b[43m \u001b[49m\u001b[43mkwargs\u001b[49m\u001b[43m)\u001b[49m\n\u001b[1;32m   1413\u001b[0m contour_generator \u001b[38;5;241m=\u001b[39m contourpy\u001b[38;5;241m.\u001b[39mcontour_generator(\n\u001b[1;32m   1414\u001b[0m     x, y, z, name\u001b[38;5;241m=\u001b[39m\u001b[38;5;28mself\u001b[39m\u001b[38;5;241m.\u001b[39m_algorithm, corner_mask\u001b[38;5;241m=\u001b[39m\u001b[38;5;28mself\u001b[39m\u001b[38;5;241m.\u001b[39m_corner_mask,\n\u001b[1;32m   1415\u001b[0m     line_type\u001b[38;5;241m=\u001b[39mcontourpy\u001b[38;5;241m.\u001b[39mLineType\u001b[38;5;241m.\u001b[39mSeparateCode,\n\u001b[1;32m   1416\u001b[0m     fill_type\u001b[38;5;241m=\u001b[39mcontourpy\u001b[38;5;241m.\u001b[39mFillType\u001b[38;5;241m.\u001b[39mOuterCode,\n\u001b[1;32m   1417\u001b[0m     chunk_size\u001b[38;5;241m=\u001b[39m\u001b[38;5;28mself\u001b[39m\u001b[38;5;241m.\u001b[39mnchunk)\n\u001b[1;32m   1419\u001b[0m t \u001b[38;5;241m=\u001b[39m \u001b[38;5;28mself\u001b[39m\u001b[38;5;241m.\u001b[39mget_transform()\n",
      "File \u001b[0;32m~/miniconda3/envs/jt_ma/lib/python3.9/site-packages/matplotlib/contour.py:1450\u001b[0m, in \u001b[0;36mQuadContourSet._contour_args\u001b[0;34m(self, args, kwargs)\u001b[0m\n\u001b[1;32m   1448\u001b[0m \u001b[38;5;28;01melif\u001b[39;00m nargs \u001b[38;5;241m<\u001b[39m\u001b[38;5;241m=\u001b[39m \u001b[38;5;241m4\u001b[39m:\n\u001b[1;32m   1449\u001b[0m     x, y, z_orig, \u001b[38;5;241m*\u001b[39margs \u001b[38;5;241m=\u001b[39m args\n\u001b[0;32m-> 1450\u001b[0m     x, y, z \u001b[38;5;241m=\u001b[39m \u001b[38;5;28;43mself\u001b[39;49m\u001b[38;5;241;43m.\u001b[39;49m\u001b[43m_check_xyz\u001b[49m\u001b[43m(\u001b[49m\u001b[43mx\u001b[49m\u001b[43m,\u001b[49m\u001b[43m \u001b[49m\u001b[43my\u001b[49m\u001b[43m,\u001b[49m\u001b[43m \u001b[49m\u001b[43mz_orig\u001b[49m\u001b[43m,\u001b[49m\u001b[43m \u001b[49m\u001b[43mkwargs\u001b[49m\u001b[43m)\u001b[49m\n\u001b[1;32m   1451\u001b[0m \u001b[38;5;28;01melse\u001b[39;00m:\n\u001b[1;32m   1452\u001b[0m     \u001b[38;5;28;01mraise\u001b[39;00m _api\u001b[38;5;241m.\u001b[39mnargs_error(fn, takes\u001b[38;5;241m=\u001b[39m\u001b[38;5;124m\"\u001b[39m\u001b[38;5;124mfrom 1 to 4\u001b[39m\u001b[38;5;124m\"\u001b[39m, given\u001b[38;5;241m=\u001b[39mnargs)\n",
      "File \u001b[0;32m~/miniconda3/envs/jt_ma/lib/python3.9/site-packages/matplotlib/contour.py:1475\u001b[0m, in \u001b[0;36mQuadContourSet._check_xyz\u001b[0;34m(self, x, y, z, kwargs)\u001b[0m\n\u001b[1;32m   1472\u001b[0m z \u001b[38;5;241m=\u001b[39m ma\u001b[38;5;241m.\u001b[39masarray(z)\n\u001b[1;32m   1474\u001b[0m \u001b[38;5;28;01mif\u001b[39;00m z\u001b[38;5;241m.\u001b[39mndim \u001b[38;5;241m!=\u001b[39m \u001b[38;5;241m2\u001b[39m:\n\u001b[0;32m-> 1475\u001b[0m     \u001b[38;5;28;01mraise\u001b[39;00m \u001b[38;5;167;01mTypeError\u001b[39;00m(\u001b[38;5;124mf\u001b[39m\u001b[38;5;124m\"\u001b[39m\u001b[38;5;124mInput z must be 2D, not \u001b[39m\u001b[38;5;132;01m{\u001b[39;00mz\u001b[38;5;241m.\u001b[39mndim\u001b[38;5;132;01m}\u001b[39;00m\u001b[38;5;124mD\u001b[39m\u001b[38;5;124m\"\u001b[39m)\n\u001b[1;32m   1476\u001b[0m \u001b[38;5;28;01mif\u001b[39;00m z\u001b[38;5;241m.\u001b[39mshape[\u001b[38;5;241m0\u001b[39m] \u001b[38;5;241m<\u001b[39m \u001b[38;5;241m2\u001b[39m \u001b[38;5;129;01mor\u001b[39;00m z\u001b[38;5;241m.\u001b[39mshape[\u001b[38;5;241m1\u001b[39m] \u001b[38;5;241m<\u001b[39m \u001b[38;5;241m2\u001b[39m:\n\u001b[1;32m   1477\u001b[0m     \u001b[38;5;28;01mraise\u001b[39;00m \u001b[38;5;167;01mTypeError\u001b[39;00m(\u001b[38;5;124mf\u001b[39m\u001b[38;5;124m\"\u001b[39m\u001b[38;5;124mInput z must be at least a (2, 2) shaped array, \u001b[39m\u001b[38;5;124m\"\u001b[39m\n\u001b[1;32m   1478\u001b[0m                     \u001b[38;5;124mf\u001b[39m\u001b[38;5;124m\"\u001b[39m\u001b[38;5;124mbut has shape \u001b[39m\u001b[38;5;132;01m{\u001b[39;00mz\u001b[38;5;241m.\u001b[39mshape\u001b[38;5;132;01m}\u001b[39;00m\u001b[38;5;124m\"\u001b[39m)\n",
      "\u001b[0;31mTypeError\u001b[0m: Input z must be 2D, not 1D"
     ]
    },
    {
     "data": {
      "image/png": "[encoded data removed]",
      "text/plain": [
       "<Figure size 640x480 with 1 Axes>"
      ]
     },
     "metadata": {},
     "output_type": "display_data"
    }
   ],
   "source": [
    "plt.contourf(geom_1[:,0], geom_2[:,1], loss_3,  20, cmap='RdGy')"
   ]
  },
  {
   "cell_type": "code",
   "execution_count": null,
   "id": "0723370a-7e43-4749-bacf-4a46ebe4dd23",
   "metadata": {},
   "outputs": [],
   "source": []
  }
 ],
 "metadata": {
  "kernelspec": {
   "display_name": "Python 3 (ipykernel)",
   "language": "python",
   "name": "python3"
  },
  "language_info": {
   "codemirror_mode": {
    "name": "ipython",
    "version": 3
   },
   "file_extension": ".py",
   "mimetype": "text/x-python",
   "name": "python",
   "nbconvert_exporter": "python",
   "pygments_lexer": "ipython3",
   "version": "3.9.17"
  }
 },
 "nbformat": 4,
 "nbformat_minor": 5
}
