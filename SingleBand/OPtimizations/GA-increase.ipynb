{
 "cells": [
  {
   "cell_type": "code",
   "execution_count": 1,
   "id": "07037b4a-235e-418e-a02e-63dd6e1fc94e",
   "metadata": {},
   "outputs": [],
   "source": [
    "import time"
   ]
  },
  {
   "cell_type": "code",
   "execution_count": 2,
   "id": "ed9490c9-8fbc-4105-8f19-5177e4ab46ec",
   "metadata": {},
   "outputs": [
    {
     "name": "stderr",
     "output_type": "stream",
     "text": [
      "2024-04-09 04:29:51.244841: I tensorflow/core/platform/cpu_feature_guard.cc:182] This TensorFlow binary is optimized to use available CPU instructions in performance-critical operations.\n",
      "To enable the following instructions: AVX2 AVX512F FMA, in other operations, rebuild TensorFlow with the appropriate compiler flags.\n",
      "2024-04-09 04:29:51.844896: W tensorflow/compiler/tf2tensorrt/utils/py_utils.cc:38] TF-TRT Warning: Could not find TensorRT\n"
     ]
    }
   ],
   "source": [
    "from tensorflow.keras.models import load_model"
   ]
  },
  {
   "cell_type": "code",
   "execution_count": 3,
   "id": "538ae5d5-21eb-471e-a262-4c9755c9e1c2",
   "metadata": {},
   "outputs": [],
   "source": [
    "from deap import base, creator, tools, algorithms"
   ]
  },
  {
   "cell_type": "code",
   "execution_count": 4,
   "id": "50f1fe38-c1c6-4dd7-b087-9ea238db4cab",
   "metadata": {},
   "outputs": [],
   "source": [
    "import numpy as np"
   ]
  },
  {
   "cell_type": "code",
   "execution_count": 5,
   "id": "0bce2117-7213-4150-aaf1-e42150f2e544",
   "metadata": {},
   "outputs": [],
   "source": [
    "from tqdm import tqdm"
   ]
  },
  {
   "cell_type": "code",
   "execution_count": 6,
   "id": "61780e9d-5cff-4602-a966-a35f5ac31658",
   "metadata": {},
   "outputs": [],
   "source": [
    "import tensorflow as tf"
   ]
  },
  {
   "cell_type": "code",
   "execution_count": 7,
   "id": "df1377e6-8d2f-4c93-ace4-85de230d72f9",
   "metadata": {},
   "outputs": [],
   "source": [
    "# import multiprocessing"
   ]
  },
  {
   "cell_type": "code",
   "execution_count": null,
   "id": "8ae54649-679a-443f-87b6-55987920d80a",
   "metadata": {},
   "outputs": [],
   "source": []
  },
  {
   "cell_type": "code",
   "execution_count": 8,
   "id": "d2fce40f-8a00-4c0f-9596-b9954651535a",
   "metadata": {},
   "outputs": [
    {
     "name": "stdout",
     "output_type": "stream",
     "text": [
      "WARNING:tensorflow:No training configuration found in the save file, so the model was *not* compiled. Compile it manually.\n"
     ]
    },
    {
     "name": "stderr",
     "output_type": "stream",
     "text": [
      "2024-04-09 04:29:53.439543: I tensorflow/core/common_runtime/gpu/gpu_device.cc:1639] Created device /job:localhost/replica:0/task:0/device:GPU:0 with 9604 MB memory:  -> device: 0, name: NVIDIA GeForce RTX 2080 Ti, pci bus id: 0000:17:00.0, compute capability: 7.5\n",
      "2024-04-09 04:29:53.440102: I tensorflow/core/common_runtime/gpu/gpu_device.cc:1639] Created device /job:localhost/replica:0/task:0/device:GPU:1 with 9621 MB memory:  -> device: 1, name: NVIDIA GeForce RTX 2080 Ti, pci bus id: 0000:65:00.0, compute capability: 7.5\n"
     ]
    }
   ],
   "source": [
    "loaded_model = load_model('surogate.h5')"
   ]
  },
  {
   "cell_type": "code",
   "execution_count": null,
   "id": "0600138b-a968-44e6-85e7-aef3e131d766",
   "metadata": {},
   "outputs": [],
   "source": []
  },
  {
   "cell_type": "code",
   "execution_count": null,
   "id": "9d88ec00-5545-4bff-ada2-ee46a712cd3c",
   "metadata": {},
   "outputs": [],
   "source": []
  },
  {
   "cell_type": "code",
   "execution_count": 9,
   "id": "cff0b249-d95d-403a-90e5-568046e463d6",
   "metadata": {},
   "outputs": [],
   "source": [
    "# 特定频率\n",
    "def loss_freq(s_para, disp=False):\n",
    "    # 能量\n",
    "    E = np.square(s_para)\n",
    "    E11 = E[:,0] + E[:,1]\n",
    "    E21 = E[:,2] + E[:,3]\n",
    "    E31 = E[:,4] + E[:,5]\n",
    "    E41 = E[:,6] + E[:,7]\n",
    "    P21 = np.arctan2(s_para[:,3], s_para[:,2])\n",
    "    P31 = np.arctan2(s_para[:,5], s_para[:,4])\n",
    "\n",
    "    # 压制\n",
    "    loss1 = E11 - E21 - E31 + E41\n",
    "    # 比例\n",
    "    loss2 = np.abs(E21 / (E31 + E21) - 0.7)\n",
    "    # phase\n",
    "    loss3 = np.abs(P21 - P31 - np.pi / 4)\n",
    "\n",
    "    loss4 = np.abs(np.sum(E, axis = -1) - 1)\n",
    "\n",
    "    if disp:\n",
    "        print(f\"P21:{P21}\\nP31:{P31}\")\n",
    "        print(f\"E11:{E11}\\nE21:{E21}\\nE31:{E31}\\nE41:{E41}\")\n",
    "        print(f\"loss1:{loss1}\\nloss2:{loss2}\\nloss3:{loss3}\")\n",
    "        return E11, E21, E31, E41, P21, P31, loss1, loss2, loss3\n",
    "    \n",
    "    return loss1 + loss2 + loss3 + loss4"
   ]
  },
  {
   "cell_type": "code",
   "execution_count": 10,
   "id": "66d6677c-29c3-4fd9-b4c5-a9ef9aead69e",
   "metadata": {},
   "outputs": [],
   "source": [
    "def dgn_obj(s1, s2, s3):\n",
    "    # max_loss = np.max([loss_freq(s1), loss_freq(s2), loss_freq(s3)], axis=0)\n",
    "    # max_loss_tuple = [(value,) for value in max_loss]\n",
    "    # return max_loss_tuple\n",
    "    sum_loss = loss_freq(s1) + loss_freq(s2) + loss_freq(s3)\n",
    "    sum_loss_tuple = [(value,) for value in sum_loss]\n",
    "    return sum_loss_tuple"
   ]
  },
  {
   "cell_type": "code",
   "execution_count": null,
   "id": "667740c0-db7e-4d04-ab15-29cad49e63d4",
   "metadata": {},
   "outputs": [],
   "source": []
  },
  {
   "cell_type": "code",
   "execution_count": 11,
   "id": "d03e1dd0-6ad4-4dc4-8ede-1043d659c318",
   "metadata": {},
   "outputs": [],
   "source": [
    "def evaluate(x):\n",
    "    geoms = np.array(x)\n",
    "    n_samples = geoms.shape[0]\n",
    "    inputs1 = np.concatenate((freq1[:n_samples], geoms), axis=-1)\n",
    "    inputs2 = np.concatenate((freq2[:n_samples], geoms), axis=-1)\n",
    "    inputs3 = np.concatenate((freq3[:n_samples], geoms), axis=-1)\n",
    "    y_pred1 = loaded_model.predict(inputs1, batch_size=n_samples, verbose=0)\n",
    "    y_pred2 = loaded_model.predict(inputs2, batch_size=n_samples, verbose=0)\n",
    "    y_pred3 = loaded_model.predict(inputs3, batch_size=n_samples, verbose=0)\n",
    "    return dgn_obj(y_pred1, y_pred2, y_pred3)"
   ]
  },
  {
   "cell_type": "code",
   "execution_count": null,
   "id": "5b8e47ec-6b0e-44fd-aeea-bb6bbd0e9e9f",
   "metadata": {},
   "outputs": [],
   "source": []
  },
  {
   "cell_type": "code",
   "execution_count": 12,
   "id": "2250b6bb-7e9f-4220-9dd8-a710fdc8945a",
   "metadata": {},
   "outputs": [],
   "source": [
    "def checkBounds():\n",
    "    def decorator(func):\n",
    "        def wrapper(*args, **kargs):\n",
    "            offspring = func(*args, **kargs)\n",
    "            for child in offspring:\n",
    "                mask = np.where((child < lb) | (child > ub))\n",
    "                child[mask] = np.random.uniform(lb[mask], ub[mask])\n",
    "            return offspring\n",
    "        return wrapper\n",
    "    return decorator"
   ]
  },
  {
   "cell_type": "code",
   "execution_count": null,
   "id": "6c03d5db-81e0-43a9-a6eb-0035f66c5458",
   "metadata": {},
   "outputs": [],
   "source": []
  },
  {
   "cell_type": "code",
   "execution_count": 13,
   "id": "14a703c4-7d92-483a-9823-8f4c47d433fc",
   "metadata": {},
   "outputs": [],
   "source": [
    "# 参数数量，迭代次数\n",
    "EPOCHS = 100"
   ]
  },
  {
   "cell_type": "code",
   "execution_count": null,
   "id": "0bfb0472-6418-434a-b7b0-de6db0712615",
   "metadata": {},
   "outputs": [],
   "source": []
  },
  {
   "cell_type": "code",
   "execution_count": 14,
   "id": "7019acde-2d50-4326-a7fe-17ba4fad20ad",
   "metadata": {},
   "outputs": [],
   "source": [
    "# 物理边界\n",
    "lb = np.array([1, 1, 1, 1, 1, 1, 1, 1, 4, 4, 4, 4])\n",
    "ub = np.array([5, 5, 5, 5, 5, 5, 5, 5, 100, 100, 100, 100])"
   ]
  },
  {
   "cell_type": "code",
   "execution_count": 15,
   "id": "b6254717-ca17-4b4e-9a7e-c5ce6ca3c7bd",
   "metadata": {},
   "outputs": [],
   "source": [
    "# 初始数据\n",
    "freq1 = np.ones((40000, 1), dtype=np.float32) * 2.4\n",
    "freq2 = np.ones((40000, 1), dtype=np.float32) * 2.5\n",
    "freq3 = np.ones((40000, 1), dtype=np.float32) * 2.6"
   ]
  },
  {
   "cell_type": "code",
   "execution_count": null,
   "id": "c5db76b1-8152-4d82-82e9-f822e646bc3c",
   "metadata": {},
   "outputs": [],
   "source": []
  },
  {
   "cell_type": "code",
   "execution_count": 16,
   "id": "75aad8a8-e208-4fe8-adea-437bb7b0f797",
   "metadata": {},
   "outputs": [],
   "source": [
    "def myOpti(num_nodes):\n",
    "    # 定义个体表示方式\n",
    "    creator.create(\"FitnessMin\", base.Fitness, weights=(-1.0,))\n",
    "    creator.create(\"Individual\", np.ndarray, fitness=creator.FitnessMin)\n",
    "\n",
    "    toolbox = base.Toolbox()\n",
    "\n",
    "    toolbox.register(\"attr_float\", np.random.uniform, low=lb, high=ub)\n",
    "    toolbox.register(\"individual\", tools.initIterate, creator.Individual, toolbox.attr_float)\n",
    "    toolbox.register(\"population\", tools.initRepeat, list, toolbox.individual)\n",
    "\n",
    "    toolbox.register(\"evaluate\", evaluate)\n",
    "\n",
    "    # 注册选择、交叉和突变操作\n",
    "    toolbox.register(\"mate\", tools.cxTwoPoint)\n",
    "    toolbox.register(\"mutate\", tools.mutGaussian, mu=0, sigma=1, indpb=0.2)\n",
    "    toolbox.register(\"select\", tools.selTournament, tournsize=3)\n",
    "\n",
    "    toolbox.decorate(\"mate\", checkBounds())\n",
    "    toolbox.decorate(\"mutate\", checkBounds())\n",
    "\n",
    "    population = toolbox.population(n=num_nodes)\n",
    "    halloffame = tools.HallOfFame(1, similar=np.array_equal)\n",
    "    stats = tools.Statistics(lambda ind: ind.fitness.values)\n",
    "    stats.register(\"avg\", np.mean)\n",
    "    stats.register(\"min\", np.min)\n",
    "    stats.register(\"max\", np.max)\n",
    "\n",
    "    cxpb = 0.5\n",
    "    mutpb = 0.2\n",
    "    logbook = tools.Logbook()\n",
    "    logbook.header = ['gen', 'nevals'] + (stats.fields if stats else [])\n",
    "\n",
    "    # Evaluate the individuals with an invalid fitness\n",
    "    invalid_ind = [ind for ind in population if not ind.fitness.valid]\n",
    "    fitnesses = toolbox.evaluate(invalid_ind)\n",
    "    for ind, fit in zip(invalid_ind, fitnesses):\n",
    "        ind.fitness.values = fit\n",
    "        \n",
    "    halloffame.update(population)\n",
    "    record = stats.compile(population)\n",
    "    logbook.record(gen=0, nevals=len(invalid_ind), **record)\n",
    "\n",
    "    t0 = time.time()\n",
    "    for gen in tqdm(range(1, EPOCHS + 1)):\n",
    "        # Select the next generation individuals\n",
    "        offspring = toolbox.select(population, len(population))\n",
    "    \n",
    "        # Vary the pool of individuals\n",
    "        offspring = algorithms.varAnd(offspring, toolbox, cxpb, mutpb)\n",
    "    \n",
    "        # Evaluate the individuals with an invalid fitness\n",
    "        invalid_ind = [ind for ind in offspring if not ind.fitness.valid]\n",
    "        fitnesses = toolbox.evaluate(invalid_ind)\n",
    "        for ind, fit in zip(invalid_ind, fitnesses):\n",
    "            ind.fitness.values = fit\n",
    "    \n",
    "        # Update the hall of fame with the generated individuals\n",
    "        halloffame.update(offspring)\n",
    "    \n",
    "        # Replace the current population by the offspring\n",
    "        population[:] = offspring\n",
    "    \n",
    "        # Append the current generation statistics to the logbook\n",
    "        record = stats.compile(population)\n",
    "        logbook.record(gen=gen, nevals=len(invalid_ind), **record)\n",
    "    return (time.time() - t0) / EPOCHS"
   ]
  },
  {
   "cell_type": "code",
   "execution_count": 17,
   "id": "9b964b87-6fc9-44eb-9fa8-37f6335e32d2",
   "metadata": {},
   "outputs": [],
   "source": [
    "logs = []"
   ]
  },
  {
   "cell_type": "code",
   "execution_count": 18,
   "id": "d17bbeea-52a1-4034-8799-e19a5951af8f",
   "metadata": {},
   "outputs": [
    {
     "name": "stderr",
     "output_type": "stream",
     "text": [
      "100%|█████████████████████████████████████████| 100/100 [00:11<00:00,  8.93it/s]\n",
      "/home/delta/miniconda3/envs/jt_ma/lib/python3.9/site-packages/deap/creator.py:185: RuntimeWarning: A class named 'FitnessMin' has already been created and it will be overwritten. Consider deleting previous creation of that class or rename it.\n",
      "  warnings.warn(\"A class named '{0}' has already been created and it \"\n",
      "/home/delta/miniconda3/envs/jt_ma/lib/python3.9/site-packages/deap/creator.py:185: RuntimeWarning: A class named 'Individual' has already been created and it will be overwritten. Consider deleting previous creation of that class or rename it.\n",
      "  warnings.warn(\"A class named '{0}' has already been created and it \"\n",
      "100%|█████████████████████████████████████████| 100/100 [00:11<00:00,  8.51it/s]\n",
      "100%|█████████████████████████████████████████| 100/100 [00:12<00:00,  8.06it/s]\n",
      "100%|█████████████████████████████████████████| 100/100 [00:13<00:00,  7.60it/s]\n",
      "100%|█████████████████████████████████████████| 100/100 [00:13<00:00,  7.34it/s]\n",
      "100%|█████████████████████████████████████████| 100/100 [00:14<00:00,  7.02it/s]\n",
      "100%|█████████████████████████████████████████| 100/100 [00:14<00:00,  6.77it/s]\n",
      "100%|█████████████████████████████████████████| 100/100 [00:15<00:00,  6.59it/s]\n",
      "100%|█████████████████████████████████████████| 100/100 [00:15<00:00,  6.31it/s]\n",
      "100%|█████████████████████████████████████████| 100/100 [00:16<00:00,  6.14it/s]\n",
      "100%|█████████████████████████████████████████| 100/100 [00:17<00:00,  5.85it/s]\n",
      "100%|█████████████████████████████████████████| 100/100 [00:17<00:00,  5.73it/s]\n",
      "100%|█████████████████████████████████████████| 100/100 [00:18<00:00,  5.52it/s]\n",
      "100%|█████████████████████████████████████████| 100/100 [00:18<00:00,  5.43it/s]\n",
      "100%|█████████████████████████████████████████| 100/100 [00:18<00:00,  5.27it/s]\n",
      "100%|█████████████████████████████████████████| 100/100 [00:19<00:00,  5.11it/s]\n",
      "100%|█████████████████████████████████████████| 100/100 [00:20<00:00,  4.97it/s]\n",
      "100%|█████████████████████████████████████████| 100/100 [00:20<00:00,  4.80it/s]\n",
      "100%|█████████████████████████████████████████| 100/100 [00:21<00:00,  4.68it/s]\n",
      "100%|█████████████████████████████████████████| 100/100 [00:21<00:00,  4.58it/s]\n",
      "100%|█████████████████████████████████████████| 100/100 [00:22<00:00,  4.40it/s]\n",
      "100%|█████████████████████████████████████████| 100/100 [00:23<00:00,  4.31it/s]\n",
      "100%|█████████████████████████████████████████| 100/100 [00:24<00:00,  4.16it/s]\n",
      "100%|█████████████████████████████████████████| 100/100 [00:23<00:00,  4.17it/s]\n",
      "100%|█████████████████████████████████████████| 100/100 [00:24<00:00,  4.03it/s]\n",
      "100%|█████████████████████████████████████████| 100/100 [00:25<00:00,  3.95it/s]\n",
      "100%|█████████████████████████████████████████| 100/100 [00:26<00:00,  3.80it/s]\n",
      "100%|█████████████████████████████████████████| 100/100 [00:26<00:00,  3.75it/s]\n",
      "100%|█████████████████████████████████████████| 100/100 [00:27<00:00,  3.65it/s]\n",
      "100%|█████████████████████████████████████████| 100/100 [00:27<00:00,  3.59it/s]\n",
      "100%|█████████████████████████████████████████| 100/100 [00:28<00:00,  3.51it/s]\n",
      "100%|█████████████████████████████████████████| 100/100 [00:29<00:00,  3.44it/s]\n",
      "100%|█████████████████████████████████████████| 100/100 [00:29<00:00,  3.38it/s]\n",
      "100%|█████████████████████████████████████████| 100/100 [00:29<00:00,  3.34it/s]\n",
      "100%|█████████████████████████████████████████| 100/100 [00:30<00:00,  3.30it/s]\n",
      "100%|█████████████████████████████████████████| 100/100 [00:31<00:00,  3.20it/s]\n",
      "100%|█████████████████████████████████████████| 100/100 [00:32<00:00,  3.12it/s]\n",
      "100%|█████████████████████████████████████████| 100/100 [00:32<00:00,  3.12it/s]\n",
      "100%|█████████████████████████████████████████| 100/100 [00:32<00:00,  3.07it/s]\n",
      "100%|█████████████████████████████████████████| 100/100 [00:33<00:00,  3.00it/s]\n",
      "100%|█████████████████████████████████████████| 100/100 [00:34<00:00,  2.93it/s]\n",
      "100%|█████████████████████████████████████████| 100/100 [00:34<00:00,  2.90it/s]\n",
      "100%|█████████████████████████████████████████| 100/100 [00:35<00:00,  2.82it/s]\n",
      "100%|█████████████████████████████████████████| 100/100 [00:35<00:00,  2.81it/s]\n",
      "100%|█████████████████████████████████████████| 100/100 [00:36<00:00,  2.74it/s]\n",
      "100%|█████████████████████████████████████████| 100/100 [00:36<00:00,  2.71it/s]\n",
      "100%|█████████████████████████████████████████| 100/100 [00:37<00:00,  2.65it/s]\n",
      "100%|█████████████████████████████████████████| 100/100 [00:38<00:00,  2.63it/s]\n",
      "100%|█████████████████████████████████████████| 100/100 [00:38<00:00,  2.60it/s]\n",
      "100%|█████████████████████████████████████████| 100/100 [00:38<00:00,  2.57it/s]\n",
      "100%|█████████████████████████████████████████| 100/100 [00:39<00:00,  2.52it/s]\n",
      "100%|█████████████████████████████████████████| 100/100 [00:40<00:00,  2.49it/s]\n",
      "100%|█████████████████████████████████████████| 100/100 [00:40<00:00,  2.46it/s]\n",
      "100%|█████████████████████████████████████████| 100/100 [00:41<00:00,  2.41it/s]\n",
      "100%|█████████████████████████████████████████| 100/100 [00:42<00:00,  2.37it/s]\n",
      "100%|█████████████████████████████████████████| 100/100 [00:42<00:00,  2.36it/s]\n",
      "100%|█████████████████████████████████████████| 100/100 [00:43<00:00,  2.30it/s]\n",
      "100%|█████████████████████████████████████████| 100/100 [00:43<00:00,  2.28it/s]\n",
      "100%|█████████████████████████████████████████| 100/100 [00:44<00:00,  2.23it/s]\n",
      "100%|█████████████████████████████████████████| 100/100 [00:45<00:00,  2.21it/s]\n",
      "100%|█████████████████████████████████████████| 100/100 [00:45<00:00,  2.18it/s]\n",
      "100%|█████████████████████████████████████████| 100/100 [00:46<00:00,  2.16it/s]\n",
      "100%|█████████████████████████████████████████| 100/100 [00:46<00:00,  2.14it/s]\n",
      "100%|█████████████████████████████████████████| 100/100 [00:47<00:00,  2.11it/s]\n",
      "100%|█████████████████████████████████████████| 100/100 [00:47<00:00,  2.09it/s]\n",
      "100%|█████████████████████████████████████████| 100/100 [00:48<00:00,  2.07it/s]\n",
      "100%|█████████████████████████████████████████| 100/100 [00:49<00:00,  2.03it/s]\n",
      "100%|█████████████████████████████████████████| 100/100 [00:49<00:00,  2.01it/s]\n",
      "100%|█████████████████████████████████████████| 100/100 [00:50<00:00,  2.00it/s]\n",
      "100%|█████████████████████████████████████████| 100/100 [00:50<00:00,  1.96it/s]\n",
      "100%|█████████████████████████████████████████| 100/100 [00:51<00:00,  1.96it/s]\n",
      "100%|█████████████████████████████████████████| 100/100 [00:51<00:00,  1.94it/s]\n",
      "100%|█████████████████████████████████████████| 100/100 [00:52<00:00,  1.90it/s]\n",
      "100%|█████████████████████████████████████████| 100/100 [00:53<00:00,  1.88it/s]\n",
      "100%|█████████████████████████████████████████| 100/100 [00:53<00:00,  1.87it/s]\n",
      "100%|█████████████████████████████████████████| 100/100 [00:54<00:00,  1.85it/s]\n",
      "100%|█████████████████████████████████████████| 100/100 [00:55<00:00,  1.82it/s]\n",
      "100%|█████████████████████████████████████████| 100/100 [00:55<00:00,  1.80it/s]\n",
      "100%|█████████████████████████████████████████| 100/100 [00:56<00:00,  1.78it/s]\n",
      "100%|█████████████████████████████████████████| 100/100 [00:56<00:00,  1.77it/s]\n",
      "100%|█████████████████████████████████████████| 100/100 [00:57<00:00,  1.73it/s]\n",
      "100%|█████████████████████████████████████████| 100/100 [00:58<00:00,  1.72it/s]\n",
      "100%|█████████████████████████████████████████| 100/100 [00:58<00:00,  1.70it/s]\n",
      "100%|█████████████████████████████████████████| 100/100 [00:59<00:00,  1.69it/s]\n",
      "100%|█████████████████████████████████████████| 100/100 [01:00<00:00,  1.66it/s]\n",
      "100%|█████████████████████████████████████████| 100/100 [01:00<00:00,  1.65it/s]\n",
      "100%|█████████████████████████████████████████| 100/100 [01:01<00:00,  1.64it/s]\n",
      "100%|█████████████████████████████████████████| 100/100 [01:01<00:00,  1.62it/s]\n",
      "100%|█████████████████████████████████████████| 100/100 [01:02<00:00,  1.61it/s]\n",
      "100%|█████████████████████████████████████████| 100/100 [01:03<00:00,  1.58it/s]\n",
      "100%|█████████████████████████████████████████| 100/100 [01:03<00:00,  1.57it/s]\n",
      "100%|█████████████████████████████████████████| 100/100 [01:04<00:00,  1.56it/s]\n",
      "100%|█████████████████████████████████████████| 100/100 [01:04<00:00,  1.55it/s]\n",
      "100%|█████████████████████████████████████████| 100/100 [01:05<00:00,  1.54it/s]\n",
      "100%|█████████████████████████████████████████| 100/100 [01:05<00:00,  1.52it/s]\n",
      "100%|█████████████████████████████████████████| 100/100 [01:06<00:00,  1.51it/s]\n",
      "100%|█████████████████████████████████████████| 100/100 [01:07<00:00,  1.47it/s]\n",
      "100%|█████████████████████████████████████████| 100/100 [01:07<00:00,  1.48it/s]\n",
      "100%|█████████████████████████████████████████| 100/100 [01:08<00:00,  1.45it/s]\n",
      "100%|█████████████████████████████████████████| 100/100 [01:08<00:00,  1.45it/s]\n"
     ]
    }
   ],
   "source": [
    "for i in range(200, 20001, 200):\n",
    "    logs.append(myOpti(i))"
   ]
  },
  {
   "cell_type": "code",
   "execution_count": 19,
   "id": "2ded1a4b-7fe8-4cfd-ae6f-a3f7a374a98b",
   "metadata": {},
   "outputs": [
    {
     "name": "stdout",
     "output_type": "stream",
     "text": [
      "0.11203099966049195\n",
      "0.11755289316177368\n",
      "0.12413538694381714\n",
      "0.13165103673934936\n",
      "0.1362473511695862\n",
      "0.1425092935562134\n",
      "0.1477104377746582\n",
      "0.15186994314193725\n",
      "0.15852530002593995\n",
      "0.16294898509979247\n",
      "0.17084757328033448\n",
      "0.1743980050086975\n",
      "0.18101976871490477\n",
      "0.18404898166656494\n",
      "0.18990570068359375\n",
      "0.19561043977737427\n",
      "0.20106998205184937\n",
      "0.20828263998031615\n",
      "0.21352701425552367\n",
      "0.2185478091239929\n",
      "0.22742772817611695\n",
      "0.2320934557914734\n",
      "0.24035312175750734\n",
      "0.23988279104232788\n",
      "0.24801589012145997\n",
      "0.2533854293823242\n",
      "0.2632793593406677\n",
      "0.2665660810470581\n",
      "0.2741831231117249\n",
      "0.2785260057449341\n",
      "0.28472535848617553\n",
      "0.29059685945510866\n",
      "0.29597557306289674\n",
      "0.29906726837158204\n",
      "0.3031743383407593\n",
      "0.3129207754135132\n",
      "0.3200231599807739\n",
      "0.32096037864685056\n",
      "0.32584104061126706\n",
      "0.333216598033905\n",
      "0.3412554526329041\n",
      "0.34477975845336917\n",
      "0.35461256742477415\n",
      "0.35528130531311036\n",
      "0.3650142955780029\n",
      "0.36916797161102294\n",
      "0.37727360010147093\n",
      "0.3802617573738098\n",
      "0.38534990310668943\n",
      "0.38875378608703615\n",
      "0.3963348889350891\n",
      "0.40148967027664184\n",
      "0.40734607458114624\n",
      "0.4143139171600342\n",
      "0.42257998943328856\n",
      "0.424450957775116\n",
      "0.433908576965332\n",
      "0.43928133487701415\n",
      "0.44790693759918215\n",
      "0.4525545358657837\n",
      "0.4595961308479309\n",
      "0.4624255347251892\n",
      "0.46782257795333865\n",
      "0.4732878589630127\n",
      "0.47812875986099246\n",
      "0.4821991205215454\n",
      "0.4924615526199341\n",
      "0.49736350059509277\n",
      "0.5011995935440063\n",
      "0.5093449330329896\n",
      "0.5112773299217224\n",
      "0.5164277338981629\n",
      "0.5250418472290039\n",
      "0.5308379006385803\n",
      "0.5351090741157531\n",
      "0.5417645645141601\n",
      "0.55035964012146\n",
      "0.5549617147445679\n",
      "0.5609707164764405\n",
      "0.5644918179512024\n",
      "0.5771552848815918\n",
      "0.5828754067420959\n",
      "0.589540205001831\n",
      "0.5901391983032227\n",
      "0.6011770701408387\n",
      "0.6058782601356506\n",
      "0.6113873052597046\n",
      "0.6175316858291626\n",
      "0.6220470809936524\n",
      "0.6313669180870056\n",
      "0.638671588897705\n",
      "0.6423414611816406\n",
      "0.6463415479660034\n",
      "0.6510037112236023\n",
      "0.6588207817077637\n",
      "0.6638677787780761\n",
      "0.6796900820732117\n",
      "0.6771508264541626\n",
      "0.6877095651626587\n",
      "0.6875981688499451\n"
     ]
    }
   ],
   "source": [
    "for log in logs:\n",
    "    print(log)"
   ]
  },
  {
   "cell_type": "code",
   "execution_count": null,
   "id": "71f9ecbf-fa66-4fab-ab9d-74afbbd41e66",
   "metadata": {},
   "outputs": [],
   "source": []
  }
 ],
 "metadata": {
  "kernelspec": {
   "display_name": "Python 3 (ipykernel)",
   "language": "python",
   "name": "python3"
  },
  "language_info": {
   "codemirror_mode": {
    "name": "ipython",
    "version": 3
   },
   "file_extension": ".py",
   "mimetype": "text/x-python",
   "name": "python",
   "nbconvert_exporter": "python",
   "pygments_lexer": "ipython3",
   "version": "3.9.17"
  }
 },
 "nbformat": 4,
 "nbformat_minor": 5
}
