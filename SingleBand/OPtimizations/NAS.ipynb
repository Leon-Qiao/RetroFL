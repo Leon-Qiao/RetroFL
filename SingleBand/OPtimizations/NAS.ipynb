{
 "cells": [
  {
   "cell_type": "code",
   "execution_count": 1,
   "id": "6dc6cbd5-9163-4064-bdef-02c7d6768f6e",
   "metadata": {},
   "outputs": [
    {
     "name": "stderr",
     "output_type": "stream",
     "text": [
      "2024-03-21 21:06:32.800528: I tensorflow/core/platform/cpu_feature_guard.cc:182] This TensorFlow binary is optimized to use available CPU instructions in performance-critical operations.\n",
      "To enable the following instructions: AVX2 AVX512F FMA, in other operations, rebuild TensorFlow with the appropriate compiler flags.\n",
      "2024-03-21 21:06:33.276887: W tensorflow/compiler/tf2tensorrt/utils/py_utils.cc:38] TF-TRT Warning: Could not find TensorRT\n"
     ]
    }
   ],
   "source": [
    "import pandas as pd\n",
    "import tensorflow as tf\n",
    "import numpy as np\n",
    "from sklearn.model_selection import train_test_split\n",
    "from keras_tuner.tuners import RandomSearch"
   ]
  },
  {
   "cell_type": "code",
   "execution_count": 2,
   "id": "c7011b5d-71e1-481e-9b04-6b0b018d70ac",
   "metadata": {},
   "outputs": [],
   "source": [
    "BATCH_SIZE = 256"
   ]
  },
  {
   "cell_type": "code",
   "execution_count": 3,
   "id": "025147cc-05bf-496c-94e4-cfa0f8d1bcfd",
   "metadata": {},
   "outputs": [],
   "source": [
    "AS_dataset = pd.read_csv('./../Arbitrary_Single_band_Coupler_Phase_Shift.csv', encoding='utf-8').sample(frac=1).reset_index(drop=True)\n",
    "full_X = AS_dataset.loc[:,'freq':'L4'].to_numpy(dtype = np.float32)\n",
    "full_y = AS_dataset.loc[:,'S11r':'S41i'].to_numpy(dtype = np.float32)\n",
    "X_train, X_vali, y_train, y_vali = train_test_split(full_X, full_y, test_size=0.05, random_state=0)"
   ]
  },
  {
   "cell_type": "code",
   "execution_count": 4,
   "id": "5e0a18bf-d6b8-47f1-8e1d-aadf24173126",
   "metadata": {},
   "outputs": [
    {
     "name": "stderr",
     "output_type": "stream",
     "text": [
      "2024-03-21 21:06:35.074699: I tensorflow/core/common_runtime/gpu/gpu_device.cc:1639] Created device /job:localhost/replica:0/task:0/device:GPU:0 with 9604 MB memory:  -> device: 0, name: NVIDIA GeForce RTX 2080 Ti, pci bus id: 0000:17:00.0, compute capability: 7.5\n",
      "2024-03-21 21:06:35.075259: I tensorflow/core/common_runtime/gpu/gpu_device.cc:1639] Created device /job:localhost/replica:0/task:0/device:GPU:1 with 9621 MB memory:  -> device: 1, name: NVIDIA GeForce RTX 2080 Ti, pci bus id: 0000:65:00.0, compute capability: 7.5\n"
     ]
    }
   ],
   "source": [
    "dataset_train = tf.data.Dataset.from_tensor_slices((X_train, y_train))\n",
    "dataset_train = dataset_train.shuffle(buffer_size=X_train.shape[0])\n",
    "dataset_train = dataset_train.batch(BATCH_SIZE)\n",
    "dataset_train = dataset_train.prefetch(tf.data.experimental.AUTOTUNE)"
   ]
  },
  {
   "cell_type": "code",
   "execution_count": 5,
   "id": "9f46ee2d-5204-4622-88ba-fe1fd0afd2d6",
   "metadata": {},
   "outputs": [],
   "source": [
    "dataset_vali = tf.data.Dataset.from_tensor_slices((X_vali, y_vali))\n",
    "dataset_vali = dataset_vali.shuffle(buffer_size=X_vali.shape[0])\n",
    "dataset_vali = dataset_vali.batch(BATCH_SIZE)\n",
    "dataset_vali = dataset_vali.prefetch(tf.data.experimental.AUTOTUNE)"
   ]
  },
  {
   "cell_type": "code",
   "execution_count": 6,
   "id": "49142824-e7a6-47f3-9d79-d03aee4c8453",
   "metadata": {},
   "outputs": [],
   "source": [
    "# 定义模型构建函数\n",
    "def build_model(hp):\n",
    "    model = tf.keras.Sequential()\n",
    "    for i in range(hp.Int('num_layers', 1, 5)):\n",
    "        model.add(tf.keras.layers.Dense(units=hp.Int('units_' + str(i), min_value=32, max_value=1024, step=32), activation='leaky_relu'))\n",
    "        if hp.Boolean('use_batchnorm' + str(i)):\n",
    "            model.add(tf.keras.layers.BatchNormalization())\n",
    "    model.add(tf.keras.layers.Dense(8))\n",
    "    model.compile(\n",
    "        optimizer=tf.keras.optimizers.Adam(hp.Choice('learning_rate', [1e-2, 1e-3, 1e-4])),\n",
    "        loss='mse')\n",
    "    return model"
   ]
  },
  {
   "cell_type": "code",
   "execution_count": 7,
   "id": "9f6eaab1-77aa-4015-a7c5-df6b10401479",
   "metadata": {},
   "outputs": [
    {
     "name": "stdout",
     "output_type": "stream",
     "text": [
      "Reloading Tuner from my_dir/mlp_project1/tuner0.json\n"
     ]
    }
   ],
   "source": [
    "# 创建 tuner\n",
    "tuner = RandomSearch(\n",
    "    build_model,\n",
    "    objective='val_loss',\n",
    "    max_trials=1024, # 根据实际情况调整试验次数\n",
    "    directory='my_dir',\n",
    "    project_name='mlp_project1')"
   ]
  },
  {
   "cell_type": "code",
   "execution_count": null,
   "id": "2cb31ce2-fd5a-4100-bb99-8e74f63783bb",
   "metadata": {
    "scrolled": true
   },
   "outputs": [
    {
     "name": "stdout",
     "output_type": "stream",
     "text": [
      "Trial 991 Complete [00h 01m 29s]\n",
      "val_loss: 0.012802664190530777\n",
      "\n",
      "Best val_loss So Far: 0.004853558726608753\n",
      "Total elapsed time: 19h 35m 05s\n",
      "\n",
      "Search: Running Trial #992\n",
      "\n",
      "Value             |Best Value So Far |Hyperparameter\n",
      "3                 |4                 |num_layers\n",
      "736               |256               |units_0\n",
      "False             |True              |use_batchnorm0\n",
      "0.001             |0.001             |learning_rate\n",
      "896               |704               |units_1\n",
      "True              |False             |use_batchnorm1\n",
      "32                |928               |units_2\n",
      "True              |True              |use_batchnorm2\n",
      "992               |640               |units_3\n",
      "True              |False             |use_batchnorm3\n",
      "128               |416               |units_4\n",
      "False             |True              |use_batchnorm4\n",
      "\n",
      "Epoch 1/50\n",
      "334/334 [==============================] - 3s 5ms/step - loss: 0.0965 - val_loss: 0.0817\n",
      "Epoch 2/50\n",
      "334/334 [==============================] - 2s 5ms/step - loss: 0.0618 - val_loss: 0.0698\n",
      "Epoch 3/50\n",
      "334/334 [==============================] - 2s 5ms/step - loss: 0.0555 - val_loss: 0.0572\n",
      "Epoch 4/50\n",
      "334/334 [==============================] - 2s 5ms/step - loss: 0.0510 - val_loss: 0.0523\n",
      "Epoch 5/50\n",
      "334/334 [==============================] - 2s 5ms/step - loss: 0.0477 - val_loss: 0.0605\n",
      "Epoch 6/50\n",
      "334/334 [==============================] - 2s 5ms/step - loss: 0.0448 - val_loss: 0.0454\n",
      "Epoch 7/50\n",
      "334/334 [==============================] - 2s 5ms/step - loss: 0.0421 - val_loss: 0.0442\n",
      "Epoch 8/50\n",
      "334/334 [==============================] - 2s 5ms/step - loss: 0.0394 - val_loss: 0.0425\n",
      "Epoch 9/50\n",
      "334/334 [==============================] - 2s 5ms/step - loss: 0.0368 - val_loss: 0.0461\n",
      "Epoch 10/50\n",
      "334/334 [==============================] - 2s 5ms/step - loss: 0.0346 - val_loss: 0.0507\n",
      "Epoch 11/50\n",
      "334/334 [==============================] - 2s 5ms/step - loss: 0.0331 - val_loss: 0.0500\n",
      "Epoch 12/50\n",
      "334/334 [==============================] - 2s 5ms/step - loss: 0.0316 - val_loss: 0.0411\n",
      "Epoch 13/50\n",
      "334/334 [==============================] - 2s 5ms/step - loss: 0.0304 - val_loss: 0.0344\n",
      "Epoch 14/50\n",
      "334/334 [==============================] - 2s 5ms/step - loss: 0.0290 - val_loss: 0.0314\n",
      "Epoch 15/50\n",
      "334/334 [==============================] - 2s 5ms/step - loss: 0.0279 - val_loss: 0.0353\n",
      "Epoch 16/50\n",
      "334/334 [==============================] - 2s 5ms/step - loss: 0.0269 - val_loss: 0.0270\n",
      "Epoch 17/50\n",
      "334/334 [==============================] - 2s 5ms/step - loss: 0.0258 - val_loss: 0.0348\n",
      "Epoch 18/50\n",
      "334/334 [==============================] - 2s 5ms/step - loss: 0.0251 - val_loss: 0.0255\n",
      "Epoch 19/50\n",
      "334/334 [==============================] - 2s 5ms/step - loss: 0.0245 - val_loss: 0.0264\n",
      "Epoch 20/50\n",
      "334/334 [==============================] - 2s 5ms/step - loss: 0.0238 - val_loss: 0.0290\n",
      "Epoch 21/50\n",
      "334/334 [==============================] - 2s 5ms/step - loss: 0.0228 - val_loss: 0.0232\n",
      "Epoch 22/50\n",
      "334/334 [==============================] - 2s 5ms/step - loss: 0.0224 - val_loss: 0.0232\n",
      "Epoch 23/50\n",
      "334/334 [==============================] - 2s 5ms/step - loss: 0.0219 - val_loss: 0.0227\n",
      "Epoch 24/50\n",
      "334/334 [==============================] - 2s 5ms/step - loss: 0.0212 - val_loss: 0.0260\n",
      "Epoch 25/50\n",
      "334/334 [==============================] - 2s 5ms/step - loss: 0.0208 - val_loss: 0.0210\n",
      "Epoch 26/50\n",
      "334/334 [==============================] - 2s 5ms/step - loss: 0.0204 - val_loss: 0.0210\n",
      "Epoch 27/50\n",
      "334/334 [==============================] - 2s 5ms/step - loss: 0.0200 - val_loss: 0.0218\n",
      "Epoch 28/50\n",
      "334/334 [==============================] - 2s 5ms/step - loss: 0.0197 - val_loss: 0.0219\n",
      "Epoch 29/50\n",
      "334/334 [==============================] - 2s 5ms/step - loss: 0.0191 - val_loss: 0.0223\n",
      "Epoch 30/50\n",
      "334/334 [==============================] - 2s 5ms/step - loss: 0.0190 - val_loss: 0.0196\n",
      "Epoch 31/50\n",
      "334/334 [==============================] - 2s 5ms/step - loss: 0.0187 - val_loss: 0.0220\n",
      "Epoch 32/50\n",
      "334/334 [==============================] - 2s 5ms/step - loss: 0.0185 - val_loss: 0.0192\n",
      "Epoch 33/50\n",
      "334/334 [==============================] - 2s 5ms/step - loss: 0.0178 - val_loss: 0.0191\n",
      "Epoch 34/50\n",
      "334/334 [==============================] - 2s 5ms/step - loss: 0.0175 - val_loss: 0.0180\n",
      "Epoch 35/50\n",
      "334/334 [==============================] - 2s 5ms/step - loss: 0.0176 - val_loss: 0.0199\n",
      "Epoch 36/50\n",
      "334/334 [==============================] - 2s 5ms/step - loss: 0.0172 - val_loss: 0.0280\n",
      "Epoch 37/50\n",
      "334/334 [==============================] - 2s 5ms/step - loss: 0.0170 - val_loss: 0.0178\n",
      "Epoch 38/50\n",
      "334/334 [==============================] - 2s 5ms/step - loss: 0.0168 - val_loss: 0.0296\n",
      "Epoch 39/50\n",
      "334/334 [==============================] - 2s 5ms/step - loss: 0.0164 - val_loss: 0.0176\n",
      "Epoch 40/50\n",
      "334/334 [==============================] - 2s 5ms/step - loss: 0.0163 - val_loss: 0.0164\n",
      "Epoch 41/50\n",
      "334/334 [==============================] - 2s 5ms/step - loss: 0.0161 - val_loss: 0.0163\n",
      "Epoch 42/50\n",
      "334/334 [==============================] - 2s 5ms/step - loss: 0.0159 - val_loss: 0.0193\n",
      "Epoch 43/50\n",
      "334/334 [==============================] - 2s 5ms/step - loss: 0.0160 - val_loss: 0.0157\n",
      "Epoch 44/50\n",
      "334/334 [==============================] - 2s 5ms/step - loss: 0.0156 - val_loss: 0.0172\n",
      "Epoch 45/50\n",
      "334/334 [==============================] - 2s 5ms/step - loss: 0.0158 - val_loss: 0.0178\n",
      "Epoch 46/50\n",
      "255/334 [=====================>........] - ETA: 0s - loss: 0.0149"
     ]
    }
   ],
   "source": [
    "# 开始搜索过程\n",
    "tuner.search(dataset_train,\n",
    "             epochs=50,\n",
    "            validation_data=dataset_vali)"
   ]
  },
  {
   "cell_type": "code",
   "execution_count": null,
   "id": "0eb5a0b8-ca6e-424e-8813-f2c85f9e6219",
   "metadata": {},
   "outputs": [],
   "source": [
    "# 获取最优模型\n",
    "best_model = tuner.get_best_models(num_models=1)[0]"
   ]
  },
  {
   "cell_type": "code",
   "execution_count": null,
   "id": "ecb0004b-a799-4455-b5af-d0f968f9faf7",
   "metadata": {},
   "outputs": [],
   "source": [
    "tuner.results_summary()"
   ]
  }
 ],
 "metadata": {
  "kernelspec": {
   "display_name": "Python 3 (ipykernel)",
   "language": "python",
   "name": "python3"
  },
  "language_info": {
   "codemirror_mode": {
    "name": "ipython",
    "version": 3
   },
   "file_extension": ".py",
   "mimetype": "text/x-python",
   "name": "python",
   "nbconvert_exporter": "python",
   "pygments_lexer": "ipython3",
   "version": "3.9.17"
  }
 },
 "nbformat": 4,
 "nbformat_minor": 5
}
