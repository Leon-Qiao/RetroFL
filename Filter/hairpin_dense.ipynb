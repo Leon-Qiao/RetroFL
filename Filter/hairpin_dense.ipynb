{
 "cells": [
  {
   "cell_type": "code",
   "execution_count": 1,
   "id": "e61a8d7e-7393-4ddd-8bf6-9c2df1a28aaa",
   "metadata": {},
   "outputs": [
    {
     "name": "stderr",
     "output_type": "stream",
     "text": [
      "2024-04-29 10:09:35.582708: I tensorflow/core/platform/cpu_feature_guard.cc:182] This TensorFlow binary is optimized to use available CPU instructions in performance-critical operations.\n",
      "To enable the following instructions: AVX2 AVX512F FMA, in other operations, rebuild TensorFlow with the appropriate compiler flags.\n",
      "2024-04-29 10:09:36.055757: W tensorflow/compiler/tf2tensorrt/utils/py_utils.cc:38] TF-TRT Warning: Could not find TensorRT\n"
     ]
    }
   ],
   "source": [
    "import pandas as pd\n",
    "import tensorflow as tf\n",
    "import numpy as np\n",
    "from sklearn.model_selection import train_test_split\n",
    "from datetime import datetime\n",
    "from tqdm import tqdm"
   ]
  },
  {
   "cell_type": "code",
   "execution_count": 2,
   "id": "03ddcd66-bac7-4e40-be08-061ff99e6e3b",
   "metadata": {},
   "outputs": [],
   "source": [
    "BATCH_SIZE = 512\n",
    "EPOCHS = 500\n",
    "\n",
    "initial_learning_rate = 0.001\n",
    "decay_steps = 1000  # 每隔多少个steps衰减一次\n",
    "decay_rate = 0.96  # 学习率衰减因子"
   ]
  },
  {
   "cell_type": "code",
   "execution_count": 3,
   "id": "8d043c3a-5098-44fe-9cb4-7a1426a2beb3",
   "metadata": {},
   "outputs": [],
   "source": [
    "AS_dataset = pd.read_csv('./hairpin_filter_dataset.csv', encoding='utf-8')"
   ]
  },
  {
   "cell_type": "code",
   "execution_count": 4,
   "id": "98219402-04ac-47ca-a103-4775eb454054",
   "metadata": {},
   "outputs": [],
   "source": [
    "selected_X = AS_dataset.loc[::9,'freq':'S1'].to_numpy(dtype = np.float32)\n",
    "selected_y = AS_dataset.loc[::9,'S21r':'S21i'].to_numpy(dtype = np.float32)"
   ]
  },
  {
   "cell_type": "code",
   "execution_count": 5,
   "id": "1d06266c-8124-40f6-bb02-42776b30894e",
   "metadata": {},
   "outputs": [],
   "source": [
    "full_X = AS_dataset.loc[:,'freq':'S1'].to_numpy(dtype = np.float32)\n",
    "full_y = AS_dataset.loc[:,'S21r':'S21i'].to_numpy(dtype = np.float32)"
   ]
  },
  {
   "cell_type": "code",
   "execution_count": 6,
   "id": "1b4f4231-62b5-4cf4-9349-073c31574cc8",
   "metadata": {},
   "outputs": [],
   "source": [
    "# 归一化\n",
    "# full_X[:, 0] = (full_X[:, 0] - 0.1) / (9.0 - 0.1)\n",
    "selected_X[:, 1] = (selected_X[:, 1] - 200) / (2000 - 200)\n",
    "selected_X[:, 2] = (selected_X[:, 2] - 200) / (2000 - 200)\n",
    "selected_X[:, 3] = (selected_X[:, 3] - 200) / (2000 - 200)\n",
    "selected_X[:, 4] = (selected_X[:, 4] - 200) / (4500 - 200)\n",
    "selected_X[:, 5] = (selected_X[:, 5] - 200) / (4500 - 200)\n",
    "selected_X[:, 6] = (selected_X[:, 6] - 200) / (4500 - 200)\n",
    "selected_X[:, 7] = (selected_X[:, 7] - 200) / (4500 - 200)\n",
    "selected_X[:, 8] = (selected_X[:, 8] - 9000) / (12000 - 9000)\n",
    "selected_X[:, 9] = (selected_X[:, 9] - 100) / (300 - 100)"
   ]
  },
  {
   "cell_type": "code",
   "execution_count": 7,
   "id": "37c485cc-0a34-4b4f-a74c-e8167a60611e",
   "metadata": {},
   "outputs": [],
   "source": [
    "X_train, X_vali, y_train, y_vali = train_test_split(selected_X, selected_y, test_size=0.05, random_state=0)"
   ]
  },
  {
   "cell_type": "code",
   "execution_count": 8,
   "id": "5da67e38-f666-45ab-bc67-27172c5d2fdb",
   "metadata": {},
   "outputs": [],
   "source": [
    "indices = np.random.choice(full_X.shape[0], X_vali.shape[0], replace=False)\n",
    "X_of_vali = full_X[indices]\n",
    "y_of_vali = full_y[indices]"
   ]
  },
  {
   "cell_type": "code",
   "execution_count": 11,
   "id": "e8c2594c-85d8-4d57-bdc5-967fe248357a",
   "metadata": {},
   "outputs": [
    {
     "name": "stderr",
     "output_type": "stream",
     "text": [
      "2024-04-29 10:09:59.057714: I tensorflow/core/common_runtime/gpu/gpu_device.cc:1639] Created device /job:localhost/replica:0/task:0/device:GPU:0 with 9604 MB memory:  -> device: 0, name: NVIDIA GeForce RTX 2080 Ti, pci bus id: 0000:17:00.0, compute capability: 7.5\n",
      "2024-04-29 10:09:59.058242: I tensorflow/core/common_runtime/gpu/gpu_device.cc:1639] Created device /job:localhost/replica:0/task:0/device:GPU:1 with 9621 MB memory:  -> device: 1, name: NVIDIA GeForce RTX 2080 Ti, pci bus id: 0000:65:00.0, compute capability: 7.5\n"
     ]
    }
   ],
   "source": [
    "dataset_train = tf.data.Dataset.from_tensor_slices((X_train, y_train))\n",
    "dataset_train = dataset_train.shuffle(buffer_size=X_train.shape[0])\n",
    "dataset_train = dataset_train.batch(BATCH_SIZE)\n",
    "dataset_train = dataset_train.prefetch(tf.data.experimental.AUTOTUNE)"
   ]
  },
  {
   "cell_type": "code",
   "execution_count": 12,
   "id": "d7deab0f-4383-4930-9ee8-9719e9ed8246",
   "metadata": {},
   "outputs": [],
   "source": [
    "class MLP(tf.keras.Model):\n",
    "    def __init__(self):\n",
    "        super().__init__()\n",
    "        self.emb = tf.keras.layers.Embedding(101, 9)\n",
    "        \n",
    "        self.dense0a = tf.keras.layers.Dense(units=256)\n",
    "        self.dense0b = tf.keras.layers.Dense(units=256)\n",
    "        \n",
    "        self.dense1 = tf.keras.layers.Dense(units=640, activation=tf.nn.leaky_relu)\n",
    "        \n",
    "        self.dense2 = tf.keras.layers.Dense(units=736, activation=tf.nn.leaky_relu)\n",
    "        self.bn2 = tf.keras.layers.BatchNormalization()\n",
    "        \n",
    "        self.dense3 = tf.keras.layers.Dense(units=672, activation=tf.nn.leaky_relu)\n",
    "        \n",
    "        self.dense4 = tf.keras.layers.Dense(units=576)\n",
    "        self.bn4 = tf.keras.layers.BatchNormalization()\n",
    "        \n",
    "        self.dense5 = tf.keras.layers.Dense(units=32, activation=tf.nn.leaky_relu)\n",
    "        self.bn5 = tf.keras.layers.BatchNormalization()\n",
    "        \n",
    "        self.dense6 = tf.keras.layers.Dense(units=2)\n",
    "\n",
    "    def call(self, inputs):\n",
    "        \n",
    "        f = inputs[:, :1]\n",
    "        g = inputs[:, 1:]\n",
    "        x1 = self.dense0a(f)\n",
    "        x2 = self.dense0b(g)\n",
    "        x = x1 + x2\n",
    "        \n",
    "        x = self.dense1(x)\n",
    "\n",
    "        x = self.bn2(self.dense2(x))\n",
    "\n",
    "        x = self.dense3(x)\n",
    "        \n",
    "        x = self.bn4(self.dense4(x))\n",
    "\n",
    "        x = self.bn5(self.dense5(x))\n",
    "\n",
    "        output = self.dense6(x)\n",
    "        \n",
    "        return output"
   ]
  },
  {
   "cell_type": "code",
   "execution_count": 13,
   "id": "03f668d1-bbae-45db-8868-672c5a9a6007",
   "metadata": {},
   "outputs": [],
   "source": [
    "model = MLP()"
   ]
  },
  {
   "cell_type": "code",
   "execution_count": 14,
   "id": "f7c06d24-b36c-4fff-8e5c-e3b51fed2767",
   "metadata": {},
   "outputs": [],
   "source": [
    "learning_rate = tf.keras.optimizers.schedules.ExponentialDecay(\n",
    "        initial_learning_rate,\n",
    "        decay_steps,\n",
    "        decay_rate,\n",
    "        staircase=True  # 是否以指数方式精确衰减，默认False，若为True则每隔decay_steps学习率按decay_rate衰减\n",
    "    )"
   ]
  },
  {
   "cell_type": "code",
   "execution_count": 15,
   "id": "3bcb16e9-6aac-4b79-94e2-5199ea545a4d",
   "metadata": {},
   "outputs": [],
   "source": [
    "optimizer = tf.keras.optimizers.Adam(learning_rate=learning_rate)"
   ]
  },
  {
   "cell_type": "code",
   "execution_count": null,
   "id": "aa07d97c-96cd-4e06-993f-f858d2bcfe42",
   "metadata": {},
   "outputs": [],
   "source": []
  },
  {
   "cell_type": "code",
   "execution_count": 16,
   "id": "86f3bd0d-4d25-405d-a8a2-628ac19c7a91",
   "metadata": {
    "scrolled": true
   },
   "outputs": [
    {
     "name": "stderr",
     "output_type": "stream",
     "text": [
      "  0%|                                                                                           | 0/186 [00:00<?, ?it/s]2024-04-29 10:11:17.921921: I tensorflow/compiler/xla/service/service.cc:168] XLA service 0x55a61265d240 initialized for platform CUDA (this does not guarantee that XLA will be used). Devices:\n",
      "2024-04-29 10:11:17.921942: I tensorflow/compiler/xla/service/service.cc:176]   StreamExecutor device (0): NVIDIA GeForce RTX 2080 Ti, Compute Capability 7.5\n",
      "2024-04-29 10:11:17.921945: I tensorflow/compiler/xla/service/service.cc:176]   StreamExecutor device (1): NVIDIA GeForce RTX 2080 Ti, Compute Capability 7.5\n",
      "2024-04-29 10:11:17.925312: I tensorflow/compiler/mlir/tensorflow/utils/dump_mlir_util.cc:255] disabling MLIR crash reproducer, set env var `MLIR_CRASH_REPRODUCER_DIRECTORY` to enable.\n",
      "2024-04-29 10:11:18.030879: I tensorflow/compiler/xla/stream_executor/cuda/cuda_dnn.cc:432] Loaded cuDNN version 8600\n",
      "2024-04-29 10:11:18.133966: I ./tensorflow/compiler/jit/device_compiler.h:186] Compiled cluster using XLA!  This line is logged at most once for the lifetime of the process.\n"
     ]
    },
    {
     "name": "stdout",
     "output_type": "stream",
     "text": [
      "WARNING:tensorflow:5 out of the last 5 calls to <function _BaseOptimizer._update_step_xla at 0x7f0ec0077b80> triggered tf.function retracing. Tracing is expensive and the excessive number of tracings could be due to (1) creating @tf.function repeatedly in a loop, (2) passing tensors with different shapes, (3) passing Python objects instead of tensors. For (1), please define your @tf.function outside of the loop. For (2), @tf.function has reduce_retracing=True option that can avoid unnecessary retracing. For (3), please refer to https://www.tensorflow.org/guide/function#controlling_retracing and https://www.tensorflow.org/api_docs/python/tf/function for  more details.\n",
      "WARNING:tensorflow:6 out of the last 6 calls to <function _BaseOptimizer._update_step_xla at 0x7f0ec0077b80> triggered tf.function retracing. Tracing is expensive and the excessive number of tracings could be due to (1) creating @tf.function repeatedly in a loop, (2) passing tensors with different shapes, (3) passing Python objects instead of tensors. For (1), please define your @tf.function outside of the loop. For (2), @tf.function has reduce_retracing=True option that can avoid unnecessary retracing. For (3), please refer to https://www.tensorflow.org/guide/function#controlling_retracing and https://www.tensorflow.org/api_docs/python/tf/function for  more details.\n"
     ]
    },
    {
     "name": "stderr",
     "output_type": "stream",
     "text": [
      "100%|█████████████████████████████████████████████████████████████████████████████████| 186/186 [00:07<00:00, 26.55it/s]\n"
     ]
    },
    {
     "name": "stdout",
     "output_type": "stream",
     "text": [
      "epoch0\n",
      " training loss: 0.05814824253320694\t training r2: 0.00014638900756835938\n",
      " vali loss: 0.05562315136194229\t vali r2: -0.001900315284729004\n",
      " of vali loss: 1316.133056640625\t of vali r2: -21578.416015625\n"
     ]
    },
    {
     "name": "stderr",
     "output_type": "stream",
     "text": [
      "100%|█████████████████████████████████████████████████████████████████████████████████| 186/186 [00:04<00:00, 44.46it/s]\n"
     ]
    },
    {
     "name": "stdout",
     "output_type": "stream",
     "text": [
      "epoch1\n",
      " training loss: 0.07118586450815201\t training r2: -0.0032819509506225586\n",
      " vali loss: 0.05558557063341141\t vali r2: -0.001223444938659668\n",
      " of vali loss: 8886.0107421875\t of vali r2: -145694.71875\n"
     ]
    },
    {
     "name": "stderr",
     "output_type": "stream",
     "text": [
      "100%|█████████████████████████████████████████████████████████████████████████████████| 186/186 [00:04<00:00, 45.96it/s]\n"
     ]
    },
    {
     "name": "stdout",
     "output_type": "stream",
     "text": [
      "epoch2\n",
      " training loss: 0.05998405069112778\t training r2: 0.012588858604431152\n",
      " vali loss: 0.05554141849279404\t vali r2: -0.00042808055877685547\n",
      " of vali loss: 110123.0859375\t of vali r2: -1805585.375\n"
     ]
    },
    {
     "name": "stderr",
     "output_type": "stream",
     "text": [
      "100%|█████████████████████████████████████████████████████████████████████████████████| 186/186 [00:04<00:00, 45.41it/s]\n"
     ]
    },
    {
     "name": "stdout",
     "output_type": "stream",
     "text": [
      "epoch3\n",
      " training loss: 0.06047220155596733\t training r2: 0.06169027090072632\n",
      " vali loss: 0.05235873907804489\t vali r2: 0.05689924955368042\n",
      " of vali loss: 26996.953125\t of vali r2: -442643.09375\n"
     ]
    },
    {
     "name": "stderr",
     "output_type": "stream",
     "text": [
      "100%|█████████████████████████████████████████████████████████████████████████████████| 186/186 [00:03<00:00, 48.75it/s]\n"
     ]
    },
    {
     "name": "stdout",
     "output_type": "stream",
     "text": [
      "epoch4\n",
      " training loss: 0.034374188631772995\t training r2: 0.2808205485343933\n",
      " vali loss: 0.040237266570329666\t vali r2: 0.2752346992492676\n",
      " of vali loss: 2153361.75\t of vali r2: -35306684.0\n"
     ]
    },
    {
     "name": "stderr",
     "output_type": "stream",
     "text": [
      "100%|█████████████████████████████████████████████████████████████████████████████████| 186/186 [00:03<00:00, 47.45it/s]\n"
     ]
    },
    {
     "name": "stdout",
     "output_type": "stream",
     "text": [
      "epoch5\n",
      " training loss: 0.02128559909760952\t training r2: 0.6404148936271667\n",
      " vali loss: 0.026111062616109848\t vali r2: 0.5296800136566162\n",
      " of vali loss: 6334430.5\t of vali r2: -103859800.0\n"
     ]
    },
    {
     "name": "stderr",
     "output_type": "stream",
     "text": [
      "100%|█████████████████████████████████████████████████████████████████████████████████| 186/186 [00:04<00:00, 45.88it/s]\n"
     ]
    },
    {
     "name": "stdout",
     "output_type": "stream",
     "text": [
      "epoch6\n",
      " training loss: 0.020214391872286797\t training r2: 0.6339318156242371\n",
      " vali loss: 0.01855582930147648\t vali r2: 0.6657670736312866\n",
      " of vali loss: 67021492.0\t of vali r2: -1098889472.0\n"
     ]
    },
    {
     "name": "stderr",
     "output_type": "stream",
     "text": [
      "100%|█████████████████████████████████████████████████████████████████████████████████| 186/186 [00:03<00:00, 46.86it/s]\n"
     ]
    },
    {
     "name": "stdout",
     "output_type": "stream",
     "text": [
      "epoch7\n",
      " training loss: 0.01876313053071499\t training r2: 0.6250625848770142\n",
      " vali loss: 0.02116442658007145\t vali r2: 0.618780255317688\n",
      " of vali loss: 106931320.0\t of vali r2: -1753254016.0\n"
     ]
    },
    {
     "name": "stderr",
     "output_type": "stream",
     "text": [
      "100%|█████████████████████████████████████████████████████████████████████████████████| 186/186 [00:04<00:00, 46.28it/s]\n"
     ]
    },
    {
     "name": "stdout",
     "output_type": "stream",
     "text": [
      "epoch8\n",
      " training loss: 0.020678685978055\t training r2: 0.6914101243019104\n",
      " vali loss: 0.0181308351457119\t vali r2: 0.6734221577644348\n",
      " of vali loss: 60884916.0\t of vali r2: -998273728.0\n"
     ]
    },
    {
     "name": "stderr",
     "output_type": "stream",
     "text": [
      "100%|█████████████████████████████████████████████████████████████████████████████████| 186/186 [00:04<00:00, 45.05it/s]\n"
     ]
    },
    {
     "name": "stdout",
     "output_type": "stream",
     "text": [
      "epoch9\n",
      " training loss: 0.01787319779396057\t training r2: 0.6935954093933105\n",
      " vali loss: 0.018955908715724945\t vali r2: 0.6585606932640076\n",
      " of vali loss: 77296880.0\t of vali r2: -1267365504.0\n"
     ]
    },
    {
     "name": "stderr",
     "output_type": "stream",
     "text": [
      "100%|█████████████████████████████████████████████████████████████████████████████████| 186/186 [00:04<00:00, 45.35it/s]\n"
     ]
    },
    {
     "name": "stdout",
     "output_type": "stream",
     "text": [
      "epoch10\n",
      " training loss: 0.018608368933200836\t training r2: 0.6618390083312988\n",
      " vali loss: 0.017412656918168068\t vali r2: 0.6863582134246826\n",
      " of vali loss: 71254752.0\t of vali r2: -1168298240.0\n"
     ]
    },
    {
     "name": "stderr",
     "output_type": "stream",
     "text": [
      "100%|█████████████████████████████████████████████████████████████████████████████████| 186/186 [00:04<00:00, 43.37it/s]\n"
     ]
    },
    {
     "name": "stdout",
     "output_type": "stream",
     "text": [
      "epoch11\n",
      " training loss: 0.016537370160222054\t training r2: 0.6333609223365784\n",
      " vali loss: 0.015711382031440735\t vali r2: 0.7170020341873169\n",
      " of vali loss: 39639980.0\t of vali r2: -649940096.0\n"
     ]
    },
    {
     "name": "stderr",
     "output_type": "stream",
     "text": [
      "100%|█████████████████████████████████████████████████████████████████████████████████| 186/186 [00:04<00:00, 44.89it/s]\n"
     ]
    },
    {
     "name": "stdout",
     "output_type": "stream",
     "text": [
      "epoch12\n",
      " training loss: 0.02270624041557312\t training r2: 0.6494913101196289\n",
      " vali loss: 0.015909679234027863\t vali r2: 0.7134302854537964\n",
      " of vali loss: 42226696.0\t of vali r2: -692352128.0\n"
     ]
    },
    {
     "name": "stderr",
     "output_type": "stream",
     "text": [
      "100%|█████████████████████████████████████████████████████████████████████████████████| 186/186 [00:04<00:00, 45.40it/s]\n"
     ]
    },
    {
     "name": "stdout",
     "output_type": "stream",
     "text": [
      "epoch13\n",
      " training loss: 0.015753740444779396\t training r2: 0.689384937286377\n",
      " vali loss: 0.01894848234951496\t vali r2: 0.6586945056915283\n",
      " of vali loss: 33413576.0\t of vali r2: -547851520.0\n"
     ]
    },
    {
     "name": "stderr",
     "output_type": "stream",
     "text": [
      "100%|█████████████████████████████████████████████████████████████████████████████████| 186/186 [00:03<00:00, 47.30it/s]\n"
     ]
    },
    {
     "name": "stdout",
     "output_type": "stream",
     "text": [
      "epoch14\n",
      " training loss: 0.010509365238249302\t training r2: 0.7816701531410217\n",
      " vali loss: 0.01539873331785202\t vali r2: 0.7226336002349854\n",
      " of vali loss: 67344056.0\t of vali r2: -1104178304.0\n"
     ]
    },
    {
     "name": "stderr",
     "output_type": "stream",
     "text": [
      "100%|█████████████████████████████████████████████████████████████████████████████████| 186/186 [00:03<00:00, 47.39it/s]\n"
     ]
    },
    {
     "name": "stdout",
     "output_type": "stream",
     "text": [
      "epoch15\n",
      " training loss: 0.021319786086678505\t training r2: 0.6322014331817627\n",
      " vali loss: 0.016200287267565727\t vali r2: 0.7081957459449768\n",
      " of vali loss: 17418368.0\t of vali r2: -285592864.0\n"
     ]
    },
    {
     "name": "stderr",
     "output_type": "stream",
     "text": [
      "100%|█████████████████████████████████████████████████████████████████████████████████| 186/186 [00:04<00:00, 45.54it/s]\n"
     ]
    },
    {
     "name": "stdout",
     "output_type": "stream",
     "text": [
      "epoch16\n",
      " training loss: 0.015340566635131836\t training r2: 0.6928281784057617\n",
      " vali loss: 0.01588468998670578\t vali r2: 0.7138804197311401\n",
      " of vali loss: 46169568.0\t of vali r2: -756999744.0\n"
     ]
    },
    {
     "name": "stderr",
     "output_type": "stream",
     "text": [
      "100%|█████████████████████████████████████████████████████████████████████████████████| 186/186 [00:04<00:00, 45.12it/s]\n"
     ]
    },
    {
     "name": "stdout",
     "output_type": "stream",
     "text": [
      "epoch17\n",
      " training loss: 0.02245570719242096\t training r2: 0.6595176458358765\n",
      " vali loss: 0.01442746538668871\t vali r2: 0.7401282787322998\n",
      " of vali loss: 70543792.0\t of vali r2: -1156641280.0\n"
     ]
    },
    {
     "name": "stderr",
     "output_type": "stream",
     "text": [
      "100%|█████████████████████████████████████████████████████████████████████████████████| 186/186 [00:04<00:00, 44.56it/s]\n"
     ]
    },
    {
     "name": "stdout",
     "output_type": "stream",
     "text": [
      "epoch18\n",
      " training loss: 0.00918566808104515\t training r2: 0.8066650032997131\n",
      " vali loss: 0.012555703520774841\t vali r2: 0.7738430500030518\n",
      " of vali loss: 167651520.0\t of vali r2: -2748827136.0\n"
     ]
    },
    {
     "name": "stderr",
     "output_type": "stream",
     "text": [
      "100%|█████████████████████████████████████████████████████████████████████████████████| 186/186 [00:04<00:00, 44.80it/s]\n"
     ]
    },
    {
     "name": "stdout",
     "output_type": "stream",
     "text": [
      "epoch19\n",
      " training loss: 0.016590356826782227\t training r2: 0.6991944313049316\n",
      " vali loss: 0.014556207694113255\t vali r2: 0.737809419631958\n",
      " of vali loss: 185573648.0\t of vali r2: -3042679552.0\n"
     ]
    },
    {
     "name": "stderr",
     "output_type": "stream",
     "text": [
      "100%|█████████████████████████████████████████████████████████████████████████████████| 186/186 [00:04<00:00, 46.09it/s]\n"
     ]
    },
    {
     "name": "stdout",
     "output_type": "stream",
     "text": [
      "epoch20\n",
      " training loss: 0.01076375599950552\t training r2: 0.8048384785652161\n",
      " vali loss: 0.01212721411138773\t vali r2: 0.7815611362457275\n",
      " of vali loss: 326384160.0\t of vali r2: -5351419392.0\n"
     ]
    },
    {
     "name": "stderr",
     "output_type": "stream",
     "text": [
      "100%|█████████████████████████████████████████████████████████████████████████████████| 186/186 [00:04<00:00, 44.57it/s]\n"
     ]
    },
    {
     "name": "stdout",
     "output_type": "stream",
     "text": [
      "epoch21\n",
      " training loss: 0.015956060960888863\t training r2: 0.7432820796966553\n",
      " vali loss: 0.011072306893765926\t vali r2: 0.8005623817443848\n",
      " of vali loss: 798308800.0\t of vali r2: -13089131520.0\n"
     ]
    },
    {
     "name": "stderr",
     "output_type": "stream",
     "text": [
      "100%|█████████████████████████████████████████████████████████████████████████████████| 186/186 [00:04<00:00, 45.60it/s]\n"
     ]
    },
    {
     "name": "stdout",
     "output_type": "stream",
     "text": [
      "epoch22\n",
      " training loss: 0.008804176934063435\t training r2: 0.8091716766357422\n",
      " vali loss: 0.011922778561711311\t vali r2: 0.7852434515953064\n",
      " of vali loss: 729324480.0\t of vali r2: -11958060032.0\n"
     ]
    },
    {
     "name": "stderr",
     "output_type": "stream",
     "text": [
      "100%|█████████████████████████████████████████████████████████████████████████████████| 186/186 [00:04<00:00, 45.70it/s]\n"
     ]
    },
    {
     "name": "stdout",
     "output_type": "stream",
     "text": [
      "epoch23\n",
      " training loss: 0.008366023190319538\t training r2: 0.8224474191665649\n",
      " vali loss: 0.011497660540044308\t vali r2: 0.792900800704956\n",
      " of vali loss: 901062208.0\t of vali r2: -14773884928.0\n"
     ]
    },
    {
     "name": "stderr",
     "output_type": "stream",
     "text": [
      "100%|█████████████████████████████████████████████████████████████████████████████████| 186/186 [00:04<00:00, 44.93it/s]\n"
     ]
    },
    {
     "name": "stdout",
     "output_type": "stream",
     "text": [
      "epoch24\n",
      " training loss: 0.012698009610176086\t training r2: 0.8165732622146606\n",
      " vali loss: 0.010373679921030998\t vali r2: 0.8131462931632996\n",
      " of vali loss: 426314560.0\t of vali r2: -6989885952.0\n"
     ]
    },
    {
     "name": "stderr",
     "output_type": "stream",
     "text": [
      "100%|█████████████████████████████████████████████████████████████████████████████████| 186/186 [00:04<00:00, 45.23it/s]\n"
     ]
    },
    {
     "name": "stdout",
     "output_type": "stream",
     "text": [
      "epoch25\n",
      " training loss: 0.013969618827104568\t training r2: 0.7694242596626282\n",
      " vali loss: 0.010145789012312889\t vali r2: 0.8172510862350464\n",
      " of vali loss: 438617984.0\t of vali r2: -7191613440.0\n"
     ]
    },
    {
     "name": "stderr",
     "output_type": "stream",
     "text": [
      "100%|█████████████████████████████████████████████████████████████████████████████████| 186/186 [00:03<00:00, 46.87it/s]\n"
     ]
    },
    {
     "name": "stdout",
     "output_type": "stream",
     "text": [
      "epoch26\n",
      " training loss: 0.007895760238170624\t training r2: 0.7743891477584839\n",
      " vali loss: 0.010545562952756882\t vali r2: 0.8100502490997314\n",
      " of vali loss: 704811392.0\t of vali r2: -11556141056.0\n"
     ]
    },
    {
     "name": "stderr",
     "output_type": "stream",
     "text": [
      "100%|█████████████████████████████████████████████████████████████████████████████████| 186/186 [00:04<00:00, 45.63it/s]\n"
     ]
    },
    {
     "name": "stdout",
     "output_type": "stream",
     "text": [
      "epoch27\n",
      " training loss: 0.007834653370082378\t training r2: 0.8604673743247986\n",
      " vali loss: 0.010587424039840698\t vali r2: 0.8092962503433228\n",
      " of vali loss: 663851776.0\t of vali r2: -10884563968.0\n"
     ]
    },
    {
     "name": "stderr",
     "output_type": "stream",
     "text": [
      "100%|█████████████████████████████████████████████████████████████████████████████████| 186/186 [00:04<00:00, 45.40it/s]\n"
     ]
    },
    {
     "name": "stdout",
     "output_type": "stream",
     "text": [
      "epoch28\n",
      " training loss: 0.011034602299332619\t training r2: 0.7793598175048828\n",
      " vali loss: 0.010593004524707794\t vali r2: 0.8091957569122314\n",
      " of vali loss: 1497795712.0\t of vali r2: -24557971456.0\n"
     ]
    },
    {
     "name": "stderr",
     "output_type": "stream",
     "text": [
      "100%|█████████████████████████████████████████████████████████████████████████████████| 186/186 [00:04<00:00, 44.58it/s]\n"
     ]
    },
    {
     "name": "stdout",
     "output_type": "stream",
     "text": [
      "epoch29\n",
      " training loss: 0.008654134348034859\t training r2: 0.8613828420639038\n",
      " vali loss: 0.0106104901060462\t vali r2: 0.8088808059692383\n",
      " of vali loss: 261147328.0\t of vali r2: -4281791488.0\n"
     ]
    },
    {
     "name": "stderr",
     "output_type": "stream",
     "text": [
      "100%|█████████████████████████████████████████████████████████████████████████████████| 186/186 [00:03<00:00, 46.99it/s]\n"
     ]
    },
    {
     "name": "stdout",
     "output_type": "stream",
     "text": [
      "epoch30\n",
      " training loss: 0.009869805537164211\t training r2: 0.8244587182998657\n",
      " vali loss: 0.010204360820353031\t vali r2: 0.816196084022522\n",
      " of vali loss: 288070368.0\t of vali r2: -4723223552.0\n"
     ]
    },
    {
     "name": "stderr",
     "output_type": "stream",
     "text": [
      "100%|█████████████████████████████████████████████████████████████████████████████████| 186/186 [00:04<00:00, 45.96it/s]\n"
     ]
    },
    {
     "name": "stdout",
     "output_type": "stream",
     "text": [
      "epoch31\n",
      " training loss: 0.008898722939193249\t training r2: 0.8128383755683899\n",
      " vali loss: 0.008984812535345554\t vali r2: 0.8381629586219788\n",
      " of vali loss: 986617344.0\t of vali r2: -16176652288.0\n"
     ]
    },
    {
     "name": "stderr",
     "output_type": "stream",
     "text": [
      "100%|█████████████████████████████████████████████████████████████████████████████████| 186/186 [00:04<00:00, 45.14it/s]\n"
     ]
    },
    {
     "name": "stdout",
     "output_type": "stream",
     "text": [
      "epoch32\n",
      " training loss: 0.011196829378604889\t training r2: 0.812788724899292\n",
      " vali loss: 0.008346835151314735\t vali r2: 0.8496543765068054\n",
      " of vali loss: 1180542208.0\t of vali r2: -19356260352.0\n"
     ]
    },
    {
     "name": "stderr",
     "output_type": "stream",
     "text": [
      "100%|█████████████████████████████████████████████████████████████████████████████████| 186/186 [00:04<00:00, 43.85it/s]\n"
     ]
    },
    {
     "name": "stdout",
     "output_type": "stream",
     "text": [
      "epoch33\n",
      " training loss: 0.009081732481718063\t training r2: 0.8394347429275513\n",
      " vali loss: 0.00908324122428894\t vali r2: 0.8363900184631348\n",
      " of vali loss: 1705369216.0\t of vali r2: -27961362432.0\n"
     ]
    },
    {
     "name": "stderr",
     "output_type": "stream",
     "text": [
      "100%|█████████████████████████████████████████████████████████████████████████████████| 186/186 [00:04<00:00, 45.31it/s]\n"
     ]
    },
    {
     "name": "stdout",
     "output_type": "stream",
     "text": [
      "epoch34\n",
      " training loss: 0.004326194524765015\t training r2: 0.9148107171058655\n",
      " vali loss: 0.0068174744956195354\t vali r2: 0.8772016763687134\n",
      " of vali loss: 832906304.0\t of vali r2: -13656394752.0\n"
     ]
    },
    {
     "name": "stderr",
     "output_type": "stream",
     "text": [
      "100%|█████████████████████████████████████████████████████████████████████████████████| 186/186 [00:04<00:00, 44.98it/s]\n"
     ]
    },
    {
     "name": "stdout",
     "output_type": "stream",
     "text": [
      "epoch35\n",
      " training loss: 0.00722386222332716\t training r2: 0.8972375988960266\n",
      " vali loss: 0.005939758848398924\t vali r2: 0.8930113315582275\n",
      " of vali loss: 758524544.0\t of vali r2: -12436826112.0\n"
     ]
    },
    {
     "name": "stderr",
     "output_type": "stream",
     "text": [
      "100%|█████████████████████████████████████████████████████████████████████████████████| 186/186 [00:04<00:00, 45.77it/s]\n"
     ]
    },
    {
     "name": "stdout",
     "output_type": "stream",
     "text": [
      "epoch36\n",
      " training loss: 0.006826051510870457\t training r2: 0.852148175239563\n",
      " vali loss: 0.006777690723538399\t vali r2: 0.8779182434082031\n",
      " of vali loss: 277816224.0\t of vali r2: -4555096064.0\n"
     ]
    },
    {
     "name": "stderr",
     "output_type": "stream",
     "text": [
      "100%|█████████████████████████████████████████████████████████████████████████████████| 186/186 [00:04<00:00, 45.04it/s]\n"
     ]
    },
    {
     "name": "stdout",
     "output_type": "stream",
     "text": [
      "epoch37\n",
      " training loss: 0.006126537453383207\t training r2: 0.8921048641204834\n",
      " vali loss: 0.005456211976706982\t vali r2: 0.9017211198806763\n",
      " of vali loss: 261454768.0\t of vali r2: -4286832128.0\n"
     ]
    },
    {
     "name": "stderr",
     "output_type": "stream",
     "text": [
      "100%|█████████████████████████████████████████████████████████████████████████████████| 186/186 [00:04<00:00, 45.48it/s]\n"
     ]
    },
    {
     "name": "stdout",
     "output_type": "stream",
     "text": [
      "epoch38\n",
      " training loss: 0.00524871563538909\t training r2: 0.9065640568733215\n",
      " vali loss: 0.0057185073383152485\t vali r2: 0.8969966173171997\n",
      " of vali loss: 425722272.0\t of vali r2: -6980174848.0\n"
     ]
    },
    {
     "name": "stderr",
     "output_type": "stream",
     "text": [
      "100%|█████████████████████████████████████████████████████████████████████████████████| 186/186 [00:04<00:00, 45.56it/s]\n"
     ]
    },
    {
     "name": "stdout",
     "output_type": "stream",
     "text": [
      "epoch39\n",
      " training loss: 0.006891963537782431\t training r2: 0.8901315927505493\n",
      " vali loss: 0.0054546850733459\t vali r2: 0.9017486572265625\n",
      " of vali loss: 156809584.0\t of vali r2: -2571061760.0\n"
     ]
    },
    {
     "name": "stderr",
     "output_type": "stream",
     "text": [
      "100%|█████████████████████████████████████████████████████████████████████████████████| 186/186 [00:04<00:00, 46.34it/s]\n"
     ]
    },
    {
     "name": "stdout",
     "output_type": "stream",
     "text": [
      "epoch40\n",
      " training loss: 0.005894591100513935\t training r2: 0.9076643586158752\n",
      " vali loss: 0.004974480252712965\t vali r2: 0.9103982448577881\n",
      " of vali loss: 274582368.0\t of vali r2: -4502073344.0\n"
     ]
    },
    {
     "name": "stderr",
     "output_type": "stream",
     "text": [
      "100%|█████████████████████████████████████████████████████████████████████████████████| 186/186 [00:04<00:00, 45.82it/s]\n"
     ]
    },
    {
     "name": "stdout",
     "output_type": "stream",
     "text": [
      "epoch41\n",
      " training loss: 0.006597496569156647\t training r2: 0.8822938203811646\n",
      " vali loss: 0.005174829158931971\t vali r2: 0.9067894816398621\n",
      " of vali loss: 246532960.0\t of vali r2: -4042172928.0\n"
     ]
    },
    {
     "name": "stderr",
     "output_type": "stream",
     "text": [
      "100%|█████████████████████████████████████████████████████████████████████████████████| 186/186 [00:04<00:00, 45.02it/s]\n"
     ]
    },
    {
     "name": "stdout",
     "output_type": "stream",
     "text": [
      "epoch42\n",
      " training loss: 0.0039016897790133953\t training r2: 0.931206464767456\n",
      " vali loss: 0.004593978635966778\t vali r2: 0.9172519445419312\n",
      " of vali loss: 419481088.0\t of vali r2: -6877843968.0\n"
     ]
    },
    {
     "name": "stderr",
     "output_type": "stream",
     "text": [
      "100%|█████████████████████████████████████████████████████████████████████████████████| 186/186 [00:04<00:00, 45.52it/s]\n"
     ]
    },
    {
     "name": "stdout",
     "output_type": "stream",
     "text": [
      "epoch43\n",
      " training loss: 0.004926381167024374\t training r2: 0.920208752155304\n",
      " vali loss: 0.005201508291065693\t vali r2: 0.9063089489936829\n",
      " of vali loss: 497773184.0\t of vali r2: -8161526784.0\n"
     ]
    },
    {
     "name": "stderr",
     "output_type": "stream",
     "text": [
      "100%|█████████████████████████████████████████████████████████████████████████████████| 186/186 [00:04<00:00, 44.95it/s]\n"
     ]
    },
    {
     "name": "stdout",
     "output_type": "stream",
     "text": [
      "epoch44\n",
      " training loss: 0.00923418439924717\t training r2: 0.8718863129615784\n",
      " vali loss: 0.00532179931178689\t vali r2: 0.9041422009468079\n",
      " of vali loss: 187083984.0\t of vali r2: -3067443200.0\n"
     ]
    },
    {
     "name": "stderr",
     "output_type": "stream",
     "text": [
      "100%|█████████████████████████████████████████████████████████████████████████████████| 186/186 [00:04<00:00, 45.49it/s]\n"
     ]
    },
    {
     "name": "stdout",
     "output_type": "stream",
     "text": [
      "epoch45\n",
      " training loss: 0.004027817863970995\t training r2: 0.9283459782600403\n",
      " vali loss: 0.005039331037551165\t vali r2: 0.90923011302948\n",
      " of vali loss: 196382800.0\t of vali r2: -3219907072.0\n"
     ]
    },
    {
     "name": "stderr",
     "output_type": "stream",
     "text": [
      "100%|█████████████████████████████████████████████████████████████████████████████████| 186/186 [00:04<00:00, 44.33it/s]\n"
     ]
    },
    {
     "name": "stdout",
     "output_type": "stream",
     "text": [
      "epoch46\n",
      " training loss: 0.004008239135146141\t training r2: 0.9415566921234131\n",
      " vali loss: 0.0046550859697163105\t vali r2: 0.916151225566864\n",
      " of vali loss: 189903344.0\t of vali r2: -3113669632.0\n"
     ]
    },
    {
     "name": "stderr",
     "output_type": "stream",
     "text": [
      "100%|█████████████████████████████████████████████████████████████████████████████████| 186/186 [00:04<00:00, 43.45it/s]\n"
     ]
    },
    {
     "name": "stdout",
     "output_type": "stream",
     "text": [
      "epoch47\n",
      " training loss: 0.005954273976385593\t training r2: 0.902385950088501\n",
      " vali loss: 0.005073193926364183\t vali r2: 0.9086201786994934\n",
      " of vali loss: 316237664.0\t of vali r2: -5185056256.0\n"
     ]
    },
    {
     "name": "stderr",
     "output_type": "stream",
     "text": [
      "100%|█████████████████████████████████████████████████████████████████████████████████| 186/186 [00:04<00:00, 45.65it/s]\n"
     ]
    },
    {
     "name": "stdout",
     "output_type": "stream",
     "text": [
      "epoch48\n",
      " training loss: 0.005300236400216818\t training r2: 0.9110198020935059\n",
      " vali loss: 0.004012223798781633\t vali r2: 0.9277306795120239\n",
      " of vali loss: 129097240.0\t of vali r2: -2116688128.0\n"
     ]
    },
    {
     "name": "stderr",
     "output_type": "stream",
     "text": [
      "100%|█████████████████████████████████████████████████████████████████████████████████| 186/186 [00:04<00:00, 44.50it/s]"
     ]
    },
    {
     "name": "stdout",
     "output_type": "stream",
     "text": [
      "epoch49\n",
      " training loss: 0.003595949150621891\t training r2: 0.9451079964637756\n",
      " vali loss: 0.005589987151324749\t vali r2: 0.8993115425109863\n",
      " of vali loss: 283208544.0\t of vali r2: -4643508736.0\n"
     ]
    },
    {
     "name": "stderr",
     "output_type": "stream",
     "text": [
      "\n"
     ]
    }
   ],
   "source": [
    "for i in range(50):\n",
    "    for X, y in tqdm(dataset_train):\n",
    "        with tf.GradientTape() as tape:\n",
    "            y_pred = model(X)\n",
    "            tr_mse = tf.reduce_mean(tf.square(y_pred - y))\n",
    "        grads = tape.gradient(tr_mse, model.trainable_variables)\n",
    "        optimizer.apply_gradients(grads_and_vars=zip(grads, model.trainable_variables))\n",
    "        \n",
    "    tr_r2 = 1 - tf.reduce_sum(tf.square(y_pred - y)) / tf.reduce_sum(tf.square(y - tf.reduce_mean(y)))\n",
    "    \n",
    "    p_y_vali = model(X_vali)\n",
    "    mse_vali = tf.reduce_mean(tf.square(p_y_vali - y_vali))\n",
    "    r2_vali = 1 - tf.reduce_sum(tf.square(p_y_vali - y_vali)) / tf.reduce_sum(tf.square(y_vali - tf.reduce_mean(y_vali)))\n",
    "\n",
    "    p_y_of_vali = model(X_of_vali)\n",
    "    mse_of_vali = tf.reduce_mean(tf.square(p_y_of_vali - y_of_vali))\n",
    "    r2_of_vali = 1 - tf.reduce_sum(tf.square(p_y_of_vali - y_of_vali)) / tf.reduce_sum(tf.square(y_of_vali - tf.reduce_mean(y_of_vali)))\n",
    "    \n",
    "    print(f'epoch{i}\\n training loss: {tr_mse}\\t training r2: {tr_r2}\\n vali loss: {mse_vali}\\t vali r2: {r2_vali}\\n of vali loss: {mse_of_vali}\\t of vali r2: {r2_of_vali}')\n",
    "    \n",
    "    # print(f\"Epoch: {i}\\t geo_seen_freq_seen(train): {tr_mse}\\t geo_unseen_freq_seen: {mse_geo_unseen_freq_seen}\\t geo_seen_freq_unseen: {mse_geo_seen_freq_unseen}\\t geo_unseen_freq_unseen: {mse_geo_unseen_freq_unseen}\")\n",
    "    # log.append({'epoch': i, 'geo_seen_freq_seen': tr_mse, 'geo_unseen_freq_seen': mse_geo_unseen_freq_seen, 'geo_seen_freq_unseen': mse_geo_seen_freq_unseen, 'geo_unseen_freq_unseen': mse_geo_unseen_freq_unseen})\n",
    "    # print(model.emb.variables[0][45])\n",
    "    # visual(model.emb.variables[0].numpy())"
   ]
  },
  {
   "cell_type": "code",
   "execution_count": null,
   "id": "6503de66-c812-488f-bcbe-2786f60f580f",
   "metadata": {},
   "outputs": [],
   "source": []
  }
 ],
 "metadata": {
  "kernelspec": {
   "display_name": "Python 3 (ipykernel)",
   "language": "python",
   "name": "python3"
  },
  "language_info": {
   "codemirror_mode": {
    "name": "ipython",
    "version": 3
   },
   "file_extension": ".py",
   "mimetype": "text/x-python",
   "name": "python",
   "nbconvert_exporter": "python",
   "pygments_lexer": "ipython3",
   "version": "3.9.17"
  }
 },
 "nbformat": 4,
 "nbformat_minor": 5
}
