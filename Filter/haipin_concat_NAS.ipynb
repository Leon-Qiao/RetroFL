{
 "cells": [
  {
   "cell_type": "code",
   "execution_count": 1,
   "id": "dfb32dff-0e6a-4ce4-b878-9aaae9bd2eb9",
   "metadata": {},
   "outputs": [
    {
     "name": "stderr",
     "output_type": "stream",
     "text": [
      "2024-04-29 17:44:11.744116: I tensorflow/core/platform/cpu_feature_guard.cc:182] This TensorFlow binary is optimized to use available CPU instructions in performance-critical operations.\n",
      "To enable the following instructions: AVX2 AVX512F FMA, in other operations, rebuild TensorFlow with the appropriate compiler flags.\n",
      "2024-04-29 17:44:12.221498: W tensorflow/compiler/tf2tensorrt/utils/py_utils.cc:38] TF-TRT Warning: Could not find TensorRT\n"
     ]
    }
   ],
   "source": [
    "import pandas as pd\n",
    "import tensorflow as tf\n",
    "import numpy as np\n",
    "from sklearn.model_selection import train_test_split\n",
    "from keras_tuner.tuners import RandomSearch\n",
    "\n",
    "from keras.layers import Input\n",
    "from keras.models import Model"
   ]
  },
  {
   "cell_type": "code",
   "execution_count": 2,
   "id": "c3a63cda-1992-4cbf-9822-9cfebfd37d8b",
   "metadata": {},
   "outputs": [],
   "source": [
    "BATCH_SIZE = 512"
   ]
  },
  {
   "cell_type": "code",
   "execution_count": 3,
   "id": "eba8cc76-8009-4d37-b1a6-bec949d858ed",
   "metadata": {},
   "outputs": [],
   "source": [
    "AS_dataset = pd.read_csv('./hairpin_filter_dataset.csv', encoding='utf-8')\n",
    "full_X = AS_dataset.loc[:,'freq':'S1'].to_numpy(dtype = np.float32)\n",
    "full_y = AS_dataset.loc[:,'S21r':'S21i'].to_numpy(dtype = np.float32)"
   ]
  },
  {
   "cell_type": "code",
   "execution_count": 4,
   "id": "bb26bc85-edcb-416e-8174-f34d7c39f1b6",
   "metadata": {},
   "outputs": [],
   "source": [
    "# 归一化\n",
    "# full_X[0] = (full_X[0] - 0.1) / (9.0 - 0.1)\n",
    "full_X[:, 1] = (full_X[:, 1] - 200) / (2000 - 200)\n",
    "full_X[:, 2] = (full_X[:, 2] - 200) / (2000 - 200)\n",
    "full_X[:, 3] = (full_X[:, 3] - 200) / (2000 - 200)\n",
    "full_X[:, 4] = (full_X[:, 4] - 200) / (4500 - 200)\n",
    "full_X[:, 5] = (full_X[:, 5] - 200) / (4500 - 200)\n",
    "full_X[:, 6] = (full_X[:, 6] - 200) / (4500 - 200)\n",
    "full_X[:, 7] = (full_X[:, 7] - 200) / (4500 - 200)\n",
    "full_X[:, 8] = (full_X[:, 8] - 9000) / (12000 - 9000)\n",
    "full_X[:, 9] = (full_X[:, 9] - 100) / (300 - 100)"
   ]
  },
  {
   "cell_type": "code",
   "execution_count": null,
   "id": "250fd0d4-c508-4df1-9a24-cf2ca697bd9c",
   "metadata": {},
   "outputs": [],
   "source": []
  },
  {
   "cell_type": "code",
   "execution_count": 5,
   "id": "b1a23362-1dab-4d79-a641-536ec1397b11",
   "metadata": {},
   "outputs": [],
   "source": [
    "X_train, X_vali, y_train, y_vali = train_test_split(full_X, full_y, test_size=0.05, random_state=0)"
   ]
  },
  {
   "cell_type": "code",
   "execution_count": 6,
   "id": "9c2a1019-2a2c-4782-9674-82caf5b3cfdb",
   "metadata": {},
   "outputs": [
    {
     "name": "stderr",
     "output_type": "stream",
     "text": [
      "2024-04-29 17:44:14.718742: I tensorflow/core/common_runtime/gpu/gpu_device.cc:1639] Created device /job:localhost/replica:0/task:0/device:GPU:0 with 9604 MB memory:  -> device: 0, name: NVIDIA GeForce RTX 2080 Ti, pci bus id: 0000:17:00.0, compute capability: 7.5\n",
      "2024-04-29 17:44:14.719217: I tensorflow/core/common_runtime/gpu/gpu_device.cc:1639] Created device /job:localhost/replica:0/task:0/device:GPU:1 with 9621 MB memory:  -> device: 1, name: NVIDIA GeForce RTX 2080 Ti, pci bus id: 0000:65:00.0, compute capability: 7.5\n"
     ]
    }
   ],
   "source": [
    "dataset_train = tf.data.Dataset.from_tensor_slices((X_train, y_train))\n",
    "dataset_train = dataset_train.shuffle(buffer_size=X_train.shape[0])\n",
    "dataset_train = dataset_train.batch(BATCH_SIZE)\n",
    "dataset_train = dataset_train.prefetch(tf.data.experimental.AUTOTUNE)"
   ]
  },
  {
   "cell_type": "code",
   "execution_count": 7,
   "id": "b9784c5a-f692-41b5-b718-3bf20458d9a3",
   "metadata": {},
   "outputs": [],
   "source": [
    "dataset_vali = tf.data.Dataset.from_tensor_slices((X_vali, y_vali))\n",
    "dataset_vali = dataset_vali.shuffle(buffer_size=X_vali.shape[0])\n",
    "dataset_vali = dataset_vali.batch(BATCH_SIZE)\n",
    "dataset_vali = dataset_vali.prefetch(tf.data.experimental.AUTOTUNE)"
   ]
  },
  {
   "cell_type": "code",
   "execution_count": 8,
   "id": "f53490e5-3ded-4d27-99d5-03beea4f15e5",
   "metadata": {},
   "outputs": [],
   "source": [
    "# 定义模型构建函数\n",
    "def build_model(hp):\n",
    "    model = tf.keras.Sequential()\n",
    "    for i in range(hp.Int('num_layers', 1, 5)):\n",
    "        model.add(\n",
    "            tf.keras.layers.Dense(\n",
    "                units=hp.Int('units_' + str(i), min_value=32, max_value=1024, step=32), \n",
    "                activation='leaky_relu' if hp.Boolean('use_relu' + str(i)) else None\n",
    "            )\n",
    "        )\n",
    "        if hp.Boolean('use_batchnorm' + str(i)):\n",
    "            model.add(tf.keras.layers.BatchNormalization())\n",
    "    model.add(tf.keras.layers.Dense(2))\n",
    "    model.compile(\n",
    "        optimizer=tf.keras.optimizers.Adam(hp.Choice('learning_rate', [1e-2, 1e-3, 1e-4])),\n",
    "        loss='mse')\n",
    "    return model"
   ]
  },
  {
   "cell_type": "code",
   "execution_count": 9,
   "id": "0399f4d9-4c5b-407c-892d-d1e6113baff7",
   "metadata": {},
   "outputs": [],
   "source": [
    "# 创建 tuner\n",
    "tuner = RandomSearch(\n",
    "    build_model,\n",
    "    objective='val_loss',\n",
    "    max_trials=1024, # 根据实际情况调整试验次数\n",
    "    directory='my_dir',\n",
    "    project_name='mlp_project1')"
   ]
  },
  {
   "cell_type": "code",
   "execution_count": null,
   "id": "cdc7e0b0-ed85-4547-9327-a76e772cc44c",
   "metadata": {},
   "outputs": [
    {
     "name": "stdout",
     "output_type": "stream",
     "text": [
      "Trial 18 Complete [00h 00m 41s]\n",
      "val_loss: 0.06102102994918823\n",
      "\n",
      "Best val_loss So Far: 0.0368754044175148\n",
      "Total elapsed time: 00h 12m 40s\n",
      "\n",
      "Search: Running Trial #19\n",
      "\n",
      "Value             |Best Value So Far |Hyperparameter\n",
      "5                 |5                 |num_layers\n",
      "512               |672               |units_0\n",
      "False             |False             |use_relu0\n",
      "True              |True              |use_batchnorm0\n",
      "0.0001            |0.001             |learning_rate\n",
      "928               |416               |units_1\n",
      "False             |True              |use_relu1\n",
      "False             |True              |use_batchnorm1\n",
      "224               |448               |units_2\n",
      "False             |False             |use_relu2\n",
      "True              |False             |use_batchnorm2\n",
      "1024              |192               |units_3\n",
      "False             |True              |use_relu3\n",
      "False             |False             |use_batchnorm3\n",
      "896               |608               |units_4\n",
      "False             |True              |use_relu4\n",
      "False             |True              |use_batchnorm4\n",
      "\n",
      "Epoch 1/5\n",
      "1670/1670 [==============================] - 11s 5ms/step - loss: 0.0685 - val_loss: 0.0620\n",
      "Epoch 2/5\n",
      "1670/1670 [==============================] - 10s 5ms/step - loss: 0.0633 - val_loss: 0.0619\n",
      "Epoch 3/5\n",
      "1670/1670 [==============================] - 10s 5ms/step - loss: 0.0622 - val_loss: 0.0615\n",
      "Epoch 4/5\n",
      "1670/1670 [==============================] - 10s 5ms/step - loss: 0.0616 - val_loss: 0.0612\n",
      "Epoch 5/5\n",
      " 833/1670 [=============>................] - ETA: 4s - loss: 0.0612"
     ]
    }
   ],
   "source": [
    "# 开始搜索过程\n",
    "tuner.search(dataset_train,\n",
    "             epochs=5,\n",
    "            validation_data=dataset_vali)"
   ]
  },
  {
   "cell_type": "code",
   "execution_count": null,
   "id": "90494173-1bb4-4bc5-992a-103463c1b2b9",
   "metadata": {},
   "outputs": [],
   "source": []
  }
 ],
 "metadata": {
  "kernelspec": {
   "display_name": "Python 3 (ipykernel)",
   "language": "python",
   "name": "python3"
  },
  "language_info": {
   "codemirror_mode": {
    "name": "ipython",
    "version": 3
   },
   "file_extension": ".py",
   "mimetype": "text/x-python",
   "name": "python",
   "nbconvert_exporter": "python",
   "pygments_lexer": "ipython3",
   "version": "3.9.17"
  }
 },
 "nbformat": 4,
 "nbformat_minor": 5
}
