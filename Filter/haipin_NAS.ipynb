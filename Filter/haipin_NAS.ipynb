{
 "cells": [
  {
   "cell_type": "code",
   "execution_count": 1,
   "id": "dfb32dff-0e6a-4ce4-b878-9aaae9bd2eb9",
   "metadata": {},
   "outputs": [
    {
     "name": "stderr",
     "output_type": "stream",
     "text": [
      "2024-04-28 21:52:47.660398: I tensorflow/core/platform/cpu_feature_guard.cc:182] This TensorFlow binary is optimized to use available CPU instructions in performance-critical operations.\n",
      "To enable the following instructions: AVX2 AVX512F FMA, in other operations, rebuild TensorFlow with the appropriate compiler flags.\n",
      "2024-04-28 21:52:48.154853: W tensorflow/compiler/tf2tensorrt/utils/py_utils.cc:38] TF-TRT Warning: Could not find TensorRT\n"
     ]
    }
   ],
   "source": [
    "import pandas as pd\n",
    "import tensorflow as tf\n",
    "import numpy as np\n",
    "from sklearn.model_selection import train_test_split\n",
    "from keras_tuner.tuners import RandomSearch\n",
    "\n",
    "from keras.layers import Input\n",
    "from keras.models import Model"
   ]
  },
  {
   "cell_type": "code",
   "execution_count": 2,
   "id": "c3a63cda-1992-4cbf-9822-9cfebfd37d8b",
   "metadata": {},
   "outputs": [],
   "source": [
    "BATCH_SIZE = 512"
   ]
  },
  {
   "cell_type": "code",
   "execution_count": 3,
   "id": "eba8cc76-8009-4d37-b1a6-bec949d858ed",
   "metadata": {},
   "outputs": [],
   "source": [
    "AS_dataset = pd.read_csv('./hairpin_filter_dataset.csv', encoding='utf-8')\n",
    "full_X = AS_dataset.loc[::2,'freq':'S1'].to_numpy(dtype = np.float32)\n",
    "full_y = AS_dataset.loc[::2,'S21r':'S21i'].to_numpy(dtype = np.float32)"
   ]
  },
  {
   "cell_type": "code",
   "execution_count": 4,
   "id": "bb26bc85-edcb-416e-8174-f34d7c39f1b6",
   "metadata": {},
   "outputs": [],
   "source": [
    "# 归一化\n",
    "# full_X[0] = (full_X[0] - 0.1) / (9.0 - 0.1)\n",
    "full_X[:, 1] = (full_X[:, 1] - 200) / (2000 - 200)\n",
    "full_X[:, 2] = (full_X[:, 2] - 200) / (2000 - 200)\n",
    "full_X[:, 3] = (full_X[:, 3] - 200) / (2000 - 200)\n",
    "full_X[:, 4] = (full_X[:, 4] - 200) / (4500 - 200)\n",
    "full_X[:, 5] = (full_X[:, 5] - 200) / (4500 - 200)\n",
    "full_X[:, 6] = (full_X[:, 6] - 200) / (4500 - 200)\n",
    "full_X[:, 7] = (full_X[:, 7] - 200) / (4500 - 200)\n",
    "full_X[:, 8] = (full_X[:, 8] - 9000) / (12000 - 9000)\n",
    "full_X[:, 9] = (full_X[:, 9] - 100) / (300 - 100)"
   ]
  },
  {
   "cell_type": "code",
   "execution_count": null,
   "id": "250fd0d4-c508-4df1-9a24-cf2ca697bd9c",
   "metadata": {},
   "outputs": [],
   "source": []
  },
  {
   "cell_type": "code",
   "execution_count": 5,
   "id": "b1a23362-1dab-4d79-a641-536ec1397b11",
   "metadata": {},
   "outputs": [],
   "source": [
    "X_train, X_vali, y_train, y_vali = train_test_split(full_X, full_y, test_size=0.05, random_state=0)"
   ]
  },
  {
   "cell_type": "code",
   "execution_count": 6,
   "id": "9c2a1019-2a2c-4782-9674-82caf5b3cfdb",
   "metadata": {},
   "outputs": [
    {
     "name": "stderr",
     "output_type": "stream",
     "text": [
      "2024-04-28 21:52:50.507213: I tensorflow/core/common_runtime/gpu/gpu_device.cc:1639] Created device /job:localhost/replica:0/task:0/device:GPU:0 with 9604 MB memory:  -> device: 0, name: NVIDIA GeForce RTX 2080 Ti, pci bus id: 0000:17:00.0, compute capability: 7.5\n",
      "2024-04-28 21:52:50.507700: I tensorflow/core/common_runtime/gpu/gpu_device.cc:1639] Created device /job:localhost/replica:0/task:0/device:GPU:1 with 9621 MB memory:  -> device: 1, name: NVIDIA GeForce RTX 2080 Ti, pci bus id: 0000:65:00.0, compute capability: 7.5\n"
     ]
    }
   ],
   "source": [
    "dataset_train = tf.data.Dataset.from_tensor_slices((X_train, y_train))\n",
    "dataset_train = dataset_train.shuffle(buffer_size=X_train.shape[0])\n",
    "dataset_train = dataset_train.batch(BATCH_SIZE)\n",
    "dataset_train = dataset_train.prefetch(tf.data.experimental.AUTOTUNE)"
   ]
  },
  {
   "cell_type": "code",
   "execution_count": 7,
   "id": "b9784c5a-f692-41b5-b718-3bf20458d9a3",
   "metadata": {},
   "outputs": [],
   "source": [
    "dataset_vali = tf.data.Dataset.from_tensor_slices((X_vali, y_vali))\n",
    "dataset_vali = dataset_vali.shuffle(buffer_size=X_vali.shape[0])\n",
    "dataset_vali = dataset_vali.batch(BATCH_SIZE)\n",
    "dataset_vali = dataset_vali.prefetch(tf.data.experimental.AUTOTUNE)"
   ]
  },
  {
   "cell_type": "code",
   "execution_count": 8,
   "id": "16dc92b9-80e1-42ca-b2e0-75760c17f66b",
   "metadata": {},
   "outputs": [],
   "source": [
    "class MLP(tf.keras.Model):\n",
    "    def __init__(self, sematicSize, numLayers, numUnits, useReLU, useNorm):\n",
    "        super().__init__()\n",
    "        self.emb = tf.keras.layers.Embedding(101, 9)\n",
    "        \n",
    "        self.dense1 = tf.keras.layers.Dense(units=sematicSize)\n",
    "        self.dense2 = tf.keras.layers.Dense(units=sematicSize)\n",
    "\n",
    "        self.hiddenLayers = []\n",
    "        for i in range(numLayers):\n",
    "            self.hiddenLayers.append(tf.keras.layers.Dense(units=numUnits[i], activation=useReLU[i]))\n",
    "            if useNorm[i]:\n",
    "                self.hiddenLayers.append(tf.keras.layers.BatchNormalization())\n",
    "\n",
    "        self.outputLayer = tf.keras.layers.Dense(units=2)\n",
    "\n",
    "    def call(self, inputs):\n",
    "        f = tf.cast(tf.round(inputs[:, 0] * 10), tf.int8)\n",
    "        g = inputs[:, 1:]\n",
    "        \n",
    "        x1 = self.dense1(self.emb(f))\n",
    "        x2 = self.dense2(g)\n",
    "        x = x1 + x2\n",
    "        \n",
    "        for i in range(len(self.hiddenLayers)):\n",
    "            x = self.hiddenLayers[i](x)\n",
    "\n",
    "        output = self.outputLayer(x)\n",
    "        return output"
   ]
  },
  {
   "cell_type": "code",
   "execution_count": 9,
   "id": "e882f3d3-6c50-40fa-9631-d85d029f31c6",
   "metadata": {},
   "outputs": [],
   "source": [
    "# 定义模型构建函数\n",
    "def build_model(hp):\n",
    "    \n",
    "    sematicSize = hp.Int('units_first', min_value=32, max_value=1024, step=32)\n",
    "    numLayers = hp.Int('num_layers', 1, 5)\n",
    "    numUnits = [hp.Int('units_' + str(i), min_value=32, max_value=1024, step=32) for i in range(numLayers)]\n",
    "    useReLU = ['leaky_relu' if hp.Boolean('use_relu' + str(i)) else None for i in range(numLayers)]\n",
    "    useNorm = [hp.Boolean('use_batchnorm' + str(i)) for i in range(numLayers)]\n",
    "    \n",
    "    model = MLP(sematicSize=sematicSize, numLayers=numLayers, numUnits=numUnits, useReLU=useReLU, useNorm=useNorm)\n",
    "\n",
    "    model.compile(\n",
    "        optimizer=tf.keras.optimizers.Adam(hp.Choice('learning_rate', [1e-2, 1e-3, 1e-4])),\n",
    "        loss='mse')\n",
    "    \n",
    "    return model"
   ]
  },
  {
   "cell_type": "code",
   "execution_count": 10,
   "id": "0399f4d9-4c5b-407c-892d-d1e6113baff7",
   "metadata": {},
   "outputs": [],
   "source": [
    "# 创建 tuner\n",
    "tuner = RandomSearch(\n",
    "    build_model,\n",
    "    objective='val_loss',\n",
    "    max_trials=1024, # 根据实际情况调整试验次数\n",
    "    directory='my_dir',\n",
    "    project_name='mlp_project1')"
   ]
  },
  {
   "cell_type": "code",
   "execution_count": null,
   "id": "cdc7e0b0-ed85-4547-9327-a76e772cc44c",
   "metadata": {},
   "outputs": [
    {
     "name": "stdout",
     "output_type": "stream",
     "text": [
      "Trial 160 Complete [00h 03m 22s]\n",
      "val_loss: 0.05985086411237717\n",
      "\n",
      "Best val_loss So Far: 0.0024111841339617968\n",
      "Total elapsed time: 10h 35m 28s\n",
      "\n",
      "Search: Running Trial #161\n",
      "\n",
      "Value             |Best Value So Far |Hyperparameter\n",
      "480               |256               |units_first\n",
      "4                 |5                 |num_layers\n",
      "832               |640               |units_0\n",
      "True              |True              |use_relu0\n",
      "True              |False             |use_batchnorm0\n",
      "0.01              |0.001             |learning_rate\n",
      "32                |736               |units_1\n",
      "768               |672               |units_2\n",
      "False             |True              |use_relu1\n",
      "True              |True              |use_relu2\n",
      "True              |True              |use_batchnorm1\n",
      "True              |False             |use_batchnorm2\n",
      "96                |576               |units_3\n",
      "992               |32                |units_4\n",
      "False             |False             |use_relu3\n",
      "False             |True              |use_relu4\n",
      "True              |True              |use_batchnorm3\n",
      "False             |True              |use_batchnorm4\n",
      "\n",
      "Epoch 1/50\n",
      "835/835 [==============================] - 9s 7ms/step - loss: 0.1859 - val_loss: 0.0606\n",
      "Epoch 2/50\n",
      "835/835 [==============================] - 6s 7ms/step - loss: 0.0618 - val_loss: 0.0606\n",
      "Epoch 3/50\n",
      "835/835 [==============================] - 6s 7ms/step - loss: 0.0615 - val_loss: 0.0594\n",
      "Epoch 4/50\n",
      "835/835 [==============================] - 6s 7ms/step - loss: 0.0522 - val_loss: 0.0372\n",
      "Epoch 5/50\n",
      "835/835 [==============================] - 6s 7ms/step - loss: 0.0337 - val_loss: 0.0384\n",
      "Epoch 6/50\n",
      "835/835 [==============================] - 6s 7ms/step - loss: 0.0250 - val_loss: 0.0258\n",
      "Epoch 7/50\n",
      "835/835 [==============================] - 6s 7ms/step - loss: 0.0209 - val_loss: 0.0233\n",
      "Epoch 8/50\n",
      "835/835 [==============================] - 6s 7ms/step - loss: 0.0187 - val_loss: 0.0220\n",
      "Epoch 9/50\n",
      "835/835 [==============================] - 6s 7ms/step - loss: 0.0171 - val_loss: 0.0179\n",
      "Epoch 10/50\n",
      "835/835 [==============================] - 6s 7ms/step - loss: 0.0163 - val_loss: 0.0226\n",
      "Epoch 11/50\n",
      "835/835 [==============================] - 6s 7ms/step - loss: 0.0157 - val_loss: 0.0175\n",
      "Epoch 12/50\n",
      "835/835 [==============================] - 6s 7ms/step - loss: 0.0149 - val_loss: 0.0166\n",
      "Epoch 13/50\n",
      "835/835 [==============================] - 6s 7ms/step - loss: 0.0142 - val_loss: 0.0209\n",
      "Epoch 14/50\n",
      "835/835 [==============================] - 6s 7ms/step - loss: 0.0139 - val_loss: 0.0148\n",
      "Epoch 15/50\n",
      "835/835 [==============================] - 6s 7ms/step - loss: 0.0139 - val_loss: 0.0210\n",
      "Epoch 16/50\n",
      "835/835 [==============================] - 6s 7ms/step - loss: 0.0128 - val_loss: 0.0156\n",
      "Epoch 17/50\n",
      "835/835 [==============================] - 6s 7ms/step - loss: 0.0125 - val_loss: 0.0099\n",
      "Epoch 18/50\n",
      "835/835 [==============================] - 6s 7ms/step - loss: 0.0119 - val_loss: 0.0117\n",
      "Epoch 19/50\n",
      "835/835 [==============================] - 6s 7ms/step - loss: 0.0116 - val_loss: 0.0129\n",
      "Epoch 20/50\n",
      "835/835 [==============================] - 6s 7ms/step - loss: 0.0112 - val_loss: 0.0117\n",
      "Epoch 21/50\n",
      "835/835 [==============================] - 6s 7ms/step - loss: 0.0108 - val_loss: 0.0155\n",
      "Epoch 22/50\n",
      "835/835 [==============================] - 6s 7ms/step - loss: 0.0108 - val_loss: 0.0089\n",
      "Epoch 23/50\n",
      "835/835 [==============================] - 6s 7ms/step - loss: 0.0101 - val_loss: 0.0107\n",
      "Epoch 24/50\n",
      "835/835 [==============================] - 6s 7ms/step - loss: 0.0101 - val_loss: 0.0170\n",
      "Epoch 25/50\n",
      "835/835 [==============================] - 6s 7ms/step - loss: 0.0097 - val_loss: 0.0077\n",
      "Epoch 26/50\n",
      "835/835 [==============================] - 6s 7ms/step - loss: 0.0094 - val_loss: 0.0245\n",
      "Epoch 27/50\n",
      "835/835 [==============================] - 6s 7ms/step - loss: 0.0093 - val_loss: 0.0162\n",
      "Epoch 28/50\n",
      "835/835 [==============================] - 6s 7ms/step - loss: 0.0093 - val_loss: 0.0095\n",
      "Epoch 29/50\n",
      "835/835 [==============================] - 6s 7ms/step - loss: 0.0091 - val_loss: 0.0160\n",
      "Epoch 30/50\n",
      "835/835 [==============================] - 6s 7ms/step - loss: 0.0087 - val_loss: 0.0101\n",
      "Epoch 31/50\n",
      "835/835 [==============================] - 6s 7ms/step - loss: 0.0086 - val_loss: 0.0082\n",
      "Epoch 32/50\n",
      "835/835 [==============================] - 6s 7ms/step - loss: 0.0082 - val_loss: 0.0080\n",
      "Epoch 33/50\n",
      "835/835 [==============================] - 6s 7ms/step - loss: 0.0084 - val_loss: 0.0075\n",
      "Epoch 34/50\n",
      "835/835 [==============================] - 6s 7ms/step - loss: 0.0082 - val_loss: 0.0070\n",
      "Epoch 35/50\n",
      "835/835 [==============================] - 6s 7ms/step - loss: 0.0083 - val_loss: 0.0114\n",
      "Epoch 36/50\n",
      "165/835 [====>.........................] - ETA: 4s - loss: 0.0086"
     ]
    }
   ],
   "source": [
    "# 开始搜索过程\n",
    "tuner.search(dataset_train,\n",
    "             epochs=50,\n",
    "            validation_data=dataset_vali)"
   ]
  },
  {
   "cell_type": "code",
   "execution_count": null,
   "id": "90494173-1bb4-4bc5-992a-103463c1b2b9",
   "metadata": {},
   "outputs": [],
   "source": []
  }
 ],
 "metadata": {
  "kernelspec": {
   "display_name": "Python 3 (ipykernel)",
   "language": "python",
   "name": "python3"
  },
  "language_info": {
   "codemirror_mode": {
    "name": "ipython",
    "version": 3
   },
   "file_extension": ".py",
   "mimetype": "text/x-python",
   "name": "python",
   "nbconvert_exporter": "python",
   "pygments_lexer": "ipython3",
   "version": "3.9.17"
  }
 },
 "nbformat": 4,
 "nbformat_minor": 5
}
