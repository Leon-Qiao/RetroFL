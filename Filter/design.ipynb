{
 "cells": [
  {
   "cell_type": "code",
   "execution_count": 1,
   "id": "787bee1b-7fdb-46a4-adcb-fdfa3facf73a",
   "metadata": {},
   "outputs": [],
   "source": [
    "import time\n",
    "from tqdm import tqdm"
   ]
  },
  {
   "cell_type": "code",
   "execution_count": 2,
   "id": "c2c466a2-577e-4ff9-8ebb-9bd8a3face26",
   "metadata": {},
   "outputs": [
    {
     "name": "stderr",
     "output_type": "stream",
     "text": [
      "2024-05-01 12:37:34.352758: I tensorflow/core/platform/cpu_feature_guard.cc:182] This TensorFlow binary is optimized to use available CPU instructions in performance-critical operations.\n",
      "To enable the following instructions: AVX2 AVX512F FMA, in other operations, rebuild TensorFlow with the appropriate compiler flags.\n",
      "2024-05-01 12:37:34.927881: W tensorflow/compiler/tf2tensorrt/utils/py_utils.cc:38] TF-TRT Warning: Could not find TensorRT\n"
     ]
    }
   ],
   "source": [
    "import tensorflow as tf"
   ]
  },
  {
   "cell_type": "code",
   "execution_count": 3,
   "id": "27280f3c-cc9a-481f-ae89-a63135a953c9",
   "metadata": {},
   "outputs": [],
   "source": [
    "from tensorflow.keras.models import load_model"
   ]
  },
  {
   "cell_type": "code",
   "execution_count": 4,
   "id": "10f1cb95-18b0-43ee-9577-a46c965deebb",
   "metadata": {},
   "outputs": [],
   "source": [
    "import numpy as np"
   ]
  },
  {
   "cell_type": "code",
   "execution_count": null,
   "id": "5f9a69c9-61a4-4eb6-a0a6-af3ecbd75cb6",
   "metadata": {},
   "outputs": [],
   "source": []
  },
  {
   "cell_type": "code",
   "execution_count": 5,
   "id": "b431ea93-6a0b-486a-ade2-8cd4ead96380",
   "metadata": {},
   "outputs": [
    {
     "name": "stdout",
     "output_type": "stream",
     "text": [
      "WARNING:tensorflow:No training configuration found in the save file, so the model was *not* compiled. Compile it manually.\n"
     ]
    },
    {
     "name": "stderr",
     "output_type": "stream",
     "text": [
      "2024-05-01 12:37:36.500802: I tensorflow/core/common_runtime/gpu/gpu_device.cc:1639] Created device /job:localhost/replica:0/task:0/device:GPU:0 with 9604 MB memory:  -> device: 0, name: NVIDIA GeForce RTX 2080 Ti, pci bus id: 0000:17:00.0, compute capability: 7.5\n",
      "2024-05-01 12:37:36.501269: I tensorflow/core/common_runtime/gpu/gpu_device.cc:1639] Created device /job:localhost/replica:0/task:0/device:GPU:1 with 578 MB memory:  -> device: 1, name: NVIDIA GeForce RTX 2080 Ti, pci bus id: 0000:65:00.0, compute capability: 7.5\n"
     ]
    }
   ],
   "source": [
    "model = load_model('fullfreq2-7_surogate.h5')"
   ]
  },
  {
   "cell_type": "code",
   "execution_count": 38,
   "id": "4fec2a56-35b9-4e3e-a101-aa300afc43da",
   "metadata": {},
   "outputs": [],
   "source": [
    "def dgn_obj(s_para, desired_dB, outfield_dB, desired_penalty_rate, outfield_penalty_rate):\n",
    "    s_para = tf.reshape(s_para, (num_nodes, -1, 2))\n",
    "    E = tf.reduce_sum(tf.square(s_para), axis=-1)\n",
    "    \n",
    "    desired_E = E[: , d_lb: d_rb+1]\n",
    "\n",
    "    desired_P = 10**(-desired_dB / 10)\n",
    "    desired_condition = desired_E < desired_P\n",
    "    a = desired_P**(1 - desired_penalty_rate)\n",
    "    # desired_E = tf.where(desired_condition, a * tf.pow(desired_E, desired_penalty_rate), desired_E)\n",
    "    desired_E = tf.where(desired_condition, desired_P - desired_E, 0)\n",
    "\n",
    "    desired = tf.reduce_sum(desired_E, axis=-1)\n",
    "\n",
    "    outfield_E = tf.concat([E[: , : o_l + 1], E[: , o_r: ]], axis=-1)\n",
    "\n",
    "\n",
    "    outfield_P = 10**(-outfield_dB / 10)\n",
    "    outfield_condition = outfield_E > outfield_P\n",
    "    b = outfield_P**(1 - outfield_penalty_rate)\n",
    "    # outfield_E = tf.where(outfield_condition, b * tf.pow(outfield_E, outfield_penalty_rate), outfield_E)\n",
    "    outfield_E = tf.where(outfield_condition, outfield_E - outfield_P, outfield_E)\n",
    "    \n",
    "    outfield = tf.reduce_sum(outfield_E, axis=-1)\n",
    "    \n",
    "    return 3 * desired + outfield"
   ]
  },
  {
   "cell_type": "code",
   "execution_count": 39,
   "id": "10f399d4-b00d-4e5c-a605-de40555f90c3",
   "metadata": {},
   "outputs": [],
   "source": [
    "# 参数数量，迭代次数\n",
    "num_nodes = 5000\n",
    "num_node_epochs = 1500"
   ]
  },
  {
   "cell_type": "code",
   "execution_count": 40,
   "id": "27ec1841-30ef-44f8-83d2-0a0d6d852318",
   "metadata": {},
   "outputs": [],
   "source": [
    "# 物理边界\n",
    "mmin = np.array([200, 200, 200, 200, 200, 200, 200, 9000, 100])\n",
    "mmax = np.array([2000, 2000, 2000, 4500, 4500, 4500, 4500, 12000, 300])"
   ]
  },
  {
   "cell_type": "code",
   "execution_count": 41,
   "id": "aff6d98d-9dde-49a1-a018-01b39bd2eebb",
   "metadata": {},
   "outputs": [],
   "source": [
    "# 物理边界检查函数\n",
    "def check(GeomData):\n",
    "    inva_place1 = tf.where(tf.logical_or(GeomData < 0, GeomData > 1))\n",
    "    GeomData = tf.tensor_scatter_nd_update(GeomData, [inva_place1], [np.random.uniform(size=(inva_place1.shape[0]))])\n",
    "    \n",
    "    return tf.Variable(GeomData)"
   ]
  },
  {
   "cell_type": "code",
   "execution_count": null,
   "id": "e0d7877b-84aa-4b38-b30b-4f05c70ada5c",
   "metadata": {},
   "outputs": [],
   "source": []
  },
  {
   "cell_type": "code",
   "execution_count": 42,
   "id": "4fb66c92-3f8d-4413-8650-a28573449c2d",
   "metadata": {},
   "outputs": [],
   "source": [
    "freqs = np.reshape(np.arange(2.0, 7.1, 0.1), (-1, 1)).astype(np.float32)"
   ]
  },
  {
   "cell_type": "code",
   "execution_count": 51,
   "id": "74903374-ecd8-40cb-ab54-e195e666a19e",
   "metadata": {},
   "outputs": [],
   "source": [
    "d_lb = np.where(freqs == 3.7)[0][0]\n",
    "d_rb = np.where(freqs == 5.3)[0][0]\n",
    "o_l = np.where(freqs == 3.5)[0][0]\n",
    "o_r = np.where(freqs == 5.5)[0][0]"
   ]
  },
  {
   "cell_type": "code",
   "execution_count": null,
   "id": "89da028c-4df1-453a-8558-3a99fba4b130",
   "metadata": {},
   "outputs": [],
   "source": []
  },
  {
   "cell_type": "code",
   "execution_count": 52,
   "id": "007229e8-4045-48dc-9c32-22e5105494a5",
   "metadata": {},
   "outputs": [],
   "source": [
    "# 初始数据\n",
    "geom = tf.Variable(np.random.uniform(size=(num_nodes, 9)), dtype=tf.float32)"
   ]
  },
  {
   "cell_type": "code",
   "execution_count": 53,
   "id": "0dee1eb1-1e37-4136-bc37-8af352aee7c0",
   "metadata": {},
   "outputs": [],
   "source": [
    "bestLoss = 10\n",
    "bestGeom = 0"
   ]
  },
  {
   "cell_type": "code",
   "execution_count": 54,
   "id": "a5cedda4-6c59-41ba-9f00-decea6671610",
   "metadata": {},
   "outputs": [],
   "source": [
    "# 创建优化器\n",
    "opt = tf.keras.optimizers.legacy.Adam(learning_rate=0.01)"
   ]
  },
  {
   "cell_type": "code",
   "execution_count": 55,
   "id": "0ad2ae49-1c8b-4cf3-b694-5719450bbd72",
   "metadata": {},
   "outputs": [],
   "source": [
    "logs = []"
   ]
  },
  {
   "cell_type": "code",
   "execution_count": 56,
   "id": "b2568d46-1c9a-4d09-9458-8ec054ffe597",
   "metadata": {},
   "outputs": [
    {
     "name": "stderr",
     "output_type": "stream",
     "text": [
      "  0%|                                                                                  | 2/1500 [00:00<02:08, 11.70it/s]"
     ]
    },
    {
     "name": "stdout",
     "output_type": "stream",
     "text": [
      "137\n",
      "0 1.1071211\n",
      "0.91837806 0.47341177 0.34816986 0.7425377 0.9930117 0.12850636 0.3745302 0.4583793 0.29748058\n",
      "\n",
      "3228\n",
      "1 1.0585264\n",
      "0.79848564 0.8773313 0.1896671 0.095579654 0.60023856 0.08708886 0.33713055 0.59896135 0.50255084\n",
      "\n"
     ]
    },
    {
     "name": "stderr",
     "output_type": "stream",
     "text": [
      "  0%|▎                                                                                 | 6/1500 [00:00<01:56, 12.84it/s]"
     ]
    },
    {
     "name": "stdout",
     "output_type": "stream",
     "text": [
      "3228\n",
      "3 1.0232123\n",
      "0.8123149 0.8911605 0.19072041 0.09663295 0.59918565 0.088142134 0.33818385 0.6000147 0.5163804\n",
      "\n",
      "2153\n",
      "4 0.9849012\n",
      "0.6351811 0.83898115 0.22789691 0.3109106 0.9273691 0.08842714 0.29787838 0.61299145 0.4551676\n",
      "\n",
      "3228\n",
      "5 0.984641\n",
      "0.8119584 0.9024266 0.1910768 0.09698934 0.6104518 0.07687595 0.33854026 0.6003711 0.5276466\n",
      "\n"
     ]
    },
    {
     "name": "stderr",
     "output_type": "stream",
     "text": [
      "  1%|▍                                                                                 | 8/1500 [00:00<01:52, 13.21it/s]"
     ]
    },
    {
     "name": "stdout",
     "output_type": "stream",
     "text": [
      "2153\n",
      "6 0.96987134\n",
      "0.6245052 0.8283052 0.238573 0.3111442 0.9166931 0.088660814 0.2981121 0.6132251 0.46584368\n",
      "\n",
      "2153\n",
      "7 0.91999424\n",
      "0.6194415 0.8232414 0.24363673 0.30608043 0.9116293 0.083597034 0.29304832 0.60816133 0.47090745\n",
      "\n"
     ]
    },
    {
     "name": "stderr",
     "output_type": "stream",
     "text": [
      "  1%|▋                                                                                | 12/1500 [00:00<01:49, 13.56it/s]"
     ]
    },
    {
     "name": "stdout",
     "output_type": "stream",
     "text": [
      "2153\n",
      "9 0.9055673\n",
      "0.60959655 0.8233114 0.24370675 0.30615044 0.91169924 0.083667025 0.29311833 0.60823137 0.4807525\n",
      "\n",
      "2153\n",
      "11 0.9013289\n",
      "0.6095736 0.83297694 0.24372968 0.30617338 0.9213647 0.08368994 0.29314125 0.60825425 0.48077542\n",
      "\n"
     ]
    },
    {
     "name": "stderr",
     "output_type": "stream",
     "text": [
      "  1%|▊                                                                                | 16/1500 [00:01<01:50, 13.46it/s]"
     ]
    },
    {
     "name": "stdout",
     "output_type": "stream",
     "text": [
      "2153\n",
      "13 0.89953995\n",
      "0.6095792 0.83297384 0.24372405 0.30616778 0.9309988 0.083684295 0.2931356 0.60824865 0.48076975\n",
      "\n",
      "3040\n",
      "15 0.8444885\n",
      "0.88436997 0.6857189 0.25000793 0.72098595 0.92468905 0.16091362 0.24715397 0.5743212 0.59719115\n",
      "\n"
     ]
    },
    {
     "name": "stderr",
     "output_type": "stream",
     "text": [
      "  1%|█                                                                                | 20/1500 [00:01<01:49, 13.55it/s]"
     ]
    },
    {
     "name": "stdout",
     "output_type": "stream",
     "text": [
      "3040\n",
      "18 0.75502896\n",
      "0.8991601 0.69056827 0.2647987 0.71597815 0.9295516 0.14612283 0.25200322 0.5791703 0.6119819\n",
      "\n",
      "3040\n",
      "19 0.7485837\n",
      "0.9041771 0.6855532 0.26981577 0.7109611 0.9345686 0.14110576 0.24698614 0.5741532 0.61699903\n",
      "\n"
     ]
    },
    {
     "name": "stderr",
     "output_type": "stream",
     "text": [
      "  2%|█▉                                                                               | 36/1500 [00:02<01:46, 13.73it/s]"
     ]
    },
    {
     "name": "stdout",
     "output_type": "stream",
     "text": [
      "3040\n",
      "33 0.7466421\n",
      "0.9037405 0.6851169 0.2693791 0.71052426 0.94589376 0.14066899 0.24654946 0.57371646 0.6165622\n",
      "\n",
      "3040\n",
      "35 0.7300509\n",
      "0.9036724 0.697082 0.26931098 0.71045613 0.95785904 0.14060083 0.24648131 0.57364833 0.61649406\n",
      "\n"
     ]
    },
    {
     "name": "stderr",
     "output_type": "stream",
     "text": [
      "  3%|██▏                                                                              | 40/1500 [00:02<01:48, 13.42it/s]"
     ]
    },
    {
     "name": "stdout",
     "output_type": "stream",
     "text": [
      "3040\n",
      "37 0.71340096\n",
      "0.9036042 0.70931995 0.26924276 0.7103879 0.97009706 0.1405326 0.24641308 0.5735801 0.6164258\n",
      "\n"
     ]
    },
    {
     "name": "stderr",
     "output_type": "stream",
     "text": [
      "  3%|██▋                                                                              | 50/1500 [00:03<01:46, 13.65it/s]"
     ]
    },
    {
     "name": "stdout",
     "output_type": "stream",
     "text": [
      "2884\n",
      "47 0.710955\n",
      "0.81175363 0.9343188 0.23978987 0.66376513 0.9658617 0.058791514 0.42303708 0.44751585 0.6726548\n",
      "\n",
      "2884\n",
      "49 0.686021\n",
      "0.81168836 0.92047095 0.23972464 0.66367817 0.96579635 0.05872625 0.42297184 0.4474506 0.65880674\n",
      "\n"
     ]
    },
    {
     "name": "stderr",
     "output_type": "stream",
     "text": [
      "  4%|██▉                                                                              | 54/1500 [00:04<01:45, 13.70it/s]"
     ]
    },
    {
     "name": "stdout",
     "output_type": "stream",
     "text": [
      "2884\n",
      "51 0.67172813\n",
      "0.8116239 0.90636384 0.23966019 0.649571 0.96573186 0.05866155 0.4229074 0.44738618 0.64469934\n",
      "\n"
     ]
    },
    {
     "name": "stderr",
     "output_type": "stream",
     "text": [
      "  4%|███▎                                                                             | 62/1500 [00:04<01:45, 13.59it/s]"
     ]
    },
    {
     "name": "stdout",
     "output_type": "stream",
     "text": [
      "31\n",
      "60 0.66843253\n",
      "0.80031216 0.72794974 0.23707305 0.7244421 0.9883996 0.14440754 0.26530406 0.5730488 0.65345377\n",
      "\n"
     ]
    },
    {
     "name": "stderr",
     "output_type": "stream",
     "text": [
      "  5%|███▊                                                                             | 70/1500 [00:05<01:44, 13.73it/s]"
     ]
    },
    {
     "name": "stdout",
     "output_type": "stream",
     "text": [
      "819\n",
      "67 0.6671358\n",
      "0.85177433 0.95603985 0.16286525 0.6760308 0.749172 0.04779289 0.3132315 0.5944272 0.7939475\n",
      "\n"
     ]
    },
    {
     "name": "stderr",
     "output_type": "stream",
     "text": [
      "  5%|███▉                                                                             | 74/1500 [00:05<01:43, 13.72it/s]"
     ]
    },
    {
     "name": "stdout",
     "output_type": "stream",
     "text": [
      "3024\n",
      "72 0.66321445\n",
      "0.7723579 0.6686515 0.16218233 0.6208085 0.9867511 0.0070082266 0.5166736 0.4287792 0.75430524\n",
      "\n"
     ]
    },
    {
     "name": "stderr",
     "output_type": "stream",
     "text": [
      "  5%|████▍                                                                            | 82/1500 [00:06<01:43, 13.77it/s]"
     ]
    },
    {
     "name": "stdout",
     "output_type": "stream",
     "text": [
      "1512\n",
      "80 0.6520844\n",
      "0.78986114 0.7305577 0.1662536 0.63764226 0.9586916 0.06969533 0.27620226 0.62870246 0.8022483\n",
      "\n"
     ]
    },
    {
     "name": "stderr",
     "output_type": "stream",
     "text": [
      "  6%|█████▏                                                                           | 96/1500 [00:07<01:43, 13.54it/s]"
     ]
    },
    {
     "name": "stdout",
     "output_type": "stream",
     "text": [
      "2884\n",
      "93 0.63602465\n",
      "0.82747227 0.8906446 0.23849383 0.6338513 0.96518594 0.0429418 0.4217411 0.4462199 0.6130001\n",
      "\n"
     ]
    },
    {
     "name": "stderr",
     "output_type": "stream",
     "text": [
      "  9%|██████▊                                                                         | 128/1500 [00:09<01:39, 13.75it/s]"
     ]
    },
    {
     "name": "stdout",
     "output_type": "stream",
     "text": [
      "4248\n",
      "126 0.63324285\n",
      "0.76032495 0.8877961 0.18609862 0.5498661 0.89124876 0.042676594 0.452367 0.4659868 0.7063651\n",
      "\n"
     ]
    },
    {
     "name": "stderr",
     "output_type": "stream",
     "text": [
      " 10%|███████▋                                                                        | 144/1500 [00:10<01:39, 13.64it/s]"
     ]
    },
    {
     "name": "stdout",
     "output_type": "stream",
     "text": [
      "2135\n",
      "141 0.62248397\n",
      "0.8332941 0.8086654 0.19497809 0.5872964 0.9486824 0.018193234 0.4433198 0.45927373 0.67851925\n",
      "\n"
     ]
    },
    {
     "name": "stderr",
     "output_type": "stream",
     "text": [
      " 13%|██████████▊                                                                     | 202/1500 [00:14<01:34, 13.74it/s]"
     ]
    },
    {
     "name": "stdout",
     "output_type": "stream",
     "text": [
      "3492\n",
      "199 0.62143385\n",
      "0.8077082 0.8138396 0.2105119 0.58878946 0.96376324 0.0712167 0.4272916 0.46432674 0.657637\n",
      "\n",
      "4644\n",
      "201 0.6206976\n",
      "0.8959756 0.7065924 0.22193831 0.67625594 0.9589317 0.015245834 0.5242879 0.3850647 0.6490692\n",
      "\n"
     ]
    },
    {
     "name": "stderr",
     "output_type": "stream",
     "text": [
      " 14%|███████████▏                                                                    | 210/1500 [00:15<01:34, 13.65it/s]"
     ]
    },
    {
     "name": "stdout",
     "output_type": "stream",
     "text": [
      "254\n",
      "208 0.6086452\n",
      "0.85595304 0.690677 0.1981316 0.71425796 0.967035 0.02324232 0.4586193 0.44390923 0.66813534\n",
      "\n"
     ]
    },
    {
     "name": "stderr",
     "output_type": "stream",
     "text": [
      " 15%|███████████▉                                                                    | 224/1500 [00:16<01:35, 13.43it/s]"
     ]
    },
    {
     "name": "stdout",
     "output_type": "stream",
     "text": [
      "254\n",
      "222 0.60633266\n",
      "0.85579187 0.69041663 0.19792888 0.7139966 0.9950002 0.0108073475 0.45841646 0.44370574 0.66793257\n",
      "\n"
     ]
    },
    {
     "name": "stderr",
     "output_type": "stream",
     "text": [
      " 35%|████████████████████████████▎                                                   | 530/1500 [00:39<01:12, 13.45it/s]"
     ]
    },
    {
     "name": "stdout",
     "output_type": "stream",
     "text": [
      "2268\n",
      "528 0.59797823\n",
      "0.95926297 0.74431086 0.21496262 0.7175269 0.94296926 0.039020322 0.3673967 0.5048517 0.68799514\n",
      "\n"
     ]
    },
    {
     "name": "stderr",
     "output_type": "stream",
     "text": [
      "100%|███████████████████████████████████████████████████████████████████████████████| 1500/1500 [01:52<00:00, 13.35it/s]\n"
     ]
    }
   ],
   "source": [
    "# 优化过程\n",
    "t0 = time.time()\n",
    "for i in tqdm(range(num_node_epochs)):\n",
    "    with tf.GradientTape(watch_accessed_variables=False) as tape:\n",
    "        tape.watch(geom)\n",
    "        input = tf.concat([tf.tile(freqs, (num_nodes, 1)), tf.repeat(geom, freqs.shape[0], axis=0)], axis=1)\n",
    "        y_pred = model(input, training=False)\n",
    "        loss = dgn_obj(y_pred, 1, 10, 1, 1)\n",
    "    minLoss = tf.reduce_min(loss).numpy()\n",
    "    minIndex = tf.argmin(loss).numpy()\n",
    "    minGeom = geom[minIndex].numpy()\n",
    "    grads = tape.gradient(loss, geom)\n",
    "    opt.apply_gradients(grads_and_vars=zip([grads], [geom]))\n",
    "    geom = check(geom)\n",
    "    if minLoss < bestLoss:\n",
    "        bestLoss = minLoss\n",
    "        bestGeom = minGeom\n",
    "        print(minIndex)\n",
    "        print(i, bestLoss)\n",
    "        print(\" \".join(map(str, bestGeom)))\n",
    "        print()\n",
    "    # logs.append({'epoch': i, 'time': time.time() - t0, 'acc': bestLoss})"
   ]
  },
  {
   "cell_type": "code",
   "execution_count": 59,
   "id": "bd229093-4d29-4c57-b02f-c6f3ddd2e1d2",
   "metadata": {},
   "outputs": [],
   "source": [
    "output = bestGeom * (mmax - mmin) + mmin"
   ]
  },
  {
   "cell_type": "code",
   "execution_count": 60,
   "id": "f2520e48-2f3d-4b9e-ad09-40ae811fa429",
   "metadata": {},
   "outputs": [
    {
     "name": "stdout",
     "output_type": "stream",
     "text": [
      "1926.6733407974243 1539.7595405578613 586.932709813118 3285.3657245635986 4254.767829179764 367.7873857319355 1779.805862903595 10514.555096626282 237.59902715682983\n"
     ]
    }
   ],
   "source": [
    "print(' '.join(list(map(str, output))))"
   ]
  },
  {
   "cell_type": "code",
   "execution_count": null,
   "id": "a859e008-39a2-418b-868b-aa9c7cba57f9",
   "metadata": {},
   "outputs": [],
   "source": []
  },
  {
   "cell_type": "code",
   "execution_count": 62,
   "id": "d5bba2fa-1918-40b2-b1e4-b9aff04461dd",
   "metadata": {},
   "outputs": [],
   "source": [
    "firstGemo = np.array([1263.710880279541, 1736.2465858459473, 359.1015040874481, 2136.1098557710648, 4175.255888700485, 200.68820547312498, 1907.0350915193558, 10947.9421377182, 252.18486785888672])"
   ]
  },
  {
   "cell_type": "code",
   "execution_count": 64,
   "id": "ef4abc5d-1717-48eb-925c-64dfbd491bcd",
   "metadata": {},
   "outputs": [],
   "source": [
    "firstGemo = (firstGemo - mmin) / (mmax - mmin)"
   ]
  },
  {
   "cell_type": "code",
   "execution_count": 66,
   "id": "47b74010-d214-4afa-b1d4-40b3e3111f5e",
   "metadata": {
    "scrolled": true
   },
   "outputs": [
    {
     "name": "stdout",
     "output_type": "stream",
     "text": [
      "2.0 -42.791315966917836\n",
      "2.1 -41.33532547118391\n",
      "2.2 -41.08394240297415\n",
      "2.3 -42.05253337744119\n",
      "2.4 -45.546476173406624\n",
      "2.5 -50.5511838555485\n",
      "2.6 -53.80682892334767\n",
      "2.7 -47.3095635731669\n",
      "2.8 -43.16976595123772\n",
      "2.9 -40.40066369067528\n",
      "3.0 -39.266773297893934\n",
      "3.1 -41.60190613688735\n",
      "3.2 -46.5373424796224\n",
      "3.3 -28.82689621877052\n",
      "3.4 -19.45302261742348\n",
      "3.5 -7.049513289511008\n",
      "3.6 -2.145352965847626\n",
      "3.7 -1.9227014470477273\n",
      "3.8 -0.8381757471606127\n",
      "3.9 -0.9972341916206442\n",
      "4.0 -0.38820690880626796\n",
      "4.1 -0.982877168743397\n",
      "4.2 -0.5308158657909657\n",
      "4.3 -0.15523650551155643\n",
      "4.4 -0.7151493593497498\n",
      "4.5 -0.5866343534657835\n",
      "4.6 -0.4216540377273941\n",
      "4.7 -0.6076372200858298\n",
      "4.8 -0.7911693546776897\n",
      "4.9 -0.7968002081917966\n",
      "5.0 -0.6821964584923468\n",
      "5.1 -0.6901260459255355\n",
      "5.2 -1.001137231350063\n",
      "5.3 -0.9949511953632078\n",
      "5.4 -3.458450161999046\n",
      "5.5 -9.89260369387811\n",
      "5.6 -17.039371860953295\n",
      "5.7 -23.506378359275395\n",
      "5.8 -29.159774951824744\n",
      "5.9 -31.1018886830456\n",
      "6.0 -34.50396829637487\n",
      "6.1 -35.17042330104217\n",
      "6.2 -36.55193195455086\n",
      "6.3 -36.9632441687133\n",
      "6.4 -37.299827385842896\n",
      "6.5 -38.045537162478176\n",
      "6.6 -38.978563647123984\n",
      "6.7 -39.75077634247611\n",
      "6.8 -40.56682927837612\n",
      "6.9 -40.014499345175345\n",
      "7.0 -41.41593681696505\n"
     ]
    }
   ],
   "source": [
    "aa = model(tf.concat([freqs, tf.repeat([bestGeom], freqs.shape[0], axis=0)], axis=1)).numpy()\n",
    "for i in range(aa.shape[0]):\n",
    "    print(freqs[i][0], 20 * np.log10(np.sqrt(aa[i][0]**2 + aa[i][1]**2)))"
   ]
  },
  {
   "cell_type": "code",
   "execution_count": 74,
   "id": "d2d9c926-3d58-4771-a393-ac2dbb62dd7d",
   "metadata": {},
   "outputs": [
    {
     "data": {
      "text/plain": [
       "-1.8840823926426293"
      ]
     },
     "execution_count": 74,
     "metadata": {},
     "output_type": "execute_result"
    }
   ],
   "source": [
    "20 * np.log10(0.805)"
   ]
  },
  {
   "cell_type": "code",
   "execution_count": 67,
   "id": "4f7ddb08-8676-4f1b-b03c-2f579b0b0e0f",
   "metadata": {},
   "outputs": [],
   "source": [
    "E = tf.reduce_sum(tf.square([aa]), axis=-1)"
   ]
  },
  {
   "cell_type": "code",
   "execution_count": null,
   "id": "7752bf69-ac75-44ea-8af9-3f429c28d29b",
   "metadata": {},
   "outputs": [],
   "source": []
  },
  {
   "cell_type": "code",
   "execution_count": 78,
   "id": "2ad87f5a-b602-4e88-8d10-075ded853ce3",
   "metadata": {},
   "outputs": [
    {
     "data": {
      "text/plain": [
       "<tf.Tensor: shape=(), dtype=float32, numpy=0.642288>"
      ]
     },
     "execution_count": 78,
     "metadata": {},
     "output_type": "execute_result"
    }
   ],
   "source": [
    "E[0][17]"
   ]
  },
  {
   "cell_type": "code",
   "execution_count": 76,
   "id": "28b9b6ec-445f-4dc4-95a5-8acdaf2103f0",
   "metadata": {},
   "outputs": [
    {
     "data": {
      "text/plain": [
       "array([3.7], dtype=float32)"
      ]
     },
     "execution_count": 76,
     "metadata": {},
     "output_type": "execute_result"
    }
   ],
   "source": [
    "freqs[17]"
   ]
  },
  {
   "cell_type": "code",
   "execution_count": 71,
   "id": "2ea1e39d-e9d1-4048-a4e3-20e9c66fb4a7",
   "metadata": {},
   "outputs": [
    {
     "name": "stdout",
     "output_type": "stream",
     "text": [
      "5.258579e-05\n",
      "7.3530486e-05\n",
      "7.791226e-05\n",
      "6.233711e-05\n",
      "2.7883827e-05\n",
      "8.808087e-06\n",
      "4.1621443e-06\n",
      "1.8579913e-05\n",
      "4.8197377e-05\n",
      "9.118715e-05\n",
      "0.00011839208\n",
      "6.915274e-05\n",
      "2.2195542e-05\n",
      "0.0013101179\n",
      "0.011342212\n",
      "0.19726437\n",
      "0.61018944\n",
      "0.642288\n",
      "0.82448435\n",
      "0.79483426\n",
      "0.91449076\n",
      "0.79746616\n",
      "0.8849493\n",
      "0.9648868\n",
      "0.8481742\n",
      "0.87364817\n",
      "0.9074749\n",
      "0.8694333\n",
      "0.83345675\n",
      "0.8323768\n",
      "0.8546344\n",
      "0.8530754\n",
      "0.79412025\n",
      "0.7952522\n",
      "0.45097762\n",
      "0.102503724\n",
      "0.019772556\n",
      "0.0044602803\n",
      "0.0012134517\n",
      "0.00077590963\n",
      "0.0003544893\n",
      "0.00030405886\n",
      "0.00022121104\n",
      "0.00020122205\n",
      "0.00018621612\n",
      "0.00015683619\n",
      "0.00012651547\n",
      "0.00010590644\n",
      "8.7764136e-05\n",
      "9.96667e-05\n",
      "7.217824e-05\n"
     ]
    }
   ],
   "source": [
    "for i in E[0]:\n",
    "    print(i.numpy())"
   ]
  },
  {
   "cell_type": "code",
   "execution_count": 21,
   "id": "f6b88a93-0b0b-42bc-ba99-4ca57d6f0a3d",
   "metadata": {},
   "outputs": [
    {
     "data": {
      "text/plain": [
       "array([3.7], dtype=float32)"
      ]
     },
     "execution_count": 21,
     "metadata": {},
     "output_type": "execute_result"
    }
   ],
   "source": [
    "freqs[lb + 1]"
   ]
  },
  {
   "cell_type": "code",
   "execution_count": 22,
   "id": "cef0e4d3-0e57-4f10-a4ce-9980e7df93ad",
   "metadata": {},
   "outputs": [],
   "source": [
    "desired_E = E[: , lb + 1: rb]"
   ]
  },
  {
   "cell_type": "code",
   "execution_count": 23,
   "id": "ca137aeb-51fc-4553-88bd-72f7d5b560e0",
   "metadata": {},
   "outputs": [
    {
     "data": {
      "text/plain": [
       "<tf.Tensor: shape=(1, 17), dtype=float32, numpy=\n",
       "array([[0.65623575, 0.82333624, 0.79483694, 0.8844146 , 0.79324514,\n",
       "        0.9119164 , 0.9655333 , 0.8584281 , 0.87947786, 0.8974844 ,\n",
       "        0.88338107, 0.8409991 , 0.8259543 , 0.8866119 , 0.86257255,\n",
       "        0.7958137 , 0.8109648 ]], dtype=float32)>"
      ]
     },
     "execution_count": 23,
     "metadata": {},
     "output_type": "execute_result"
    }
   ],
   "source": [
    "desired_E"
   ]
  },
  {
   "cell_type": "code",
   "execution_count": 24,
   "id": "2adcf11f-abe0-41b3-bc33-77cba13c9c07",
   "metadata": {},
   "outputs": [],
   "source": [
    "desired_P = 10**(-1 / 10)"
   ]
  },
  {
   "cell_type": "code",
   "execution_count": 25,
   "id": "af779acb-c228-4b30-94fa-5e492933f139",
   "metadata": {},
   "outputs": [
    {
     "data": {
      "text/plain": [
       "0.7943282347242815"
      ]
     },
     "execution_count": 25,
     "metadata": {},
     "output_type": "execute_result"
    }
   ],
   "source": [
    "desired_P"
   ]
  },
  {
   "cell_type": "code",
   "execution_count": 26,
   "id": "34a7e050-254d-4314-b7f7-02f2c17f9ffa",
   "metadata": {},
   "outputs": [],
   "source": [
    "desired_condition = desired_E < desired_P"
   ]
  },
  {
   "cell_type": "code",
   "execution_count": 27,
   "id": "a6a7b527-259e-4b3e-a558-e8b02225f771",
   "metadata": {},
   "outputs": [],
   "source": [
    "a = desired_P**(1 - 3)"
   ]
  },
  {
   "cell_type": "code",
   "execution_count": 28,
   "id": "0dd8af29-0956-4bb7-b7c1-b1387c7ce6fc",
   "metadata": {},
   "outputs": [],
   "source": [
    "desired_E = tf.where(desired_condition, desired_P - desired_E, 0)"
   ]
  },
  {
   "cell_type": "code",
   "execution_count": 29,
   "id": "ca58bc6f-d209-4d2f-bc5a-a02d63982004",
   "metadata": {},
   "outputs": [
    {
     "data": {
      "text/plain": [
       "<tf.Tensor: shape=(1, 17), dtype=float32, numpy=\n",
       "array([[0.13809246, 0.        , 0.        , 0.        , 0.00108308,\n",
       "        0.        , 0.        , 0.        , 0.        , 0.        ,\n",
       "        0.        , 0.        , 0.        , 0.        , 0.        ,\n",
       "        0.        , 0.        ]], dtype=float32)>"
      ]
     },
     "execution_count": 29,
     "metadata": {},
     "output_type": "execute_result"
    }
   ],
   "source": [
    "desired_E"
   ]
  },
  {
   "cell_type": "code",
   "execution_count": 30,
   "id": "a3955066-5566-40aa-a4b0-f6d6f6b9b6bd",
   "metadata": {},
   "outputs": [],
   "source": [
    "desired_E = E[: , lb: rb + 1]"
   ]
  },
  {
   "cell_type": "code",
   "execution_count": 31,
   "id": "61d2a8a5-c398-4777-8567-e50e0174a268",
   "metadata": {},
   "outputs": [
    {
     "data": {
      "text/plain": [
       "<tf.Tensor: shape=(1, 19), dtype=float32, numpy=\n",
       "array([[0.61752844, 0.65623575, 0.82333624, 0.79483694, 0.8844146 ,\n",
       "        0.79324514, 0.9119164 , 0.9655333 , 0.8584281 , 0.87947786,\n",
       "        0.8974844 , 0.88338107, 0.8409991 , 0.8259543 , 0.8866119 ,\n",
       "        0.86257255, 0.7958137 , 0.8109648 , 0.45140105]], dtype=float32)>"
      ]
     },
     "execution_count": 31,
     "metadata": {},
     "output_type": "execute_result"
    }
   ],
   "source": [
    "desired_E"
   ]
  },
  {
   "cell_type": "code",
   "execution_count": 32,
   "id": "9b8a8e0c-50e6-4625-b7ac-aa1a294d778a",
   "metadata": {},
   "outputs": [],
   "source": [
    "\n",
    "\n",
    "    \n",
    "\n",
    "    \n",
    "    \n",
    "\n",
    "    desired = tf.reduce_sum(desired_E, axis=-1)"
   ]
  }
 ],
 "metadata": {
  "kernelspec": {
   "display_name": "Python 3 (ipykernel)",
   "language": "python",
   "name": "python3"
  },
  "language_info": {
   "codemirror_mode": {
    "name": "ipython",
    "version": 3
   },
   "file_extension": ".py",
   "mimetype": "text/x-python",
   "name": "python",
   "nbconvert_exporter": "python",
   "pygments_lexer": "ipython3",
   "version": "3.9.17"
  }
 },
 "nbformat": 4,
 "nbformat_minor": 5
}
