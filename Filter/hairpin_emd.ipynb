{
 "cells": [
  {
   "cell_type": "code",
   "execution_count": null,
   "id": "e61a8d7e-7393-4ddd-8bf6-9c2df1a28aaa",
   "metadata": {},
   "outputs": [],
   "source": [
    "import pandas as pd\n",
    "import tensorflow as tf\n",
    "import numpy as np\n",
    "from sklearn.model_selection import train_test_split\n",
    "from datetime import datetime\n",
    "from tqdm import tqdm"
   ]
  },
  {
   "cell_type": "code",
   "execution_count": null,
   "id": "03ddcd66-bac7-4e40-be08-061ff99e6e3b",
   "metadata": {},
   "outputs": [],
   "source": [
    "BATCH_SIZE = 512\n",
    "EPOCHS = 500\n",
    "\n",
    "initial_learning_rate = 0.001\n",
    "decay_steps = 1000  # 每隔多少个steps衰减一次\n",
    "decay_rate = 0.96  # 学习率衰减因子"
   ]
  },
  {
   "cell_type": "code",
   "execution_count": null,
   "id": "8d043c3a-5098-44fe-9cb4-7a1426a2beb3",
   "metadata": {},
   "outputs": [],
   "source": [
    "AS_dataset = pd.read_csv('./hairpin_filter_dataset.csv', encoding='utf-8')"
   ]
  },
  {
   "cell_type": "code",
   "execution_count": null,
   "id": "98219402-04ac-47ca-a103-4775eb454054",
   "metadata": {},
   "outputs": [],
   "source": [
    "full_X = AS_dataset.loc[::2,'freq':'S1'].to_numpy(dtype = np.float32)\n",
    "full_y = AS_dataset.loc[::2,'S21r':'S21i'].to_numpy(dtype = np.float32)"
   ]
  },
  {
   "cell_type": "code",
   "execution_count": null,
   "id": "1b4f4231-62b5-4cf4-9349-073c31574cc8",
   "metadata": {},
   "outputs": [],
   "source": [
    "# 归一化\n",
    "# full_X[:, 0] = (full_X[:, 0] - 0.1) / (9.0 - 0.1)\n",
    "full_X[:, 1] = (full_X[:, 1] - 200) / (2000 - 200)\n",
    "full_X[:, 2] = (full_X[:, 2] - 200) / (2000 - 200)\n",
    "full_X[:, 3] = (full_X[:, 3] - 200) / (2000 - 200)\n",
    "full_X[:, 4] = (full_X[:, 4] - 200) / (4500 - 200)\n",
    "full_X[:, 5] = (full_X[:, 5] - 200) / (4500 - 200)\n",
    "full_X[:, 6] = (full_X[:, 6] - 200) / (4500 - 200)\n",
    "full_X[:, 7] = (full_X[:, 7] - 200) / (4500 - 200)\n",
    "full_X[:, 8] = (full_X[:, 8] - 9000) / (12000 - 9000)\n",
    "full_X[:, 9] = (full_X[:, 9] - 100) / (300 - 100)"
   ]
  },
  {
   "cell_type": "code",
   "execution_count": null,
   "id": "37c485cc-0a34-4b4f-a74c-e8167a60611e",
   "metadata": {},
   "outputs": [],
   "source": [
    "X_train, X_vali, y_train, y_vali = train_test_split(full_X, full_y, test_size=0.05, random_state=0)"
   ]
  },
  {
   "cell_type": "code",
   "execution_count": null,
   "id": "e8c2594c-85d8-4d57-bdc5-967fe248357a",
   "metadata": {},
   "outputs": [],
   "source": [
    "dataset_train = tf.data.Dataset.from_tensor_slices((X_train, y_train))\n",
    "dataset_train = dataset_train.shuffle(buffer_size=X_train.shape[0])\n",
    "dataset_train = dataset_train.batch(BATCH_SIZE)\n",
    "dataset_train = dataset_train.prefetch(tf.data.experimental.AUTOTUNE)"
   ]
  },
  {
   "cell_type": "code",
   "execution_count": null,
   "id": "d7deab0f-4383-4930-9ee8-9719e9ed8246",
   "metadata": {},
   "outputs": [],
   "source": [
    "class MLP(tf.keras.Model):\n",
    "    def __init__(self):\n",
    "        super().__init__()\n",
    "        self.emb = tf.keras.layers.Embedding(101, 9)\n",
    "        \n",
    "        self.dense0a = tf.keras.layers.Dense(units=256)\n",
    "        self.dense0b = tf.keras.layers.Dense(units=256)\n",
    "        \n",
    "        self.dense1 = tf.keras.layers.Dense(units=640, activation=tf.nn.leaky_relu)\n",
    "        \n",
    "        self.dense2 = tf.keras.layers.Dense(units=736, activation=tf.nn.leaky_relu)\n",
    "        self.bn2 = tf.keras.layers.BatchNormalization()\n",
    "        \n",
    "        self.dense3 = tf.keras.layers.Dense(units=672, activation=tf.nn.leaky_relu)\n",
    "        \n",
    "        self.dense4 = tf.keras.layers.Dense(units=576)\n",
    "        self.bn4 = tf.keras.layers.BatchNormalization()\n",
    "        \n",
    "        self.dense5 = tf.keras.layers.Dense(units=32, activation=tf.nn.leaky_relu)\n",
    "        self.bn5 = tf.keras.layers.BatchNormalization()\n",
    "        \n",
    "        self.dense6 = tf.keras.layers.Dense(units=2)\n",
    "\n",
    "    def call(self, inputs):\n",
    "        \n",
    "        f = tf.cast(tf.round(inputs[:, 0] * 10), tf.int8)\n",
    "        g = inputs[:, 1:]\n",
    "        x1 = self.dense0a(self.emb(f))\n",
    "        x2 = self.dense0b(g)\n",
    "        x = x1 + x2\n",
    "        \n",
    "        x = self.dense1(x)\n",
    "\n",
    "        x = self.bn2(self.dense2(x))\n",
    "\n",
    "        x = self.dense3(x)\n",
    "        \n",
    "        x = self.bn4(self.dense4(x))\n",
    "\n",
    "        x = self.bn5(self.dense5(x))\n",
    "\n",
    "        output = self.dense6(x)\n",
    "        \n",
    "        return output"
   ]
  },
  {
   "cell_type": "code",
   "execution_count": null,
   "id": "03f668d1-bbae-45db-8868-672c5a9a6007",
   "metadata": {},
   "outputs": [],
   "source": [
    "model = MLP()"
   ]
  },
  {
   "cell_type": "code",
   "execution_count": null,
   "id": "f7c06d24-b36c-4fff-8e5c-e3b51fed2767",
   "metadata": {},
   "outputs": [],
   "source": [
    "learning_rate = tf.keras.optimizers.schedules.ExponentialDecay(\n",
    "        initial_learning_rate,\n",
    "        decay_steps,\n",
    "        decay_rate,\n",
    "        staircase=True  # 是否以指数方式精确衰减，默认False，若为True则每隔decay_steps学习率按decay_rate衰减\n",
    "    )"
   ]
  },
  {
   "cell_type": "code",
   "execution_count": null,
   "id": "3bcb16e9-6aac-4b79-94e2-5199ea545a4d",
   "metadata": {},
   "outputs": [],
   "source": [
    "optimizer = tf.keras.optimizers.Adam(learning_rate=learning_rate)"
   ]
  },
  {
   "cell_type": "code",
   "execution_count": null,
   "id": "aa07d97c-96cd-4e06-993f-f858d2bcfe42",
   "metadata": {},
   "outputs": [],
   "source": []
  },
  {
   "cell_type": "code",
   "execution_count": null,
   "id": "86f3bd0d-4d25-405d-a8a2-628ac19c7a91",
   "metadata": {},
   "outputs": [],
   "source": [
    "for i in range(50):\n",
    "    for X, y in tqdm(dataset_train):\n",
    "        with tf.GradientTape() as tape:\n",
    "            y_pred = model(X)\n",
    "            tr_mse = tf.reduce_mean(tf.square(y_pred - y))\n",
    "        grads = tape.gradient(tr_mse, model.trainable_variables)\n",
    "        optimizer.apply_gradients(grads_and_vars=zip(grads, model.trainable_variables))\n",
    "        \n",
    "    tr_r2 = 1 - tf.reduce_sum(tf.square(y_pred - y)) / tf.reduce_sum(tf.square(y - tf.reduce_mean(y)))\n",
    "    p_y_vali = model(X_vali)\n",
    "    mse_vali = tf.reduce_mean(tf.square(p_y_vali - y_vali))\n",
    "    r2_vali = 1 - tf.reduce_sum(tf.square(p_y_vali - y_vali)) / tf.reduce_sum(tf.square(y_vali - tf.reduce_mean(y_vali)))\n",
    "    \n",
    "    print(f'epoch{i}\\t training loss: {tr_mse}\\t training r2: {tr_r2}\\t vali loss: {mse_vali}\\t vali r2: {r2_vali}')\n",
    "    \n",
    "    # print(f\"Epoch: {i}\\t geo_seen_freq_seen(train): {tr_mse}\\t geo_unseen_freq_seen: {mse_geo_unseen_freq_seen}\\t geo_seen_freq_unseen: {mse_geo_seen_freq_unseen}\\t geo_unseen_freq_unseen: {mse_geo_unseen_freq_unseen}\")\n",
    "    # log.append({'epoch': i, 'geo_seen_freq_seen': tr_mse, 'geo_unseen_freq_seen': mse_geo_unseen_freq_seen, 'geo_seen_freq_unseen': mse_geo_seen_freq_unseen, 'geo_unseen_freq_unseen': mse_geo_unseen_freq_unseen})\n",
    "    # print(model.emb.variables[0][45])\n",
    "    # visual(model.emb.variables[0].numpy())"
   ]
  },
  {
   "cell_type": "code",
   "execution_count": null,
   "id": "6503de66-c812-488f-bcbe-2786f60f580f",
   "metadata": {},
   "outputs": [],
   "source": []
  }
 ],
 "metadata": {
  "kernelspec": {
   "display_name": "Python 3 (ipykernel)",
   "language": "python",
   "name": "python3"
  },
  "language_info": {
   "codemirror_mode": {
    "name": "ipython",
    "version": 3
   },
   "file_extension": ".py",
   "mimetype": "text/x-python",
   "name": "python",
   "nbconvert_exporter": "python",
   "pygments_lexer": "ipython3",
   "version": "3.9.17"
  }
 },
 "nbformat": 4,
 "nbformat_minor": 5
}
